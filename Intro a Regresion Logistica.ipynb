{
 "cells": [
  {
   "cell_type": "markdown",
   "id": "78c33584",
   "metadata": {},
   "source": [
    "# Fundamentos Teóricos de la Regresión Logística\n",
    "\n",
    "La regresión logística es un método estadístico utilizado para modelar la probabilidad de que un evento binario ocurra. Es decir, se utiliza para problemas de clasificación donde la variable dependiente es categórica (por ejemplo, sobrevivir o no sobrevivir).\n",
    "\n",
    "### Ecuación de la Regresión Logística\n",
    "La regresión logística utiliza la función sigmoide para modelar probabilidades:\n",
    "\n",
    "$$ \\hat{y} = \\frac{1}{1 + e^{-z}} $$\n",
    "\n",
    "Donde:\n",
    "- $\\hat{y}$: Probabilidad estimada de que el evento ocurra.\n",
    "- $z$: Combinación lineal de las variables independientes ($z = \\beta_0 + \\beta_1x_1 + \\beta_2x_2 + \\dots + \\beta_nx_n$).\n",
    "\n",
    "### Supuestos de la Regresión Logística\n",
    "1. La variable dependiente es binaria.\n",
    "2. Las observaciones son independientes entre sí.\n",
    "3. No hay multicolinealidad entre las variables independientes.\n",
    "4. Relación lineal entre las variables independientes y el logit de la variable dependiente.\n",
    "\n",
    "### Fundamento Matemático\n",
    "La regresión logística maximiza la verosimilitud de los datos observados. La función de verosimilitud es:\n",
    "\n",
    "$$ L(\\beta) = \\prod_{i=1}^n \\hat{y}_i^{y_i} (1 - \\hat{y}_i)^{1 - y_i} $$\n",
    "\n",
    "Donde $y_i$ son los valores observados y $\\hat{y}_i$ son las probabilidades predichas. El objetivo es encontrar los coeficientes $\\beta$ que maximizan esta función.\n",
    "\n",
    "### Fundamento Estadístico\n",
    "La regresión logística asume que el logit (logaritmo de las probabilidades) sigue una relación lineal con las variables independientes:\n",
    "\n",
    "$$ \\text{logit}(\\hat{y}) = \\ln\\left(\\frac{\\hat{y}}{1 - \\hat{y}}\\right) = \\beta_0 + \\beta_1x_1 + \\beta_2x_2 + \\dots + \\beta_nx_n $$\n",
    "\n",
    "Esto permite interpretar los coeficientes como el cambio en el logit por unidad de cambio en la variable independiente."
   ]
  },
  {
   "cell_type": "markdown",
   "id": "c05c052f",
   "metadata": {},
   "source": [
    "# ¿Cómo funciona la Regresión Logística?\n",
    "\n",
    "La regresión logística es un modelo de clasificación que predice la probabilidad de que una observación pertenezca a una clase específica. Utiliza la función sigmoide para transformar una combinación lineal de las variables independientes en una probabilidad.\n",
    "\n",
    "---\n",
    "\n",
    "## Pasos de la Regresión Logística\n",
    "\n",
    "- **1. Transformar las probabilidades en logits:**  \n",
    "  La regresión logística modela el logit (logaritmo de las probabilidades):\n",
    "\n",
    "$$\n",
    "  \\text{logit}(\\hat{y}) = \\ln\\left(\\frac{\\hat{y}}{1 - \\hat{y}}\\right)\n",
    "$$\n",
    "\n",
    "- **2. Ajustar los coeficientes:**  \n",
    "  Los coeficientes $\\beta$ se ajustan para maximizar la función de verosimilitud, que mide qué tan bien el modelo predice los datos observados.\n",
    "\n",
    "- **3. Predecir probabilidades:**  \n",
    "  Una vez ajustado el modelo, se calculan las probabilidades de pertenecer a la clase positiva:\n",
    "\n",
    "$$\n",
    "  \\hat{y} = \\frac{1}{1 + e^{-z}}\n",
    "$$\n",
    "\n",
    "- **4. Clasificar observaciones:**  \n",
    "  Se utiliza un umbral (por defecto 0.5) para clasificar las observaciones en una clase u otra.\n",
    "\n",
    "---\n",
    "\n",
    "## Ejemplo práctico\n",
    "\n",
    "Supón que estás prediciendo si un pasajero del Titanic sobrevivió o no basado en su edad, clase y género. El modelo ajustado podría ser:\n",
    "\n",
    "$$\n",
    "\\text{logit}(\\hat{y}) = -1.5 + 0.02 \\cdot \\text{edad} - 0.8 \\cdot \\text{clase} + 2.3 \\cdot \\text{género}\n",
    "$$\n",
    "\n",
    "Esto significa que:\n",
    "- Cada año adicional de edad reduce ligeramente la probabilidad de sobrevivir.\n",
    "- Estar en una clase más alta aumenta la probabilidad de sobrevivir.\n",
    "- Ser mujer aumenta significativamente la probabilidad de sobrevivir.\n",
    "\n",
    "---\n",
    "\n",
    "Este proceso permite interpretar los coeficientes y predecir probabilidades para nuevas observaciones."
   ]
  },
  {
   "cell_type": "code",
   "execution_count": 1,
   "id": "d86ac56f",
   "metadata": {},
   "outputs": [
    {
     "name": "stdout",
     "output_type": "stream",
     "text": [
      "fatal: destination path 'SQLite_databases_for_learning_data_science' already exists and is not an empty directory.\n",
      "/Users/jorgeramirez/Documents/Python Projects/3 Modelos Predictivos/SQLite_databases_for_learning_data_science\n"
     ]
    }
   ],
   "source": [
    "# Clonar el repositorio y cambiar de directorio\n",
    "!git clone https://github.com/davidjamesknight/SQLite_databases_for_learning_data_science\n",
    "%cd SQLite_databases_for_learning_data_science"
   ]
  },
  {
   "cell_type": "code",
   "execution_count": 2,
   "id": "1f9db083",
   "metadata": {},
   "outputs": [
    {
     "data": {
      "text/html": [
       "<div>\n",
       "<style scoped>\n",
       "    .dataframe tbody tr th:only-of-type {\n",
       "        vertical-align: middle;\n",
       "    }\n",
       "\n",
       "    .dataframe tbody tr th {\n",
       "        vertical-align: top;\n",
       "    }\n",
       "\n",
       "    .dataframe thead th {\n",
       "        text-align: right;\n",
       "    }\n",
       "</style>\n",
       "<table border=\"1\" class=\"dataframe\">\n",
       "  <thead>\n",
       "    <tr style=\"text-align: right;\">\n",
       "      <th></th>\n",
       "      <th>survived</th>\n",
       "      <th>pclass</th>\n",
       "      <th>age</th>\n",
       "      <th>sibsp</th>\n",
       "      <th>parch</th>\n",
       "      <th>fare</th>\n",
       "      <th>adult_male</th>\n",
       "      <th>alone</th>\n",
       "      <th>sex</th>\n",
       "      <th>embarked</th>\n",
       "    </tr>\n",
       "  </thead>\n",
       "  <tbody>\n",
       "    <tr>\n",
       "      <th>0</th>\n",
       "      <td>0</td>\n",
       "      <td>3</td>\n",
       "      <td>22.0</td>\n",
       "      <td>1</td>\n",
       "      <td>0</td>\n",
       "      <td>7.2500</td>\n",
       "      <td>1</td>\n",
       "      <td>0</td>\n",
       "      <td>male</td>\n",
       "      <td>S</td>\n",
       "    </tr>\n",
       "    <tr>\n",
       "      <th>1</th>\n",
       "      <td>1</td>\n",
       "      <td>1</td>\n",
       "      <td>38.0</td>\n",
       "      <td>1</td>\n",
       "      <td>0</td>\n",
       "      <td>71.2833</td>\n",
       "      <td>0</td>\n",
       "      <td>0</td>\n",
       "      <td>female</td>\n",
       "      <td>C</td>\n",
       "    </tr>\n",
       "    <tr>\n",
       "      <th>2</th>\n",
       "      <td>1</td>\n",
       "      <td>3</td>\n",
       "      <td>26.0</td>\n",
       "      <td>0</td>\n",
       "      <td>0</td>\n",
       "      <td>7.9250</td>\n",
       "      <td>0</td>\n",
       "      <td>1</td>\n",
       "      <td>female</td>\n",
       "      <td>S</td>\n",
       "    </tr>\n",
       "    <tr>\n",
       "      <th>3</th>\n",
       "      <td>1</td>\n",
       "      <td>1</td>\n",
       "      <td>35.0</td>\n",
       "      <td>1</td>\n",
       "      <td>0</td>\n",
       "      <td>53.1000</td>\n",
       "      <td>0</td>\n",
       "      <td>0</td>\n",
       "      <td>female</td>\n",
       "      <td>S</td>\n",
       "    </tr>\n",
       "    <tr>\n",
       "      <th>4</th>\n",
       "      <td>0</td>\n",
       "      <td>3</td>\n",
       "      <td>35.0</td>\n",
       "      <td>0</td>\n",
       "      <td>0</td>\n",
       "      <td>8.0500</td>\n",
       "      <td>1</td>\n",
       "      <td>1</td>\n",
       "      <td>male</td>\n",
       "      <td>S</td>\n",
       "    </tr>\n",
       "  </tbody>\n",
       "</table>\n",
       "</div>"
      ],
      "text/plain": [
       "   survived  pclass   age  sibsp  parch     fare  adult_male  alone     sex  \\\n",
       "0         0       3  22.0      1      0   7.2500           1      0    male   \n",
       "1         1       1  38.0      1      0  71.2833           0      0  female   \n",
       "2         1       3  26.0      0      0   7.9250           0      1  female   \n",
       "3         1       1  35.0      1      0  53.1000           0      0  female   \n",
       "4         0       3  35.0      0      0   8.0500           1      1    male   \n",
       "\n",
       "  embarked  \n",
       "0        S  \n",
       "1        C  \n",
       "2        S  \n",
       "3        S  \n",
       "4        S  "
      ]
     },
     "execution_count": 2,
     "metadata": {},
     "output_type": "execute_result"
    }
   ],
   "source": [
    "# Conectar a la base de datos y realizar el query para obtener el dataset del Titanic\n",
    "import sqlite3\n",
    "import pandas as pd\n",
    "\n",
    "conn = sqlite3.connect('titanic.db')\n",
    "\n",
    "query = \"\"\"\n",
    "SELECT\n",
    "    O.survived,\n",
    "    O.pclass,\n",
    "    O.age,\n",
    "    O.sibsp,\n",
    "    O.parch,\n",
    "    O.fare,\n",
    "    O.adult_male,\n",
    "    O.alone,\n",
    "    S.sex,\n",
    "    E.embarked\n",
    "FROM\n",
    "    Observation AS O\n",
    "JOIN\n",
    "    Sex AS S ON O.sex_id = S.sex_id\n",
    "JOIN\n",
    "    Embarked AS E ON O.embarked_id = E.embarked_id\n",
    "\"\"\"\n",
    "df = pd.read_sql_query(query, conn)\n",
    "df.head()"
   ]
  },
  {
   "cell_type": "code",
   "execution_count": 3,
   "id": "64f29734",
   "metadata": {},
   "outputs": [],
   "source": [
    "# Dividir el dataset en conjuntos de entrenamiento y prueba\n",
    "from sklearn.model_selection import train_test_split\n",
    "\n",
    "X = df.drop(columns=['survived'])\n",
    "y = df['survived']\n",
    "\n",
    "X_train, X_test, y_train, y_test = train_test_split(\n",
    "    X, \n",
    "    y, \n",
    "    test_size=0.2, \n",
    "    random_state=42\n",
    ")"
   ]
  },
  {
   "cell_type": "markdown",
   "id": "800af9da",
   "metadata": {},
   "source": [
    "## Aseguramiento de calidad de los datos"
   ]
  },
  {
   "cell_type": "code",
   "execution_count": 4,
   "id": "739780e0",
   "metadata": {},
   "outputs": [
    {
     "data": {
      "text/plain": [
       "pclass          0\n",
       "age           140\n",
       "sibsp           0\n",
       "parch           0\n",
       "fare            0\n",
       "adult_male      0\n",
       "alone           0\n",
       "sex             0\n",
       "embarked        2\n",
       "dtype: int64"
      ]
     },
     "execution_count": 4,
     "metadata": {},
     "output_type": "execute_result"
    }
   ],
   "source": [
    "X_train.isnull().sum()"
   ]
  },
  {
   "cell_type": "markdown",
   "id": "a3ef092e",
   "metadata": {},
   "source": [
    "### Imputar valores faltantes"
   ]
  },
  {
   "cell_type": "code",
   "execution_count": 5,
   "id": "25213d69",
   "metadata": {},
   "outputs": [
    {
     "data": {
      "application/vnd.plotly.v1+json": {
       "config": {
        "plotlyServerURL": "https://plot.ly"
       },
       "data": [
        {
         "bingroup": "x",
         "hovertemplate": "age=%{x}<br>count=%{y}<extra></extra>",
         "legendgroup": "",
         "marker": {
          "color": "#636efa",
          "opacity": 0.7,
          "pattern": {
           "shape": ""
          }
         },
         "name": "",
         "nbinsx": 30,
         "orientation": "v",
         "showlegend": false,
         "type": "histogram",
         "x": {
          "bdata": "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",
          "dtype": "f8"
         },
         "xaxis": "x",
         "yaxis": "y"
        },
        {
         "hovertemplate": "age=%{x}<extra></extra>",
         "legendgroup": "",
         "marker": {
          "color": "#636efa"
         },
         "name": "",
         "notched": true,
         "showlegend": false,
         "type": "box",
         "x": {
          "bdata": "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",
          "dtype": "f8"
         },
         "xaxis": "x2",
         "yaxis": "y2"
        }
       ],
       "layout": {
        "bargap": 0.2,
        "barmode": "relative",
        "legend": {
         "tracegroupgap": 0
        },
        "template": {
         "data": {
          "bar": [
           {
            "error_x": {
             "color": "#2a3f5f"
            },
            "error_y": {
             "color": "#2a3f5f"
            },
            "marker": {
             "line": {
              "color": "#E5ECF6",
              "width": 0.5
             },
             "pattern": {
              "fillmode": "overlay",
              "size": 10,
              "solidity": 0.2
             }
            },
            "type": "bar"
           }
          ],
          "barpolar": [
           {
            "marker": {
             "line": {
              "color": "#E5ECF6",
              "width": 0.5
             },
             "pattern": {
              "fillmode": "overlay",
              "size": 10,
              "solidity": 0.2
             }
            },
            "type": "barpolar"
           }
          ],
          "carpet": [
           {
            "aaxis": {
             "endlinecolor": "#2a3f5f",
             "gridcolor": "white",
             "linecolor": "white",
             "minorgridcolor": "white",
             "startlinecolor": "#2a3f5f"
            },
            "baxis": {
             "endlinecolor": "#2a3f5f",
             "gridcolor": "white",
             "linecolor": "white",
             "minorgridcolor": "white",
             "startlinecolor": "#2a3f5f"
            },
            "type": "carpet"
           }
          ],
          "choropleth": [
           {
            "colorbar": {
             "outlinewidth": 0,
             "ticks": ""
            },
            "type": "choropleth"
           }
          ],
          "contour": [
           {
            "colorbar": {
             "outlinewidth": 0,
             "ticks": ""
            },
            "colorscale": [
             [
              0,
              "#0d0887"
             ],
             [
              0.1111111111111111,
              "#46039f"
             ],
             [
              0.2222222222222222,
              "#7201a8"
             ],
             [
              0.3333333333333333,
              "#9c179e"
             ],
             [
              0.4444444444444444,
              "#bd3786"
             ],
             [
              0.5555555555555556,
              "#d8576b"
             ],
             [
              0.6666666666666666,
              "#ed7953"
             ],
             [
              0.7777777777777778,
              "#fb9f3a"
             ],
             [
              0.8888888888888888,
              "#fdca26"
             ],
             [
              1,
              "#f0f921"
             ]
            ],
            "type": "contour"
           }
          ],
          "contourcarpet": [
           {
            "colorbar": {
             "outlinewidth": 0,
             "ticks": ""
            },
            "type": "contourcarpet"
           }
          ],
          "heatmap": [
           {
            "colorbar": {
             "outlinewidth": 0,
             "ticks": ""
            },
            "colorscale": [
             [
              0,
              "#0d0887"
             ],
             [
              0.1111111111111111,
              "#46039f"
             ],
             [
              0.2222222222222222,
              "#7201a8"
             ],
             [
              0.3333333333333333,
              "#9c179e"
             ],
             [
              0.4444444444444444,
              "#bd3786"
             ],
             [
              0.5555555555555556,
              "#d8576b"
             ],
             [
              0.6666666666666666,
              "#ed7953"
             ],
             [
              0.7777777777777778,
              "#fb9f3a"
             ],
             [
              0.8888888888888888,
              "#fdca26"
             ],
             [
              1,
              "#f0f921"
             ]
            ],
            "type": "heatmap"
           }
          ],
          "histogram": [
           {
            "marker": {
             "pattern": {
              "fillmode": "overlay",
              "size": 10,
              "solidity": 0.2
             }
            },
            "type": "histogram"
           }
          ],
          "histogram2d": [
           {
            "colorbar": {
             "outlinewidth": 0,
             "ticks": ""
            },
            "colorscale": [
             [
              0,
              "#0d0887"
             ],
             [
              0.1111111111111111,
              "#46039f"
             ],
             [
              0.2222222222222222,
              "#7201a8"
             ],
             [
              0.3333333333333333,
              "#9c179e"
             ],
             [
              0.4444444444444444,
              "#bd3786"
             ],
             [
              0.5555555555555556,
              "#d8576b"
             ],
             [
              0.6666666666666666,
              "#ed7953"
             ],
             [
              0.7777777777777778,
              "#fb9f3a"
             ],
             [
              0.8888888888888888,
              "#fdca26"
             ],
             [
              1,
              "#f0f921"
             ]
            ],
            "type": "histogram2d"
           }
          ],
          "histogram2dcontour": [
           {
            "colorbar": {
             "outlinewidth": 0,
             "ticks": ""
            },
            "colorscale": [
             [
              0,
              "#0d0887"
             ],
             [
              0.1111111111111111,
              "#46039f"
             ],
             [
              0.2222222222222222,
              "#7201a8"
             ],
             [
              0.3333333333333333,
              "#9c179e"
             ],
             [
              0.4444444444444444,
              "#bd3786"
             ],
             [
              0.5555555555555556,
              "#d8576b"
             ],
             [
              0.6666666666666666,
              "#ed7953"
             ],
             [
              0.7777777777777778,
              "#fb9f3a"
             ],
             [
              0.8888888888888888,
              "#fdca26"
             ],
             [
              1,
              "#f0f921"
             ]
            ],
            "type": "histogram2dcontour"
           }
          ],
          "mesh3d": [
           {
            "colorbar": {
             "outlinewidth": 0,
             "ticks": ""
            },
            "type": "mesh3d"
           }
          ],
          "parcoords": [
           {
            "line": {
             "colorbar": {
              "outlinewidth": 0,
              "ticks": ""
             }
            },
            "type": "parcoords"
           }
          ],
          "pie": [
           {
            "automargin": true,
            "type": "pie"
           }
          ],
          "scatter": [
           {
            "fillpattern": {
             "fillmode": "overlay",
             "size": 10,
             "solidity": 0.2
            },
            "type": "scatter"
           }
          ],
          "scatter3d": [
           {
            "line": {
             "colorbar": {
              "outlinewidth": 0,
              "ticks": ""
             }
            },
            "marker": {
             "colorbar": {
              "outlinewidth": 0,
              "ticks": ""
             }
            },
            "type": "scatter3d"
           }
          ],
          "scattercarpet": [
           {
            "marker": {
             "colorbar": {
              "outlinewidth": 0,
              "ticks": ""
             }
            },
            "type": "scattercarpet"
           }
          ],
          "scattergeo": [
           {
            "marker": {
             "colorbar": {
              "outlinewidth": 0,
              "ticks": ""
             }
            },
            "type": "scattergeo"
           }
          ],
          "scattergl": [
           {
            "marker": {
             "colorbar": {
              "outlinewidth": 0,
              "ticks": ""
             }
            },
            "type": "scattergl"
           }
          ],
          "scattermap": [
           {
            "marker": {
             "colorbar": {
              "outlinewidth": 0,
              "ticks": ""
             }
            },
            "type": "scattermap"
           }
          ],
          "scattermapbox": [
           {
            "marker": {
             "colorbar": {
              "outlinewidth": 0,
              "ticks": ""
             }
            },
            "type": "scattermapbox"
           }
          ],
          "scatterpolar": [
           {
            "marker": {
             "colorbar": {
              "outlinewidth": 0,
              "ticks": ""
             }
            },
            "type": "scatterpolar"
           }
          ],
          "scatterpolargl": [
           {
            "marker": {
             "colorbar": {
              "outlinewidth": 0,
              "ticks": ""
             }
            },
            "type": "scatterpolargl"
           }
          ],
          "scatterternary": [
           {
            "marker": {
             "colorbar": {
              "outlinewidth": 0,
              "ticks": ""
             }
            },
            "type": "scatterternary"
           }
          ],
          "surface": [
           {
            "colorbar": {
             "outlinewidth": 0,
             "ticks": ""
            },
            "colorscale": [
             [
              0,
              "#0d0887"
             ],
             [
              0.1111111111111111,
              "#46039f"
             ],
             [
              0.2222222222222222,
              "#7201a8"
             ],
             [
              0.3333333333333333,
              "#9c179e"
             ],
             [
              0.4444444444444444,
              "#bd3786"
             ],
             [
              0.5555555555555556,
              "#d8576b"
             ],
             [
              0.6666666666666666,
              "#ed7953"
             ],
             [
              0.7777777777777778,
              "#fb9f3a"
             ],
             [
              0.8888888888888888,
              "#fdca26"
             ],
             [
              1,
              "#f0f921"
             ]
            ],
            "type": "surface"
           }
          ],
          "table": [
           {
            "cells": {
             "fill": {
              "color": "#EBF0F8"
             },
             "line": {
              "color": "white"
             }
            },
            "header": {
             "fill": {
              "color": "#C8D4E3"
             },
             "line": {
              "color": "white"
             }
            },
            "type": "table"
           }
          ]
         },
         "layout": {
          "annotationdefaults": {
           "arrowcolor": "#2a3f5f",
           "arrowhead": 0,
           "arrowwidth": 1
          },
          "autotypenumbers": "strict",
          "coloraxis": {
           "colorbar": {
            "outlinewidth": 0,
            "ticks": ""
           }
          },
          "colorscale": {
           "diverging": [
            [
             0,
             "#8e0152"
            ],
            [
             0.1,
             "#c51b7d"
            ],
            [
             0.2,
             "#de77ae"
            ],
            [
             0.3,
             "#f1b6da"
            ],
            [
             0.4,
             "#fde0ef"
            ],
            [
             0.5,
             "#f7f7f7"
            ],
            [
             0.6,
             "#e6f5d0"
            ],
            [
             0.7,
             "#b8e186"
            ],
            [
             0.8,
             "#7fbc41"
            ],
            [
             0.9,
             "#4d9221"
            ],
            [
             1,
             "#276419"
            ]
           ],
           "sequential": [
            [
             0,
             "#0d0887"
            ],
            [
             0.1111111111111111,
             "#46039f"
            ],
            [
             0.2222222222222222,
             "#7201a8"
            ],
            [
             0.3333333333333333,
             "#9c179e"
            ],
            [
             0.4444444444444444,
             "#bd3786"
            ],
            [
             0.5555555555555556,
             "#d8576b"
            ],
            [
             0.6666666666666666,
             "#ed7953"
            ],
            [
             0.7777777777777778,
             "#fb9f3a"
            ],
            [
             0.8888888888888888,
             "#fdca26"
            ],
            [
             1,
             "#f0f921"
            ]
           ],
           "sequentialminus": [
            [
             0,
             "#0d0887"
            ],
            [
             0.1111111111111111,
             "#46039f"
            ],
            [
             0.2222222222222222,
             "#7201a8"
            ],
            [
             0.3333333333333333,
             "#9c179e"
            ],
            [
             0.4444444444444444,
             "#bd3786"
            ],
            [
             0.5555555555555556,
             "#d8576b"
            ],
            [
             0.6666666666666666,
             "#ed7953"
            ],
            [
             0.7777777777777778,
             "#fb9f3a"
            ],
            [
             0.8888888888888888,
             "#fdca26"
            ],
            [
             1,
             "#f0f921"
            ]
           ]
          },
          "colorway": [
           "#636efa",
           "#EF553B",
           "#00cc96",
           "#ab63fa",
           "#FFA15A",
           "#19d3f3",
           "#FF6692",
           "#B6E880",
           "#FF97FF",
           "#FECB52"
          ],
          "font": {
           "color": "#2a3f5f"
          },
          "geo": {
           "bgcolor": "white",
           "lakecolor": "white",
           "landcolor": "#E5ECF6",
           "showlakes": true,
           "showland": true,
           "subunitcolor": "white"
          },
          "hoverlabel": {
           "align": "left"
          },
          "hovermode": "closest",
          "mapbox": {
           "style": "light"
          },
          "paper_bgcolor": "white",
          "plot_bgcolor": "#E5ECF6",
          "polar": {
           "angularaxis": {
            "gridcolor": "white",
            "linecolor": "white",
            "ticks": ""
           },
           "bgcolor": "#E5ECF6",
           "radialaxis": {
            "gridcolor": "white",
            "linecolor": "white",
            "ticks": ""
           }
          },
          "scene": {
           "xaxis": {
            "backgroundcolor": "#E5ECF6",
            "gridcolor": "white",
            "gridwidth": 2,
            "linecolor": "white",
            "showbackground": true,
            "ticks": "",
            "zerolinecolor": "white"
           },
           "yaxis": {
            "backgroundcolor": "#E5ECF6",
            "gridcolor": "white",
            "gridwidth": 2,
            "linecolor": "white",
            "showbackground": true,
            "ticks": "",
            "zerolinecolor": "white"
           },
           "zaxis": {
            "backgroundcolor": "#E5ECF6",
            "gridcolor": "white",
            "gridwidth": 2,
            "linecolor": "white",
            "showbackground": true,
            "ticks": "",
            "zerolinecolor": "white"
           }
          },
          "shapedefaults": {
           "line": {
            "color": "#2a3f5f"
           }
          },
          "ternary": {
           "aaxis": {
            "gridcolor": "white",
            "linecolor": "white",
            "ticks": ""
           },
           "baxis": {
            "gridcolor": "white",
            "linecolor": "white",
            "ticks": ""
           },
           "bgcolor": "#E5ECF6",
           "caxis": {
            "gridcolor": "white",
            "linecolor": "white",
            "ticks": ""
           }
          },
          "title": {
           "x": 0.05
          },
          "xaxis": {
           "automargin": true,
           "gridcolor": "white",
           "linecolor": "white",
           "ticks": "",
           "title": {
            "standoff": 15
           },
           "zerolinecolor": "white",
           "zerolinewidth": 2
          },
          "yaxis": {
           "automargin": true,
           "gridcolor": "white",
           "linecolor": "white",
           "ticks": "",
           "title": {
            "standoff": 15
           },
           "zerolinecolor": "white",
           "zerolinewidth": 2
          }
         }
        },
        "title": {
         "text": "Distribución y Densidad de Edad"
        },
        "xaxis": {
         "anchor": "y",
         "domain": [
          0,
          1
         ],
         "title": {
          "text": "age"
         }
        },
        "xaxis2": {
         "anchor": "y2",
         "domain": [
          0,
          1
         ],
         "matches": "x",
         "showgrid": true,
         "showticklabels": false
        },
        "yaxis": {
         "anchor": "x",
         "domain": [
          0,
          0.8316
         ],
         "title": {
          "text": "count"
         }
        },
        "yaxis2": {
         "anchor": "x2",
         "domain": [
          0.8416,
          1
         ],
         "matches": "y2",
         "showgrid": false,
         "showline": false,
         "showticklabels": false,
         "ticks": ""
        }
       }
      }
     },
     "metadata": {},
     "output_type": "display_data"
    }
   ],
   "source": [
    "import plotly.express as px\n",
    "\n",
    "fig = px.histogram(\n",
    "    X_train, \n",
    "    x='age', \n",
    "    nbins=30, \n",
    "    title=f'Distribución y Densidad de Edad', \n",
    "    marginal=\"box\", \n",
    "opacity=0.7)\n",
    "\n",
    "fig.update_layout(bargap=0.2)\n",
    "\n",
    "fig.show()"
   ]
  },
  {
   "cell_type": "markdown",
   "id": "62949a8d",
   "metadata": {},
   "source": [
    "Como la variable \"Edad\" está sesgada hacia la derecha, usar la media podría darnos resultados sesgados al rellenar edades mayores a las deseadas. Para solucionar esto, utilizaremos la mediana para imputar los valores faltantes."
   ]
  },
  {
   "cell_type": "code",
   "execution_count": 6,
   "id": "b3f9701b",
   "metadata": {},
   "outputs": [
    {
     "name": "stdout",
     "output_type": "stream",
     "text": [
      "Porcentaje de faltantes en la columna \"embarked\" es 0.28%\n"
     ]
    }
   ],
   "source": [
    "porcentaje_faltantes = (X_train['embarked'].isnull().sum() / X_train.shape[0]) * 100\n",
    "print(f'Porcentaje de faltantes en la columna \"embarked\" es {porcentaje_faltantes:.2f}%')"
   ]
  },
  {
   "cell_type": "code",
   "execution_count": 7,
   "id": "e5d6a31d",
   "metadata": {},
   "outputs": [
    {
     "name": "stdout",
     "output_type": "stream",
     "text": [
      "Pasajeros embarcados agrupados por puerto (C = Cherburgo, Q = Queenstown, S = Southampton):\n",
      "embarked\n",
      "S    525\n",
      "C    125\n",
      "Q     60\n",
      "Name: count, dtype: int64\n"
     ]
    },
    {
     "data": {
      "application/vnd.plotly.v1+json": {
       "config": {
        "plotlyServerURL": "https://plot.ly"
       },
       "data": [
        {
         "bingroup": "x",
         "hovertemplate": "Puerto de embarque=%{x}<br>count=%{y}<extra></extra>",
         "legendgroup": "S",
         "marker": {
          "color": "rgb(102,194,165)",
          "pattern": {
           "shape": ""
          }
         },
         "name": "S",
         "orientation": "v",
         "showlegend": true,
         "type": "histogram",
         "x": [
          "S",
          "S",
          "S",
          "S",
          "S",
          "S",
          "S",
          "S",
          "S",
          "S",
          "S",
          "S",
          "S",
          "S",
          "S",
          "S",
          "S",
          "S",
          "S",
          "S",
          "S",
          "S",
          "S",
          "S",
          "S",
          "S",
          "S",
          "S",
          "S",
          "S",
          "S",
          "S",
          "S",
          "S",
          "S",
          "S",
          "S",
          "S",
          "S",
          "S",
          "S",
          "S",
          "S",
          "S",
          "S",
          "S",
          "S",
          "S",
          "S",
          "S",
          "S",
          "S",
          "S",
          "S",
          "S",
          "S",
          "S",
          "S",
          "S",
          "S",
          "S",
          "S",
          "S",
          "S",
          "S",
          "S",
          "S",
          "S",
          "S",
          "S",
          "S",
          "S",
          "S",
          "S",
          "S",
          "S",
          "S",
          "S",
          "S",
          "S",
          "S",
          "S",
          "S",
          "S",
          "S",
          "S",
          "S",
          "S",
          "S",
          "S",
          "S",
          "S",
          "S",
          "S",
          "S",
          "S",
          "S",
          "S",
          "S",
          "S",
          "S",
          "S",
          "S",
          "S",
          "S",
          "S",
          "S",
          "S",
          "S",
          "S",
          "S",
          "S",
          "S",
          "S",
          "S",
          "S",
          "S",
          "S",
          "S",
          "S",
          "S",
          "S",
          "S",
          "S",
          "S",
          "S",
          "S",
          "S",
          "S",
          "S",
          "S",
          "S",
          "S",
          "S",
          "S",
          "S",
          "S",
          "S",
          "S",
          "S",
          "S",
          "S",
          "S",
          "S",
          "S",
          "S",
          "S",
          "S",
          "S",
          "S",
          "S",
          "S",
          "S",
          "S",
          "S",
          "S",
          "S",
          "S",
          "S",
          "S",
          "S",
          "S",
          "S",
          "S",
          "S",
          "S",
          "S",
          "S",
          "S",
          "S",
          "S",
          "S",
          "S",
          "S",
          "S",
          "S",
          "S",
          "S",
          "S",
          "S",
          "S",
          "S",
          "S",
          "S",
          "S",
          "S",
          "S",
          "S",
          "S",
          "S",
          "S",
          "S",
          "S",
          "S",
          "S",
          "S",
          "S",
          "S",
          "S",
          "S",
          "S",
          "S",
          "S",
          "S",
          "S",
          "S",
          "S",
          "S",
          "S",
          "S",
          "S",
          "S",
          "S",
          "S",
          "S",
          "S",
          "S",
          "S",
          "S",
          "S",
          "S",
          "S",
          "S",
          "S",
          "S",
          "S",
          "S",
          "S",
          "S",
          "S",
          "S",
          "S",
          "S",
          "S",
          "S",
          "S",
          "S",
          "S",
          "S",
          "S",
          "S",
          "S",
          "S",
          "S",
          "S",
          "S",
          "S",
          "S",
          "S",
          "S",
          "S",
          "S",
          "S",
          "S",
          "S",
          "S",
          "S",
          "S",
          "S",
          "S",
          "S",
          "S",
          "S",
          "S",
          "S",
          "S",
          "S",
          "S",
          "S",
          "S",
          "S",
          "S",
          "S",
          "S",
          "S",
          "S",
          "S",
          "S",
          "S",
          "S",
          "S",
          "S",
          "S",
          "S",
          "S",
          "S",
          "S",
          "S",
          "S",
          "S",
          "S",
          "S",
          "S",
          "S",
          "S",
          "S",
          "S",
          "S",
          "S",
          "S",
          "S",
          "S",
          "S",
          "S",
          "S",
          "S",
          "S",
          "S",
          "S",
          "S",
          "S",
          "S",
          "S",
          "S",
          "S",
          "S",
          "S",
          "S",
          "S",
          "S",
          "S",
          "S",
          "S",
          "S",
          "S",
          "S",
          "S",
          "S",
          "S",
          "S",
          "S",
          "S",
          "S",
          "S",
          "S",
          "S",
          "S",
          "S",
          "S",
          "S",
          "S",
          "S",
          "S",
          "S",
          "S",
          "S",
          "S",
          "S",
          "S",
          "S",
          "S",
          "S",
          "S",
          "S",
          "S",
          "S",
          "S",
          "S",
          "S",
          "S",
          "S",
          "S",
          "S",
          "S",
          "S",
          "S",
          "S",
          "S",
          "S",
          "S",
          "S",
          "S",
          "S",
          "S",
          "S",
          "S",
          "S",
          "S",
          "S",
          "S",
          "S",
          "S",
          "S",
          "S",
          "S",
          "S",
          "S",
          "S",
          "S",
          "S",
          "S",
          "S",
          "S",
          "S",
          "S",
          "S",
          "S",
          "S",
          "S",
          "S",
          "S",
          "S",
          "S",
          "S",
          "S",
          "S",
          "S",
          "S",
          "S",
          "S",
          "S",
          "S",
          "S",
          "S",
          "S",
          "S",
          "S",
          "S",
          "S",
          "S",
          "S",
          "S",
          "S",
          "S",
          "S",
          "S",
          "S",
          "S",
          "S",
          "S",
          "S",
          "S",
          "S",
          "S",
          "S",
          "S",
          "S",
          "S",
          "S",
          "S",
          "S",
          "S",
          "S",
          "S",
          "S",
          "S",
          "S",
          "S",
          "S",
          "S",
          "S",
          "S",
          "S",
          "S",
          "S",
          "S",
          "S",
          "S",
          "S",
          "S",
          "S",
          "S",
          "S",
          "S",
          "S",
          "S",
          "S",
          "S",
          "S",
          "S",
          "S",
          "S",
          "S",
          "S",
          "S",
          "S",
          "S",
          "S",
          "S",
          "S",
          "S",
          "S",
          "S",
          "S",
          "S",
          "S",
          "S",
          "S",
          "S",
          "S",
          "S",
          "S",
          "S",
          "S",
          "S",
          "S",
          "S",
          "S",
          "S",
          "S",
          "S",
          "S",
          "S",
          "S",
          "S",
          "S",
          "S",
          "S",
          "S",
          "S",
          "S",
          "S",
          "S",
          "S",
          "S",
          "S",
          "S",
          "S",
          "S",
          "S",
          "S",
          "S",
          "S",
          "S",
          "S"
         ],
         "xaxis": "x",
         "yaxis": "y"
        },
        {
         "bingroup": "x",
         "hovertemplate": "Puerto de embarque=%{x}<br>count=%{y}<extra></extra>",
         "legendgroup": "C",
         "marker": {
          "color": "rgb(252,141,98)",
          "pattern": {
           "shape": ""
          }
         },
         "name": "C",
         "orientation": "v",
         "showlegend": true,
         "type": "histogram",
         "x": [
          "C",
          "C",
          "C",
          "C",
          "C",
          "C",
          "C",
          "C",
          "C",
          "C",
          "C",
          "C",
          "C",
          "C",
          "C",
          "C",
          "C",
          "C",
          "C",
          "C",
          "C",
          "C",
          "C",
          "C",
          "C",
          "C",
          "C",
          "C",
          "C",
          "C",
          "C",
          "C",
          "C",
          "C",
          "C",
          "C",
          "C",
          "C",
          "C",
          "C",
          "C",
          "C",
          "C",
          "C",
          "C",
          "C",
          "C",
          "C",
          "C",
          "C",
          "C",
          "C",
          "C",
          "C",
          "C",
          "C",
          "C",
          "C",
          "C",
          "C",
          "C",
          "C",
          "C",
          "C",
          "C",
          "C",
          "C",
          "C",
          "C",
          "C",
          "C",
          "C",
          "C",
          "C",
          "C",
          "C",
          "C",
          "C",
          "C",
          "C",
          "C",
          "C",
          "C",
          "C",
          "C",
          "C",
          "C",
          "C",
          "C",
          "C",
          "C",
          "C",
          "C",
          "C",
          "C",
          "C",
          "C",
          "C",
          "C",
          "C",
          "C",
          "C",
          "C",
          "C",
          "C",
          "C",
          "C",
          "C",
          "C",
          "C",
          "C",
          "C",
          "C",
          "C",
          "C",
          "C",
          "C",
          "C",
          "C",
          "C",
          "C",
          "C",
          "C",
          "C",
          "C"
         ],
         "xaxis": "x",
         "yaxis": "y"
        },
        {
         "bingroup": "x",
         "hovertemplate": "Puerto de embarque=%{x}<br>count=%{y}<extra></extra>",
         "legendgroup": "Q",
         "marker": {
          "color": "rgb(141,160,203)",
          "pattern": {
           "shape": ""
          }
         },
         "name": "Q",
         "orientation": "v",
         "showlegend": true,
         "type": "histogram",
         "x": [
          "Q",
          "Q",
          "Q",
          "Q",
          "Q",
          "Q",
          "Q",
          "Q",
          "Q",
          "Q",
          "Q",
          "Q",
          "Q",
          "Q",
          "Q",
          "Q",
          "Q",
          "Q",
          "Q",
          "Q",
          "Q",
          "Q",
          "Q",
          "Q",
          "Q",
          "Q",
          "Q",
          "Q",
          "Q",
          "Q",
          "Q",
          "Q",
          "Q",
          "Q",
          "Q",
          "Q",
          "Q",
          "Q",
          "Q",
          "Q",
          "Q",
          "Q",
          "Q",
          "Q",
          "Q",
          "Q",
          "Q",
          "Q",
          "Q",
          "Q",
          "Q",
          "Q",
          "Q",
          "Q",
          "Q",
          "Q",
          "Q",
          "Q",
          "Q",
          "Q"
         ],
         "xaxis": "x",
         "yaxis": "y"
        }
       ],
       "layout": {
        "barmode": "relative",
        "legend": {
         "title": {
          "text": "Puerto de embarque"
         },
         "tracegroupgap": 0
        },
        "template": {
         "data": {
          "bar": [
           {
            "error_x": {
             "color": "#2a3f5f"
            },
            "error_y": {
             "color": "#2a3f5f"
            },
            "marker": {
             "line": {
              "color": "#E5ECF6",
              "width": 0.5
             },
             "pattern": {
              "fillmode": "overlay",
              "size": 10,
              "solidity": 0.2
             }
            },
            "type": "bar"
           }
          ],
          "barpolar": [
           {
            "marker": {
             "line": {
              "color": "#E5ECF6",
              "width": 0.5
             },
             "pattern": {
              "fillmode": "overlay",
              "size": 10,
              "solidity": 0.2
             }
            },
            "type": "barpolar"
           }
          ],
          "carpet": [
           {
            "aaxis": {
             "endlinecolor": "#2a3f5f",
             "gridcolor": "white",
             "linecolor": "white",
             "minorgridcolor": "white",
             "startlinecolor": "#2a3f5f"
            },
            "baxis": {
             "endlinecolor": "#2a3f5f",
             "gridcolor": "white",
             "linecolor": "white",
             "minorgridcolor": "white",
             "startlinecolor": "#2a3f5f"
            },
            "type": "carpet"
           }
          ],
          "choropleth": [
           {
            "colorbar": {
             "outlinewidth": 0,
             "ticks": ""
            },
            "type": "choropleth"
           }
          ],
          "contour": [
           {
            "colorbar": {
             "outlinewidth": 0,
             "ticks": ""
            },
            "colorscale": [
             [
              0,
              "#0d0887"
             ],
             [
              0.1111111111111111,
              "#46039f"
             ],
             [
              0.2222222222222222,
              "#7201a8"
             ],
             [
              0.3333333333333333,
              "#9c179e"
             ],
             [
              0.4444444444444444,
              "#bd3786"
             ],
             [
              0.5555555555555556,
              "#d8576b"
             ],
             [
              0.6666666666666666,
              "#ed7953"
             ],
             [
              0.7777777777777778,
              "#fb9f3a"
             ],
             [
              0.8888888888888888,
              "#fdca26"
             ],
             [
              1,
              "#f0f921"
             ]
            ],
            "type": "contour"
           }
          ],
          "contourcarpet": [
           {
            "colorbar": {
             "outlinewidth": 0,
             "ticks": ""
            },
            "type": "contourcarpet"
           }
          ],
          "heatmap": [
           {
            "colorbar": {
             "outlinewidth": 0,
             "ticks": ""
            },
            "colorscale": [
             [
              0,
              "#0d0887"
             ],
             [
              0.1111111111111111,
              "#46039f"
             ],
             [
              0.2222222222222222,
              "#7201a8"
             ],
             [
              0.3333333333333333,
              "#9c179e"
             ],
             [
              0.4444444444444444,
              "#bd3786"
             ],
             [
              0.5555555555555556,
              "#d8576b"
             ],
             [
              0.6666666666666666,
              "#ed7953"
             ],
             [
              0.7777777777777778,
              "#fb9f3a"
             ],
             [
              0.8888888888888888,
              "#fdca26"
             ],
             [
              1,
              "#f0f921"
             ]
            ],
            "type": "heatmap"
           }
          ],
          "histogram": [
           {
            "marker": {
             "pattern": {
              "fillmode": "overlay",
              "size": 10,
              "solidity": 0.2
             }
            },
            "type": "histogram"
           }
          ],
          "histogram2d": [
           {
            "colorbar": {
             "outlinewidth": 0,
             "ticks": ""
            },
            "colorscale": [
             [
              0,
              "#0d0887"
             ],
             [
              0.1111111111111111,
              "#46039f"
             ],
             [
              0.2222222222222222,
              "#7201a8"
             ],
             [
              0.3333333333333333,
              "#9c179e"
             ],
             [
              0.4444444444444444,
              "#bd3786"
             ],
             [
              0.5555555555555556,
              "#d8576b"
             ],
             [
              0.6666666666666666,
              "#ed7953"
             ],
             [
              0.7777777777777778,
              "#fb9f3a"
             ],
             [
              0.8888888888888888,
              "#fdca26"
             ],
             [
              1,
              "#f0f921"
             ]
            ],
            "type": "histogram2d"
           }
          ],
          "histogram2dcontour": [
           {
            "colorbar": {
             "outlinewidth": 0,
             "ticks": ""
            },
            "colorscale": [
             [
              0,
              "#0d0887"
             ],
             [
              0.1111111111111111,
              "#46039f"
             ],
             [
              0.2222222222222222,
              "#7201a8"
             ],
             [
              0.3333333333333333,
              "#9c179e"
             ],
             [
              0.4444444444444444,
              "#bd3786"
             ],
             [
              0.5555555555555556,
              "#d8576b"
             ],
             [
              0.6666666666666666,
              "#ed7953"
             ],
             [
              0.7777777777777778,
              "#fb9f3a"
             ],
             [
              0.8888888888888888,
              "#fdca26"
             ],
             [
              1,
              "#f0f921"
             ]
            ],
            "type": "histogram2dcontour"
           }
          ],
          "mesh3d": [
           {
            "colorbar": {
             "outlinewidth": 0,
             "ticks": ""
            },
            "type": "mesh3d"
           }
          ],
          "parcoords": [
           {
            "line": {
             "colorbar": {
              "outlinewidth": 0,
              "ticks": ""
             }
            },
            "type": "parcoords"
           }
          ],
          "pie": [
           {
            "automargin": true,
            "type": "pie"
           }
          ],
          "scatter": [
           {
            "fillpattern": {
             "fillmode": "overlay",
             "size": 10,
             "solidity": 0.2
            },
            "type": "scatter"
           }
          ],
          "scatter3d": [
           {
            "line": {
             "colorbar": {
              "outlinewidth": 0,
              "ticks": ""
             }
            },
            "marker": {
             "colorbar": {
              "outlinewidth": 0,
              "ticks": ""
             }
            },
            "type": "scatter3d"
           }
          ],
          "scattercarpet": [
           {
            "marker": {
             "colorbar": {
              "outlinewidth": 0,
              "ticks": ""
             }
            },
            "type": "scattercarpet"
           }
          ],
          "scattergeo": [
           {
            "marker": {
             "colorbar": {
              "outlinewidth": 0,
              "ticks": ""
             }
            },
            "type": "scattergeo"
           }
          ],
          "scattergl": [
           {
            "marker": {
             "colorbar": {
              "outlinewidth": 0,
              "ticks": ""
             }
            },
            "type": "scattergl"
           }
          ],
          "scattermap": [
           {
            "marker": {
             "colorbar": {
              "outlinewidth": 0,
              "ticks": ""
             }
            },
            "type": "scattermap"
           }
          ],
          "scattermapbox": [
           {
            "marker": {
             "colorbar": {
              "outlinewidth": 0,
              "ticks": ""
             }
            },
            "type": "scattermapbox"
           }
          ],
          "scatterpolar": [
           {
            "marker": {
             "colorbar": {
              "outlinewidth": 0,
              "ticks": ""
             }
            },
            "type": "scatterpolar"
           }
          ],
          "scatterpolargl": [
           {
            "marker": {
             "colorbar": {
              "outlinewidth": 0,
              "ticks": ""
             }
            },
            "type": "scatterpolargl"
           }
          ],
          "scatterternary": [
           {
            "marker": {
             "colorbar": {
              "outlinewidth": 0,
              "ticks": ""
             }
            },
            "type": "scatterternary"
           }
          ],
          "surface": [
           {
            "colorbar": {
             "outlinewidth": 0,
             "ticks": ""
            },
            "colorscale": [
             [
              0,
              "#0d0887"
             ],
             [
              0.1111111111111111,
              "#46039f"
             ],
             [
              0.2222222222222222,
              "#7201a8"
             ],
             [
              0.3333333333333333,
              "#9c179e"
             ],
             [
              0.4444444444444444,
              "#bd3786"
             ],
             [
              0.5555555555555556,
              "#d8576b"
             ],
             [
              0.6666666666666666,
              "#ed7953"
             ],
             [
              0.7777777777777778,
              "#fb9f3a"
             ],
             [
              0.8888888888888888,
              "#fdca26"
             ],
             [
              1,
              "#f0f921"
             ]
            ],
            "type": "surface"
           }
          ],
          "table": [
           {
            "cells": {
             "fill": {
              "color": "#EBF0F8"
             },
             "line": {
              "color": "white"
             }
            },
            "header": {
             "fill": {
              "color": "#C8D4E3"
             },
             "line": {
              "color": "white"
             }
            },
            "type": "table"
           }
          ]
         },
         "layout": {
          "annotationdefaults": {
           "arrowcolor": "#2a3f5f",
           "arrowhead": 0,
           "arrowwidth": 1
          },
          "autotypenumbers": "strict",
          "coloraxis": {
           "colorbar": {
            "outlinewidth": 0,
            "ticks": ""
           }
          },
          "colorscale": {
           "diverging": [
            [
             0,
             "#8e0152"
            ],
            [
             0.1,
             "#c51b7d"
            ],
            [
             0.2,
             "#de77ae"
            ],
            [
             0.3,
             "#f1b6da"
            ],
            [
             0.4,
             "#fde0ef"
            ],
            [
             0.5,
             "#f7f7f7"
            ],
            [
             0.6,
             "#e6f5d0"
            ],
            [
             0.7,
             "#b8e186"
            ],
            [
             0.8,
             "#7fbc41"
            ],
            [
             0.9,
             "#4d9221"
            ],
            [
             1,
             "#276419"
            ]
           ],
           "sequential": [
            [
             0,
             "#0d0887"
            ],
            [
             0.1111111111111111,
             "#46039f"
            ],
            [
             0.2222222222222222,
             "#7201a8"
            ],
            [
             0.3333333333333333,
             "#9c179e"
            ],
            [
             0.4444444444444444,
             "#bd3786"
            ],
            [
             0.5555555555555556,
             "#d8576b"
            ],
            [
             0.6666666666666666,
             "#ed7953"
            ],
            [
             0.7777777777777778,
             "#fb9f3a"
            ],
            [
             0.8888888888888888,
             "#fdca26"
            ],
            [
             1,
             "#f0f921"
            ]
           ],
           "sequentialminus": [
            [
             0,
             "#0d0887"
            ],
            [
             0.1111111111111111,
             "#46039f"
            ],
            [
             0.2222222222222222,
             "#7201a8"
            ],
            [
             0.3333333333333333,
             "#9c179e"
            ],
            [
             0.4444444444444444,
             "#bd3786"
            ],
            [
             0.5555555555555556,
             "#d8576b"
            ],
            [
             0.6666666666666666,
             "#ed7953"
            ],
            [
             0.7777777777777778,
             "#fb9f3a"
            ],
            [
             0.8888888888888888,
             "#fdca26"
            ],
            [
             1,
             "#f0f921"
            ]
           ]
          },
          "colorway": [
           "#636efa",
           "#EF553B",
           "#00cc96",
           "#ab63fa",
           "#FFA15A",
           "#19d3f3",
           "#FF6692",
           "#B6E880",
           "#FF97FF",
           "#FECB52"
          ],
          "font": {
           "color": "#2a3f5f"
          },
          "geo": {
           "bgcolor": "white",
           "lakecolor": "white",
           "landcolor": "#E5ECF6",
           "showlakes": true,
           "showland": true,
           "subunitcolor": "white"
          },
          "hoverlabel": {
           "align": "left"
          },
          "hovermode": "closest",
          "mapbox": {
           "style": "light"
          },
          "paper_bgcolor": "white",
          "plot_bgcolor": "#E5ECF6",
          "polar": {
           "angularaxis": {
            "gridcolor": "white",
            "linecolor": "white",
            "ticks": ""
           },
           "bgcolor": "#E5ECF6",
           "radialaxis": {
            "gridcolor": "white",
            "linecolor": "white",
            "ticks": ""
           }
          },
          "scene": {
           "xaxis": {
            "backgroundcolor": "#E5ECF6",
            "gridcolor": "white",
            "gridwidth": 2,
            "linecolor": "white",
            "showbackground": true,
            "ticks": "",
            "zerolinecolor": "white"
           },
           "yaxis": {
            "backgroundcolor": "#E5ECF6",
            "gridcolor": "white",
            "gridwidth": 2,
            "linecolor": "white",
            "showbackground": true,
            "ticks": "",
            "zerolinecolor": "white"
           },
           "zaxis": {
            "backgroundcolor": "#E5ECF6",
            "gridcolor": "white",
            "gridwidth": 2,
            "linecolor": "white",
            "showbackground": true,
            "ticks": "",
            "zerolinecolor": "white"
           }
          },
          "shapedefaults": {
           "line": {
            "color": "#2a3f5f"
           }
          },
          "ternary": {
           "aaxis": {
            "gridcolor": "white",
            "linecolor": "white",
            "ticks": ""
           },
           "baxis": {
            "gridcolor": "white",
            "linecolor": "white",
            "ticks": ""
           },
           "bgcolor": "#E5ECF6",
           "caxis": {
            "gridcolor": "white",
            "linecolor": "white",
            "ticks": ""
           }
          },
          "title": {
           "x": 0.05
          },
          "xaxis": {
           "automargin": true,
           "gridcolor": "white",
           "linecolor": "white",
           "ticks": "",
           "title": {
            "standoff": 15
           },
           "zerolinecolor": "white",
           "zerolinewidth": 2
          },
          "yaxis": {
           "automargin": true,
           "gridcolor": "white",
           "linecolor": "white",
           "ticks": "",
           "title": {
            "standoff": 15
           },
           "zerolinecolor": "white",
           "zerolinewidth": 2
          }
         }
        },
        "title": {
         "text": "Distribución de pasajeros por puerto de embarque"
        },
        "xaxis": {
         "anchor": "y",
         "categoryarray": [
          "S",
          "C",
          "Q",
          null
         ],
         "categoryorder": "array",
         "domain": [
          0,
          1
         ],
         "title": {
          "text": "Puerto de embarque"
         }
        },
        "yaxis": {
         "anchor": "x",
         "domain": [
          0,
          1
         ],
         "title": {
          "text": "count"
         }
        }
       }
      }
     },
     "metadata": {},
     "output_type": "display_data"
    }
   ],
   "source": [
    "# Mostrar conteo de pasajeros por puerto de embarque\n",
    "print('Pasajeros embarcados agrupados por puerto (C = Cherburgo, Q = Queenstown, S = Southampton):')\n",
    "print(X_train['embarked'].value_counts())\n",
    "\n",
    "# Crear gráfico de barras con Plotly\n",
    "fig = px.histogram(\n",
    "    X_train, \n",
    "    x='embarked', \n",
    "    color='embarked',\n",
    "    title='Distribución de pasajeros por puerto de embarque',\n",
    "    labels={'embarked': 'Puerto de embarque'},\n",
    "    color_discrete_sequence=px.colors.qualitative.Set2\n",
    ")\n",
    "\n",
    "fig.show()"
   ]
  },
  {
   "cell_type": "code",
   "execution_count": 8,
   "id": "1246cf80",
   "metadata": {},
   "outputs": [
    {
     "name": "stdout",
     "output_type": "stream",
     "text": [
      "El puerto de embarque más común es S.\n"
     ]
    }
   ],
   "source": [
    "puerto_mas_comun = X_train['embarked'].value_counts().idxmax()\n",
    "print(f'El puerto de embarque más común es {puerto_mas_comun}.')"
   ]
  },
  {
   "cell_type": "code",
   "execution_count": 9,
   "id": "6936c12a",
   "metadata": {},
   "outputs": [
    {
     "data": {
      "application/vnd.plotly.v1+json": {
       "config": {
        "plotlyServerURL": "https://plot.ly"
       },
       "data": [
        {
         "domain": {
          "x": [
           0,
           1
          ],
          "y": [
           0,
           1
          ]
         },
         "hole": 0.3,
         "hovertemplate": "Estado=%{label}<br>Cantidad=%{value}<extra></extra>",
         "labels": [
          "No sobrevivió",
          "Sobrevivió"
         ],
         "legendgroup": "",
         "name": "",
         "showlegend": true,
         "textinfo": "percent+label",
         "type": "pie",
         "values": {
          "bdata": "vAEMAQ==",
          "dtype": "i2"
         }
        }
       ],
       "layout": {
        "legend": {
         "tracegroupgap": 0
        },
        "piecolorway": [
         "lightcoral",
         "darkturquoise"
        ],
        "template": {
         "data": {
          "bar": [
           {
            "error_x": {
             "color": "#2a3f5f"
            },
            "error_y": {
             "color": "#2a3f5f"
            },
            "marker": {
             "line": {
              "color": "#E5ECF6",
              "width": 0.5
             },
             "pattern": {
              "fillmode": "overlay",
              "size": 10,
              "solidity": 0.2
             }
            },
            "type": "bar"
           }
          ],
          "barpolar": [
           {
            "marker": {
             "line": {
              "color": "#E5ECF6",
              "width": 0.5
             },
             "pattern": {
              "fillmode": "overlay",
              "size": 10,
              "solidity": 0.2
             }
            },
            "type": "barpolar"
           }
          ],
          "carpet": [
           {
            "aaxis": {
             "endlinecolor": "#2a3f5f",
             "gridcolor": "white",
             "linecolor": "white",
             "minorgridcolor": "white",
             "startlinecolor": "#2a3f5f"
            },
            "baxis": {
             "endlinecolor": "#2a3f5f",
             "gridcolor": "white",
             "linecolor": "white",
             "minorgridcolor": "white",
             "startlinecolor": "#2a3f5f"
            },
            "type": "carpet"
           }
          ],
          "choropleth": [
           {
            "colorbar": {
             "outlinewidth": 0,
             "ticks": ""
            },
            "type": "choropleth"
           }
          ],
          "contour": [
           {
            "colorbar": {
             "outlinewidth": 0,
             "ticks": ""
            },
            "colorscale": [
             [
              0,
              "#0d0887"
             ],
             [
              0.1111111111111111,
              "#46039f"
             ],
             [
              0.2222222222222222,
              "#7201a8"
             ],
             [
              0.3333333333333333,
              "#9c179e"
             ],
             [
              0.4444444444444444,
              "#bd3786"
             ],
             [
              0.5555555555555556,
              "#d8576b"
             ],
             [
              0.6666666666666666,
              "#ed7953"
             ],
             [
              0.7777777777777778,
              "#fb9f3a"
             ],
             [
              0.8888888888888888,
              "#fdca26"
             ],
             [
              1,
              "#f0f921"
             ]
            ],
            "type": "contour"
           }
          ],
          "contourcarpet": [
           {
            "colorbar": {
             "outlinewidth": 0,
             "ticks": ""
            },
            "type": "contourcarpet"
           }
          ],
          "heatmap": [
           {
            "colorbar": {
             "outlinewidth": 0,
             "ticks": ""
            },
            "colorscale": [
             [
              0,
              "#0d0887"
             ],
             [
              0.1111111111111111,
              "#46039f"
             ],
             [
              0.2222222222222222,
              "#7201a8"
             ],
             [
              0.3333333333333333,
              "#9c179e"
             ],
             [
              0.4444444444444444,
              "#bd3786"
             ],
             [
              0.5555555555555556,
              "#d8576b"
             ],
             [
              0.6666666666666666,
              "#ed7953"
             ],
             [
              0.7777777777777778,
              "#fb9f3a"
             ],
             [
              0.8888888888888888,
              "#fdca26"
             ],
             [
              1,
              "#f0f921"
             ]
            ],
            "type": "heatmap"
           }
          ],
          "histogram": [
           {
            "marker": {
             "pattern": {
              "fillmode": "overlay",
              "size": 10,
              "solidity": 0.2
             }
            },
            "type": "histogram"
           }
          ],
          "histogram2d": [
           {
            "colorbar": {
             "outlinewidth": 0,
             "ticks": ""
            },
            "colorscale": [
             [
              0,
              "#0d0887"
             ],
             [
              0.1111111111111111,
              "#46039f"
             ],
             [
              0.2222222222222222,
              "#7201a8"
             ],
             [
              0.3333333333333333,
              "#9c179e"
             ],
             [
              0.4444444444444444,
              "#bd3786"
             ],
             [
              0.5555555555555556,
              "#d8576b"
             ],
             [
              0.6666666666666666,
              "#ed7953"
             ],
             [
              0.7777777777777778,
              "#fb9f3a"
             ],
             [
              0.8888888888888888,
              "#fdca26"
             ],
             [
              1,
              "#f0f921"
             ]
            ],
            "type": "histogram2d"
           }
          ],
          "histogram2dcontour": [
           {
            "colorbar": {
             "outlinewidth": 0,
             "ticks": ""
            },
            "colorscale": [
             [
              0,
              "#0d0887"
             ],
             [
              0.1111111111111111,
              "#46039f"
             ],
             [
              0.2222222222222222,
              "#7201a8"
             ],
             [
              0.3333333333333333,
              "#9c179e"
             ],
             [
              0.4444444444444444,
              "#bd3786"
             ],
             [
              0.5555555555555556,
              "#d8576b"
             ],
             [
              0.6666666666666666,
              "#ed7953"
             ],
             [
              0.7777777777777778,
              "#fb9f3a"
             ],
             [
              0.8888888888888888,
              "#fdca26"
             ],
             [
              1,
              "#f0f921"
             ]
            ],
            "type": "histogram2dcontour"
           }
          ],
          "mesh3d": [
           {
            "colorbar": {
             "outlinewidth": 0,
             "ticks": ""
            },
            "type": "mesh3d"
           }
          ],
          "parcoords": [
           {
            "line": {
             "colorbar": {
              "outlinewidth": 0,
              "ticks": ""
             }
            },
            "type": "parcoords"
           }
          ],
          "pie": [
           {
            "automargin": true,
            "type": "pie"
           }
          ],
          "scatter": [
           {
            "fillpattern": {
             "fillmode": "overlay",
             "size": 10,
             "solidity": 0.2
            },
            "type": "scatter"
           }
          ],
          "scatter3d": [
           {
            "line": {
             "colorbar": {
              "outlinewidth": 0,
              "ticks": ""
             }
            },
            "marker": {
             "colorbar": {
              "outlinewidth": 0,
              "ticks": ""
             }
            },
            "type": "scatter3d"
           }
          ],
          "scattercarpet": [
           {
            "marker": {
             "colorbar": {
              "outlinewidth": 0,
              "ticks": ""
             }
            },
            "type": "scattercarpet"
           }
          ],
          "scattergeo": [
           {
            "marker": {
             "colorbar": {
              "outlinewidth": 0,
              "ticks": ""
             }
            },
            "type": "scattergeo"
           }
          ],
          "scattergl": [
           {
            "marker": {
             "colorbar": {
              "outlinewidth": 0,
              "ticks": ""
             }
            },
            "type": "scattergl"
           }
          ],
          "scattermap": [
           {
            "marker": {
             "colorbar": {
              "outlinewidth": 0,
              "ticks": ""
             }
            },
            "type": "scattermap"
           }
          ],
          "scattermapbox": [
           {
            "marker": {
             "colorbar": {
              "outlinewidth": 0,
              "ticks": ""
             }
            },
            "type": "scattermapbox"
           }
          ],
          "scatterpolar": [
           {
            "marker": {
             "colorbar": {
              "outlinewidth": 0,
              "ticks": ""
             }
            },
            "type": "scatterpolar"
           }
          ],
          "scatterpolargl": [
           {
            "marker": {
             "colorbar": {
              "outlinewidth": 0,
              "ticks": ""
             }
            },
            "type": "scatterpolargl"
           }
          ],
          "scatterternary": [
           {
            "marker": {
             "colorbar": {
              "outlinewidth": 0,
              "ticks": ""
             }
            },
            "type": "scatterternary"
           }
          ],
          "surface": [
           {
            "colorbar": {
             "outlinewidth": 0,
             "ticks": ""
            },
            "colorscale": [
             [
              0,
              "#0d0887"
             ],
             [
              0.1111111111111111,
              "#46039f"
             ],
             [
              0.2222222222222222,
              "#7201a8"
             ],
             [
              0.3333333333333333,
              "#9c179e"
             ],
             [
              0.4444444444444444,
              "#bd3786"
             ],
             [
              0.5555555555555556,
              "#d8576b"
             ],
             [
              0.6666666666666666,
              "#ed7953"
             ],
             [
              0.7777777777777778,
              "#fb9f3a"
             ],
             [
              0.8888888888888888,
              "#fdca26"
             ],
             [
              1,
              "#f0f921"
             ]
            ],
            "type": "surface"
           }
          ],
          "table": [
           {
            "cells": {
             "fill": {
              "color": "#EBF0F8"
             },
             "line": {
              "color": "white"
             }
            },
            "header": {
             "fill": {
              "color": "#C8D4E3"
             },
             "line": {
              "color": "white"
             }
            },
            "type": "table"
           }
          ]
         },
         "layout": {
          "annotationdefaults": {
           "arrowcolor": "#2a3f5f",
           "arrowhead": 0,
           "arrowwidth": 1
          },
          "autotypenumbers": "strict",
          "coloraxis": {
           "colorbar": {
            "outlinewidth": 0,
            "ticks": ""
           }
          },
          "colorscale": {
           "diverging": [
            [
             0,
             "#8e0152"
            ],
            [
             0.1,
             "#c51b7d"
            ],
            [
             0.2,
             "#de77ae"
            ],
            [
             0.3,
             "#f1b6da"
            ],
            [
             0.4,
             "#fde0ef"
            ],
            [
             0.5,
             "#f7f7f7"
            ],
            [
             0.6,
             "#e6f5d0"
            ],
            [
             0.7,
             "#b8e186"
            ],
            [
             0.8,
             "#7fbc41"
            ],
            [
             0.9,
             "#4d9221"
            ],
            [
             1,
             "#276419"
            ]
           ],
           "sequential": [
            [
             0,
             "#0d0887"
            ],
            [
             0.1111111111111111,
             "#46039f"
            ],
            [
             0.2222222222222222,
             "#7201a8"
            ],
            [
             0.3333333333333333,
             "#9c179e"
            ],
            [
             0.4444444444444444,
             "#bd3786"
            ],
            [
             0.5555555555555556,
             "#d8576b"
            ],
            [
             0.6666666666666666,
             "#ed7953"
            ],
            [
             0.7777777777777778,
             "#fb9f3a"
            ],
            [
             0.8888888888888888,
             "#fdca26"
            ],
            [
             1,
             "#f0f921"
            ]
           ],
           "sequentialminus": [
            [
             0,
             "#0d0887"
            ],
            [
             0.1111111111111111,
             "#46039f"
            ],
            [
             0.2222222222222222,
             "#7201a8"
            ],
            [
             0.3333333333333333,
             "#9c179e"
            ],
            [
             0.4444444444444444,
             "#bd3786"
            ],
            [
             0.5555555555555556,
             "#d8576b"
            ],
            [
             0.6666666666666666,
             "#ed7953"
            ],
            [
             0.7777777777777778,
             "#fb9f3a"
            ],
            [
             0.8888888888888888,
             "#fdca26"
            ],
            [
             1,
             "#f0f921"
            ]
           ]
          },
          "colorway": [
           "#636efa",
           "#EF553B",
           "#00cc96",
           "#ab63fa",
           "#FFA15A",
           "#19d3f3",
           "#FF6692",
           "#B6E880",
           "#FF97FF",
           "#FECB52"
          ],
          "font": {
           "color": "#2a3f5f"
          },
          "geo": {
           "bgcolor": "white",
           "lakecolor": "white",
           "landcolor": "#E5ECF6",
           "showlakes": true,
           "showland": true,
           "subunitcolor": "white"
          },
          "hoverlabel": {
           "align": "left"
          },
          "hovermode": "closest",
          "mapbox": {
           "style": "light"
          },
          "paper_bgcolor": "white",
          "plot_bgcolor": "#E5ECF6",
          "polar": {
           "angularaxis": {
            "gridcolor": "white",
            "linecolor": "white",
            "ticks": ""
           },
           "bgcolor": "#E5ECF6",
           "radialaxis": {
            "gridcolor": "white",
            "linecolor": "white",
            "ticks": ""
           }
          },
          "scene": {
           "xaxis": {
            "backgroundcolor": "#E5ECF6",
            "gridcolor": "white",
            "gridwidth": 2,
            "linecolor": "white",
            "showbackground": true,
            "ticks": "",
            "zerolinecolor": "white"
           },
           "yaxis": {
            "backgroundcolor": "#E5ECF6",
            "gridcolor": "white",
            "gridwidth": 2,
            "linecolor": "white",
            "showbackground": true,
            "ticks": "",
            "zerolinecolor": "white"
           },
           "zaxis": {
            "backgroundcolor": "#E5ECF6",
            "gridcolor": "white",
            "gridwidth": 2,
            "linecolor": "white",
            "showbackground": true,
            "ticks": "",
            "zerolinecolor": "white"
           }
          },
          "shapedefaults": {
           "line": {
            "color": "#2a3f5f"
           }
          },
          "ternary": {
           "aaxis": {
            "gridcolor": "white",
            "linecolor": "white",
            "ticks": ""
           },
           "baxis": {
            "gridcolor": "white",
            "linecolor": "white",
            "ticks": ""
           },
           "bgcolor": "#E5ECF6",
           "caxis": {
            "gridcolor": "white",
            "linecolor": "white",
            "ticks": ""
           }
          },
          "title": {
           "x": 0.05
          },
          "xaxis": {
           "automargin": true,
           "gridcolor": "white",
           "linecolor": "white",
           "ticks": "",
           "title": {
            "standoff": 15
           },
           "zerolinecolor": "white",
           "zerolinewidth": 2
          },
          "yaxis": {
           "automargin": true,
           "gridcolor": "white",
           "linecolor": "white",
           "ticks": "",
           "title": {
            "standoff": 15
           },
           "zerolinecolor": "white",
           "zerolinewidth": 2
          }
         }
        },
        "title": {
         "text": "Distribución de supervivencia en el conjunto de entrenamiento"
        }
       }
      }
     },
     "metadata": {},
     "output_type": "display_data"
    }
   ],
   "source": [
    "# Contar valores de supervivencia\n",
    "conteo_supervivencia = y_train.value_counts().rename({0: 'No sobrevivió', 1: 'Sobrevivió'})\n",
    "\n",
    "# Crear DataFrame para el gráfico\n",
    "df_pie = pd.DataFrame({\n",
    "    'Estado': conteo_supervivencia.index,\n",
    "    'Cantidad': conteo_supervivencia.values\n",
    "})\n",
    "\n",
    "# Crear gráfico de pastel\n",
    "fig = px.pie(df_pie, names='Estado', values='Cantidad',\n",
    "             title='Distribución de supervivencia en el conjunto de entrenamiento',\n",
    "             color_discrete_sequence=['lightcoral', 'darkturquoise'],\n",
    "             hole=0.3)\n",
    "\n",
    "fig.update_traces(textinfo='percent+label')\n",
    "fig.show()"
   ]
  },
  {
   "cell_type": "markdown",
   "id": "7cc75a71",
   "metadata": {},
   "source": [
    "### Ajustes a los datos"
   ]
  },
  {
   "cell_type": "code",
   "execution_count": 10,
   "id": "49cfb826",
   "metadata": {},
   "outputs": [
    {
     "name": "stderr",
     "output_type": "stream",
     "text": [
      "/var/folders/21/wbm0jm310h9b62ddpn50l29c0000gn/T/ipykernel_38426/118187576.py:2: FutureWarning:\n",
      "\n",
      "A value is trying to be set on a copy of a DataFrame or Series through chained assignment using an inplace method.\n",
      "The behavior will change in pandas 3.0. This inplace method will never work because the intermediate object on which we are setting values always behaves as a copy.\n",
      "\n",
      "For example, when doing 'df[col].method(value, inplace=True)', try using 'df.method({col: value}, inplace=True)' or df[col] = df[col].method(value) instead, to perform the operation inplace on the original object.\n",
      "\n",
      "\n",
      "\n",
      "/var/folders/21/wbm0jm310h9b62ddpn50l29c0000gn/T/ipykernel_38426/118187576.py:3: FutureWarning:\n",
      "\n",
      "A value is trying to be set on a copy of a DataFrame or Series through chained assignment using an inplace method.\n",
      "The behavior will change in pandas 3.0. This inplace method will never work because the intermediate object on which we are setting values always behaves as a copy.\n",
      "\n",
      "For example, when doing 'df[col].method(value, inplace=True)', try using 'df.method({col: value}, inplace=True)' or df[col] = df[col].method(value) instead, to perform the operation inplace on the original object.\n",
      "\n",
      "\n",
      "\n"
     ]
    }
   ],
   "source": [
    "train_data = X_train.copy()\n",
    "train_data[\"age\"].fillna(train_data[\"age\"].median(skipna=True), inplace=True)\n",
    "train_data[\"embarked\"].fillna(train_data['embarked'].value_counts().idxmax(), inplace=True)"
   ]
  },
  {
   "cell_type": "code",
   "execution_count": 11,
   "id": "65b317e6",
   "metadata": {},
   "outputs": [
    {
     "data": {
      "text/plain": [
       "pclass        0\n",
       "age           0\n",
       "sibsp         0\n",
       "parch         0\n",
       "fare          0\n",
       "adult_male    0\n",
       "alone         0\n",
       "sex           0\n",
       "embarked      0\n",
       "dtype: int64"
      ]
     },
     "execution_count": 11,
     "metadata": {},
     "output_type": "execute_result"
    }
   ],
   "source": [
    "train_data.isnull().sum()"
   ]
  },
  {
   "cell_type": "markdown",
   "id": "2fbd882a",
   "metadata": {},
   "source": [
    "### Cambios a otras variables\n",
    "\n",
    "Según el diccionario de datos de Kaggle, tanto 'SibSp' como 'Parch' están relacionados con viajar en familia.\n",
    "Para simplificar el análisis (y tener en cuenta la posible multicolinealidad), combinaremos el efecto de estas variables\n",
    "en un solo predictor categórico: si el individuo viajaba solo o no."
   ]
  },
  {
   "cell_type": "code",
   "execution_count": 12,
   "id": "ac8477df",
   "metadata": {},
   "outputs": [],
   "source": [
    "import numpy as np\n",
    "\n",
    "train_data['TravelAlone'] = np.where(\n",
    "    (train_data[\"sibsp\"]+train_data[\"parch\"])>0,\n",
    "    0,\n",
    "    1\n",
    ")\n",
    "\n",
    "train_data.drop('sibsp', axis=1, inplace=True)\n",
    "train_data.drop('parch', axis=1, inplace=True)"
   ]
  },
  {
   "cell_type": "markdown",
   "id": "e0d79e03",
   "metadata": {},
   "source": [
    "### Crear variables dummies"
   ]
  },
  {
   "cell_type": "code",
   "execution_count": 13,
   "id": "d7a96ea9",
   "metadata": {},
   "outputs": [
    {
     "name": "stdout",
     "output_type": "stream",
     "text": [
      "Conteo de categorías en la columna 'pclass':\n",
      "pclass\n",
      "3    398\n",
      "1    163\n",
      "2    151\n",
      "Name: count, dtype: int64\n",
      "\n",
      "Conteo de categorías en la columna 'embarked':\n",
      "embarked\n",
      "S    527\n",
      "C    125\n",
      "Q     60\n",
      "Name: count, dtype: int64\n",
      "\n",
      "Conteo de categorías en la columna 'sex':\n",
      "sex\n",
      "male      467\n",
      "female    245\n",
      "Name: count, dtype: int64\n"
     ]
    }
   ],
   "source": [
    "# Conteo de categorías en 'pclass' y 'embarked'\n",
    "print(\"Conteo de categorías en la columna 'pclass':\")\n",
    "print(train_data['pclass'].value_counts())\n",
    "\n",
    "print(\"\\nConteo de categorías en la columna 'embarked':\")\n",
    "print(train_data['embarked'].value_counts())\n",
    "\n",
    "print(\"\\nConteo de categorías en la columna 'sex':\")\n",
    "print(train_data['sex'].value_counts())"
   ]
  },
  {
   "cell_type": "code",
   "execution_count": 14,
   "id": "81f6eacf",
   "metadata": {},
   "outputs": [
    {
     "data": {
      "text/html": [
       "<div>\n",
       "<style scoped>\n",
       "    .dataframe tbody tr th:only-of-type {\n",
       "        vertical-align: middle;\n",
       "    }\n",
       "\n",
       "    .dataframe tbody tr th {\n",
       "        vertical-align: top;\n",
       "    }\n",
       "\n",
       "    .dataframe thead th {\n",
       "        text-align: right;\n",
       "    }\n",
       "</style>\n",
       "<table border=\"1\" class=\"dataframe\">\n",
       "  <thead>\n",
       "    <tr style=\"text-align: right;\">\n",
       "      <th></th>\n",
       "      <th>age</th>\n",
       "      <th>fare</th>\n",
       "      <th>alone</th>\n",
       "      <th>TravelAlone</th>\n",
       "      <th>pclass_1</th>\n",
       "      <th>pclass_2</th>\n",
       "      <th>pclass_3</th>\n",
       "      <th>embarked_C</th>\n",
       "      <th>embarked_Q</th>\n",
       "      <th>embarked_S</th>\n",
       "      <th>sex_female</th>\n",
       "      <th>sex_male</th>\n",
       "    </tr>\n",
       "  </thead>\n",
       "  <tbody>\n",
       "    <tr>\n",
       "      <th>331</th>\n",
       "      <td>45.5</td>\n",
       "      <td>28.5000</td>\n",
       "      <td>1</td>\n",
       "      <td>1</td>\n",
       "      <td>True</td>\n",
       "      <td>False</td>\n",
       "      <td>False</td>\n",
       "      <td>False</td>\n",
       "      <td>False</td>\n",
       "      <td>True</td>\n",
       "      <td>False</td>\n",
       "      <td>True</td>\n",
       "    </tr>\n",
       "    <tr>\n",
       "      <th>733</th>\n",
       "      <td>23.0</td>\n",
       "      <td>13.0000</td>\n",
       "      <td>1</td>\n",
       "      <td>1</td>\n",
       "      <td>False</td>\n",
       "      <td>True</td>\n",
       "      <td>False</td>\n",
       "      <td>False</td>\n",
       "      <td>False</td>\n",
       "      <td>True</td>\n",
       "      <td>False</td>\n",
       "      <td>True</td>\n",
       "    </tr>\n",
       "    <tr>\n",
       "      <th>382</th>\n",
       "      <td>32.0</td>\n",
       "      <td>7.9250</td>\n",
       "      <td>1</td>\n",
       "      <td>1</td>\n",
       "      <td>False</td>\n",
       "      <td>False</td>\n",
       "      <td>True</td>\n",
       "      <td>False</td>\n",
       "      <td>False</td>\n",
       "      <td>True</td>\n",
       "      <td>False</td>\n",
       "      <td>True</td>\n",
       "    </tr>\n",
       "    <tr>\n",
       "      <th>704</th>\n",
       "      <td>26.0</td>\n",
       "      <td>7.8542</td>\n",
       "      <td>0</td>\n",
       "      <td>0</td>\n",
       "      <td>False</td>\n",
       "      <td>False</td>\n",
       "      <td>True</td>\n",
       "      <td>False</td>\n",
       "      <td>False</td>\n",
       "      <td>True</td>\n",
       "      <td>False</td>\n",
       "      <td>True</td>\n",
       "    </tr>\n",
       "    <tr>\n",
       "      <th>813</th>\n",
       "      <td>6.0</td>\n",
       "      <td>31.2750</td>\n",
       "      <td>0</td>\n",
       "      <td>0</td>\n",
       "      <td>False</td>\n",
       "      <td>False</td>\n",
       "      <td>True</td>\n",
       "      <td>False</td>\n",
       "      <td>False</td>\n",
       "      <td>True</td>\n",
       "      <td>True</td>\n",
       "      <td>False</td>\n",
       "    </tr>\n",
       "  </tbody>\n",
       "</table>\n",
       "</div>"
      ],
      "text/plain": [
       "      age     fare  alone  TravelAlone  pclass_1  pclass_2  pclass_3  \\\n",
       "331  45.5  28.5000      1            1      True     False     False   \n",
       "733  23.0  13.0000      1            1     False      True     False   \n",
       "382  32.0   7.9250      1            1     False     False      True   \n",
       "704  26.0   7.8542      0            0     False     False      True   \n",
       "813   6.0  31.2750      0            0     False     False      True   \n",
       "\n",
       "     embarked_C  embarked_Q  embarked_S  sex_female  sex_male  \n",
       "331       False       False        True       False      True  \n",
       "733       False       False        True       False      True  \n",
       "382       False       False        True       False      True  \n",
       "704       False       False        True       False      True  \n",
       "813       False       False        True        True     False  "
      ]
     },
     "execution_count": 14,
     "metadata": {},
     "output_type": "execute_result"
    }
   ],
   "source": [
    "# Vamos a obtener dummies ahora sin One-Hot Encoder sino con pd.get_dummies()\n",
    "\n",
    "training = pd.get_dummies(\n",
    "    train_data, \n",
    "    columns=[\"pclass\", \"embarked\", \"sex\"]\n",
    ")\n",
    "\n",
    "training.drop('adult_male', axis=1, inplace=True)\n",
    "\n",
    "final_train = training\n",
    "final_train.head()"
   ]
  },
  {
   "cell_type": "markdown",
   "id": "275a06c5",
   "metadata": {},
   "source": [
    "### Hacer lo mismo en el 'Test Data'"
   ]
  },
  {
   "cell_type": "code",
   "execution_count": 15,
   "id": "9e17bda0",
   "metadata": {},
   "outputs": [
    {
     "data": {
      "text/plain": [
       "pclass         0\n",
       "age           37\n",
       "sibsp          0\n",
       "parch          0\n",
       "fare           0\n",
       "adult_male     0\n",
       "alone          0\n",
       "sex            0\n",
       "embarked       0\n",
       "dtype: int64"
      ]
     },
     "execution_count": 15,
     "metadata": {},
     "output_type": "execute_result"
    }
   ],
   "source": [
    "X_test.isnull().sum()"
   ]
  },
  {
   "cell_type": "code",
   "execution_count": 16,
   "id": "9b1408f7",
   "metadata": {},
   "outputs": [
    {
     "name": "stderr",
     "output_type": "stream",
     "text": [
      "/var/folders/21/wbm0jm310h9b62ddpn50l29c0000gn/T/ipykernel_38426/1763786055.py:4: FutureWarning:\n",
      "\n",
      "A value is trying to be set on a copy of a DataFrame or Series through chained assignment using an inplace method.\n",
      "The behavior will change in pandas 3.0. This inplace method will never work because the intermediate object on which we are setting values always behaves as a copy.\n",
      "\n",
      "For example, when doing 'df[col].method(value, inplace=True)', try using 'df.method({col: value}, inplace=True)' or df[col] = df[col].method(value) instead, to perform the operation inplace on the original object.\n",
      "\n",
      "\n",
      "\n"
     ]
    },
    {
     "data": {
      "text/html": [
       "<div>\n",
       "<style scoped>\n",
       "    .dataframe tbody tr th:only-of-type {\n",
       "        vertical-align: middle;\n",
       "    }\n",
       "\n",
       "    .dataframe tbody tr th {\n",
       "        vertical-align: top;\n",
       "    }\n",
       "\n",
       "    .dataframe thead th {\n",
       "        text-align: right;\n",
       "    }\n",
       "</style>\n",
       "<table border=\"1\" class=\"dataframe\">\n",
       "  <thead>\n",
       "    <tr style=\"text-align: right;\">\n",
       "      <th></th>\n",
       "      <th>age</th>\n",
       "      <th>fare</th>\n",
       "      <th>alone</th>\n",
       "      <th>TravelAlone</th>\n",
       "      <th>pclass_1</th>\n",
       "      <th>pclass_2</th>\n",
       "      <th>pclass_3</th>\n",
       "      <th>embarked_C</th>\n",
       "      <th>embarked_Q</th>\n",
       "      <th>embarked_S</th>\n",
       "      <th>sex_female</th>\n",
       "      <th>sex_male</th>\n",
       "    </tr>\n",
       "  </thead>\n",
       "  <tbody>\n",
       "    <tr>\n",
       "      <th>709</th>\n",
       "      <td>28.0</td>\n",
       "      <td>15.2458</td>\n",
       "      <td>0</td>\n",
       "      <td>0</td>\n",
       "      <td>False</td>\n",
       "      <td>False</td>\n",
       "      <td>True</td>\n",
       "      <td>True</td>\n",
       "      <td>False</td>\n",
       "      <td>False</td>\n",
       "      <td>False</td>\n",
       "      <td>True</td>\n",
       "    </tr>\n",
       "    <tr>\n",
       "      <th>439</th>\n",
       "      <td>31.0</td>\n",
       "      <td>10.5000</td>\n",
       "      <td>1</td>\n",
       "      <td>1</td>\n",
       "      <td>False</td>\n",
       "      <td>True</td>\n",
       "      <td>False</td>\n",
       "      <td>False</td>\n",
       "      <td>False</td>\n",
       "      <td>True</td>\n",
       "      <td>False</td>\n",
       "      <td>True</td>\n",
       "    </tr>\n",
       "    <tr>\n",
       "      <th>840</th>\n",
       "      <td>20.0</td>\n",
       "      <td>7.9250</td>\n",
       "      <td>1</td>\n",
       "      <td>1</td>\n",
       "      <td>False</td>\n",
       "      <td>False</td>\n",
       "      <td>True</td>\n",
       "      <td>False</td>\n",
       "      <td>False</td>\n",
       "      <td>True</td>\n",
       "      <td>False</td>\n",
       "      <td>True</td>\n",
       "    </tr>\n",
       "    <tr>\n",
       "      <th>720</th>\n",
       "      <td>6.0</td>\n",
       "      <td>33.0000</td>\n",
       "      <td>0</td>\n",
       "      <td>0</td>\n",
       "      <td>False</td>\n",
       "      <td>True</td>\n",
       "      <td>False</td>\n",
       "      <td>False</td>\n",
       "      <td>False</td>\n",
       "      <td>True</td>\n",
       "      <td>True</td>\n",
       "      <td>False</td>\n",
       "    </tr>\n",
       "    <tr>\n",
       "      <th>39</th>\n",
       "      <td>14.0</td>\n",
       "      <td>11.2417</td>\n",
       "      <td>0</td>\n",
       "      <td>0</td>\n",
       "      <td>False</td>\n",
       "      <td>False</td>\n",
       "      <td>True</td>\n",
       "      <td>True</td>\n",
       "      <td>False</td>\n",
       "      <td>False</td>\n",
       "      <td>True</td>\n",
       "      <td>False</td>\n",
       "    </tr>\n",
       "  </tbody>\n",
       "</table>\n",
       "</div>"
      ],
      "text/plain": [
       "      age     fare  alone  TravelAlone  pclass_1  pclass_2  pclass_3  \\\n",
       "709  28.0  15.2458      0            0     False     False      True   \n",
       "439  31.0  10.5000      1            1     False      True     False   \n",
       "840  20.0   7.9250      1            1     False     False      True   \n",
       "720   6.0  33.0000      0            0     False      True     False   \n",
       "39   14.0  11.2417      0            0     False     False      True   \n",
       "\n",
       "     embarked_C  embarked_Q  embarked_S  sex_female  sex_male  \n",
       "709        True       False       False       False      True  \n",
       "439       False       False        True       False      True  \n",
       "840       False       False        True       False      True  \n",
       "720       False       False        True        True     False  \n",
       "39         True       False       False        True     False  "
      ]
     },
     "execution_count": 16,
     "metadata": {},
     "output_type": "execute_result"
    }
   ],
   "source": [
    "# Se utiliza la información de Train Data para evitar 'data leakage'\n",
    "\n",
    "test_data = X_test.copy()\n",
    "test_data[\"age\"].fillna(X_train[\"age\"].median(skipna=True), inplace=True)\n",
    "\n",
    "test_data['TravelAlone'] = np.where(\n",
    "    (test_data[\"sibsp\"]+test_data[\"parch\"])>0,\n",
    "    0, \n",
    "    1\n",
    ")\n",
    "\n",
    "test_data.drop('sibsp', axis=1, inplace=True)\n",
    "test_data.drop('parch', axis=1, inplace=True)\n",
    "\n",
    "testing = pd.get_dummies(test_data, columns=[\"pclass\", \"embarked\", \"sex\"])\n",
    "testing.drop('adult_male', axis=1, inplace=True)\n",
    "\n",
    "final_test = testing\n",
    "final_test.head()"
   ]
  },
  {
   "cell_type": "markdown",
   "id": "6c4b09d2",
   "metadata": {},
   "source": [
    "## Análisis Exploratorio"
   ]
  },
  {
   "cell_type": "code",
   "execution_count": 35,
   "id": "63e008d5",
   "metadata": {},
   "outputs": [
    {
     "data": {
      "application/vnd.plotly.v1+json": {
       "config": {
        "plotlyServerURL": "https://plot.ly"
       },
       "data": [
        {
         "bingroup": "x",
         "hovertemplate": "Supervivencia=0<br>Edad=%{x}<br>count=%{y}<extra></extra>",
         "legendgroup": "0",
         "marker": {
          "color": "#636efa",
          "opacity": 0.5,
          "pattern": {
           "shape": ""
          }
         },
         "name": "0",
         "nbinsx": 30,
         "orientation": "v",
         "showlegend": true,
         "type": "histogram",
         "x": {
          "bdata": "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",
          "dtype": "f8"
         },
         "xaxis": "x",
         "yaxis": "y"
        },
        {
         "bingroup": "x",
         "hovertemplate": "Supervivencia=1<br>Edad=%{x}<br>count=%{y}<extra></extra>",
         "legendgroup": "1",
         "marker": {
          "color": "#EF553B",
          "opacity": 0.5,
          "pattern": {
           "shape": ""
          }
         },
         "name": "1",
         "nbinsx": 30,
         "orientation": "v",
         "showlegend": true,
         "type": "histogram",
         "x": {
          "bdata": "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",
          "dtype": "f8"
         },
         "xaxis": "x",
         "yaxis": "y"
        }
       ],
       "layout": {
        "barmode": "overlay",
        "legend": {
         "title": {
          "text": "Supervivencia"
         },
         "tracegroupgap": 0
        },
        "template": {
         "data": {
          "bar": [
           {
            "error_x": {
             "color": "#2a3f5f"
            },
            "error_y": {
             "color": "#2a3f5f"
            },
            "marker": {
             "line": {
              "color": "#E5ECF6",
              "width": 0.5
             },
             "pattern": {
              "fillmode": "overlay",
              "size": 10,
              "solidity": 0.2
             }
            },
            "type": "bar"
           }
          ],
          "barpolar": [
           {
            "marker": {
             "line": {
              "color": "#E5ECF6",
              "width": 0.5
             },
             "pattern": {
              "fillmode": "overlay",
              "size": 10,
              "solidity": 0.2
             }
            },
            "type": "barpolar"
           }
          ],
          "carpet": [
           {
            "aaxis": {
             "endlinecolor": "#2a3f5f",
             "gridcolor": "white",
             "linecolor": "white",
             "minorgridcolor": "white",
             "startlinecolor": "#2a3f5f"
            },
            "baxis": {
             "endlinecolor": "#2a3f5f",
             "gridcolor": "white",
             "linecolor": "white",
             "minorgridcolor": "white",
             "startlinecolor": "#2a3f5f"
            },
            "type": "carpet"
           }
          ],
          "choropleth": [
           {
            "colorbar": {
             "outlinewidth": 0,
             "ticks": ""
            },
            "type": "choropleth"
           }
          ],
          "contour": [
           {
            "colorbar": {
             "outlinewidth": 0,
             "ticks": ""
            },
            "colorscale": [
             [
              0,
              "#0d0887"
             ],
             [
              0.1111111111111111,
              "#46039f"
             ],
             [
              0.2222222222222222,
              "#7201a8"
             ],
             [
              0.3333333333333333,
              "#9c179e"
             ],
             [
              0.4444444444444444,
              "#bd3786"
             ],
             [
              0.5555555555555556,
              "#d8576b"
             ],
             [
              0.6666666666666666,
              "#ed7953"
             ],
             [
              0.7777777777777778,
              "#fb9f3a"
             ],
             [
              0.8888888888888888,
              "#fdca26"
             ],
             [
              1,
              "#f0f921"
             ]
            ],
            "type": "contour"
           }
          ],
          "contourcarpet": [
           {
            "colorbar": {
             "outlinewidth": 0,
             "ticks": ""
            },
            "type": "contourcarpet"
           }
          ],
          "heatmap": [
           {
            "colorbar": {
             "outlinewidth": 0,
             "ticks": ""
            },
            "colorscale": [
             [
              0,
              "#0d0887"
             ],
             [
              0.1111111111111111,
              "#46039f"
             ],
             [
              0.2222222222222222,
              "#7201a8"
             ],
             [
              0.3333333333333333,
              "#9c179e"
             ],
             [
              0.4444444444444444,
              "#bd3786"
             ],
             [
              0.5555555555555556,
              "#d8576b"
             ],
             [
              0.6666666666666666,
              "#ed7953"
             ],
             [
              0.7777777777777778,
              "#fb9f3a"
             ],
             [
              0.8888888888888888,
              "#fdca26"
             ],
             [
              1,
              "#f0f921"
             ]
            ],
            "type": "heatmap"
           }
          ],
          "histogram": [
           {
            "marker": {
             "pattern": {
              "fillmode": "overlay",
              "size": 10,
              "solidity": 0.2
             }
            },
            "type": "histogram"
           }
          ],
          "histogram2d": [
           {
            "colorbar": {
             "outlinewidth": 0,
             "ticks": ""
            },
            "colorscale": [
             [
              0,
              "#0d0887"
             ],
             [
              0.1111111111111111,
              "#46039f"
             ],
             [
              0.2222222222222222,
              "#7201a8"
             ],
             [
              0.3333333333333333,
              "#9c179e"
             ],
             [
              0.4444444444444444,
              "#bd3786"
             ],
             [
              0.5555555555555556,
              "#d8576b"
             ],
             [
              0.6666666666666666,
              "#ed7953"
             ],
             [
              0.7777777777777778,
              "#fb9f3a"
             ],
             [
              0.8888888888888888,
              "#fdca26"
             ],
             [
              1,
              "#f0f921"
             ]
            ],
            "type": "histogram2d"
           }
          ],
          "histogram2dcontour": [
           {
            "colorbar": {
             "outlinewidth": 0,
             "ticks": ""
            },
            "colorscale": [
             [
              0,
              "#0d0887"
             ],
             [
              0.1111111111111111,
              "#46039f"
             ],
             [
              0.2222222222222222,
              "#7201a8"
             ],
             [
              0.3333333333333333,
              "#9c179e"
             ],
             [
              0.4444444444444444,
              "#bd3786"
             ],
             [
              0.5555555555555556,
              "#d8576b"
             ],
             [
              0.6666666666666666,
              "#ed7953"
             ],
             [
              0.7777777777777778,
              "#fb9f3a"
             ],
             [
              0.8888888888888888,
              "#fdca26"
             ],
             [
              1,
              "#f0f921"
             ]
            ],
            "type": "histogram2dcontour"
           }
          ],
          "mesh3d": [
           {
            "colorbar": {
             "outlinewidth": 0,
             "ticks": ""
            },
            "type": "mesh3d"
           }
          ],
          "parcoords": [
           {
            "line": {
             "colorbar": {
              "outlinewidth": 0,
              "ticks": ""
             }
            },
            "type": "parcoords"
           }
          ],
          "pie": [
           {
            "automargin": true,
            "type": "pie"
           }
          ],
          "scatter": [
           {
            "fillpattern": {
             "fillmode": "overlay",
             "size": 10,
             "solidity": 0.2
            },
            "type": "scatter"
           }
          ],
          "scatter3d": [
           {
            "line": {
             "colorbar": {
              "outlinewidth": 0,
              "ticks": ""
             }
            },
            "marker": {
             "colorbar": {
              "outlinewidth": 0,
              "ticks": ""
             }
            },
            "type": "scatter3d"
           }
          ],
          "scattercarpet": [
           {
            "marker": {
             "colorbar": {
              "outlinewidth": 0,
              "ticks": ""
             }
            },
            "type": "scattercarpet"
           }
          ],
          "scattergeo": [
           {
            "marker": {
             "colorbar": {
              "outlinewidth": 0,
              "ticks": ""
             }
            },
            "type": "scattergeo"
           }
          ],
          "scattergl": [
           {
            "marker": {
             "colorbar": {
              "outlinewidth": 0,
              "ticks": ""
             }
            },
            "type": "scattergl"
           }
          ],
          "scattermap": [
           {
            "marker": {
             "colorbar": {
              "outlinewidth": 0,
              "ticks": ""
             }
            },
            "type": "scattermap"
           }
          ],
          "scattermapbox": [
           {
            "marker": {
             "colorbar": {
              "outlinewidth": 0,
              "ticks": ""
             }
            },
            "type": "scattermapbox"
           }
          ],
          "scatterpolar": [
           {
            "marker": {
             "colorbar": {
              "outlinewidth": 0,
              "ticks": ""
             }
            },
            "type": "scatterpolar"
           }
          ],
          "scatterpolargl": [
           {
            "marker": {
             "colorbar": {
              "outlinewidth": 0,
              "ticks": ""
             }
            },
            "type": "scatterpolargl"
           }
          ],
          "scatterternary": [
           {
            "marker": {
             "colorbar": {
              "outlinewidth": 0,
              "ticks": ""
             }
            },
            "type": "scatterternary"
           }
          ],
          "surface": [
           {
            "colorbar": {
             "outlinewidth": 0,
             "ticks": ""
            },
            "colorscale": [
             [
              0,
              "#0d0887"
             ],
             [
              0.1111111111111111,
              "#46039f"
             ],
             [
              0.2222222222222222,
              "#7201a8"
             ],
             [
              0.3333333333333333,
              "#9c179e"
             ],
             [
              0.4444444444444444,
              "#bd3786"
             ],
             [
              0.5555555555555556,
              "#d8576b"
             ],
             [
              0.6666666666666666,
              "#ed7953"
             ],
             [
              0.7777777777777778,
              "#fb9f3a"
             ],
             [
              0.8888888888888888,
              "#fdca26"
             ],
             [
              1,
              "#f0f921"
             ]
            ],
            "type": "surface"
           }
          ],
          "table": [
           {
            "cells": {
             "fill": {
              "color": "#EBF0F8"
             },
             "line": {
              "color": "white"
             }
            },
            "header": {
             "fill": {
              "color": "#C8D4E3"
             },
             "line": {
              "color": "white"
             }
            },
            "type": "table"
           }
          ]
         },
         "layout": {
          "annotationdefaults": {
           "arrowcolor": "#2a3f5f",
           "arrowhead": 0,
           "arrowwidth": 1
          },
          "autotypenumbers": "strict",
          "coloraxis": {
           "colorbar": {
            "outlinewidth": 0,
            "ticks": ""
           }
          },
          "colorscale": {
           "diverging": [
            [
             0,
             "#8e0152"
            ],
            [
             0.1,
             "#c51b7d"
            ],
            [
             0.2,
             "#de77ae"
            ],
            [
             0.3,
             "#f1b6da"
            ],
            [
             0.4,
             "#fde0ef"
            ],
            [
             0.5,
             "#f7f7f7"
            ],
            [
             0.6,
             "#e6f5d0"
            ],
            [
             0.7,
             "#b8e186"
            ],
            [
             0.8,
             "#7fbc41"
            ],
            [
             0.9,
             "#4d9221"
            ],
            [
             1,
             "#276419"
            ]
           ],
           "sequential": [
            [
             0,
             "#0d0887"
            ],
            [
             0.1111111111111111,
             "#46039f"
            ],
            [
             0.2222222222222222,
             "#7201a8"
            ],
            [
             0.3333333333333333,
             "#9c179e"
            ],
            [
             0.4444444444444444,
             "#bd3786"
            ],
            [
             0.5555555555555556,
             "#d8576b"
            ],
            [
             0.6666666666666666,
             "#ed7953"
            ],
            [
             0.7777777777777778,
             "#fb9f3a"
            ],
            [
             0.8888888888888888,
             "#fdca26"
            ],
            [
             1,
             "#f0f921"
            ]
           ],
           "sequentialminus": [
            [
             0,
             "#0d0887"
            ],
            [
             0.1111111111111111,
             "#46039f"
            ],
            [
             0.2222222222222222,
             "#7201a8"
            ],
            [
             0.3333333333333333,
             "#9c179e"
            ],
            [
             0.4444444444444444,
             "#bd3786"
            ],
            [
             0.5555555555555556,
             "#d8576b"
            ],
            [
             0.6666666666666666,
             "#ed7953"
            ],
            [
             0.7777777777777778,
             "#fb9f3a"
            ],
            [
             0.8888888888888888,
             "#fdca26"
            ],
            [
             1,
             "#f0f921"
            ]
           ]
          },
          "colorway": [
           "#636efa",
           "#EF553B",
           "#00cc96",
           "#ab63fa",
           "#FFA15A",
           "#19d3f3",
           "#FF6692",
           "#B6E880",
           "#FF97FF",
           "#FECB52"
          ],
          "font": {
           "color": "#2a3f5f"
          },
          "geo": {
           "bgcolor": "white",
           "lakecolor": "white",
           "landcolor": "#E5ECF6",
           "showlakes": true,
           "showland": true,
           "subunitcolor": "white"
          },
          "hoverlabel": {
           "align": "left"
          },
          "hovermode": "closest",
          "mapbox": {
           "style": "light"
          },
          "paper_bgcolor": "white",
          "plot_bgcolor": "#E5ECF6",
          "polar": {
           "angularaxis": {
            "gridcolor": "white",
            "linecolor": "white",
            "ticks": ""
           },
           "bgcolor": "#E5ECF6",
           "radialaxis": {
            "gridcolor": "white",
            "linecolor": "white",
            "ticks": ""
           }
          },
          "scene": {
           "xaxis": {
            "backgroundcolor": "#E5ECF6",
            "gridcolor": "white",
            "gridwidth": 2,
            "linecolor": "white",
            "showbackground": true,
            "ticks": "",
            "zerolinecolor": "white"
           },
           "yaxis": {
            "backgroundcolor": "#E5ECF6",
            "gridcolor": "white",
            "gridwidth": 2,
            "linecolor": "white",
            "showbackground": true,
            "ticks": "",
            "zerolinecolor": "white"
           },
           "zaxis": {
            "backgroundcolor": "#E5ECF6",
            "gridcolor": "white",
            "gridwidth": 2,
            "linecolor": "white",
            "showbackground": true,
            "ticks": "",
            "zerolinecolor": "white"
           }
          },
          "shapedefaults": {
           "line": {
            "color": "#2a3f5f"
           }
          },
          "ternary": {
           "aaxis": {
            "gridcolor": "white",
            "linecolor": "white",
            "ticks": ""
           },
           "baxis": {
            "gridcolor": "white",
            "linecolor": "white",
            "ticks": ""
           },
           "bgcolor": "#E5ECF6",
           "caxis": {
            "gridcolor": "white",
            "linecolor": "white",
            "ticks": ""
           }
          },
          "title": {
           "x": 0.05
          },
          "xaxis": {
           "automargin": true,
           "gridcolor": "white",
           "linecolor": "white",
           "ticks": "",
           "title": {
            "standoff": 15
           },
           "zerolinecolor": "white",
           "zerolinewidth": 2
          },
          "yaxis": {
           "automargin": true,
           "gridcolor": "white",
           "linecolor": "white",
           "ticks": "",
           "title": {
            "standoff": 15
           },
           "zerolinecolor": "white",
           "zerolinewidth": 2
          }
         }
        },
        "title": {
         "text": "Distribución de edad según supervivencia"
        },
        "xaxis": {
         "anchor": "y",
         "domain": [
          0,
          1
         ],
         "title": {
          "text": "Edad"
         }
        },
        "yaxis": {
         "anchor": "x",
         "domain": [
          0,
          1
         ],
         "title": {
          "text": "count"
         }
        }
       }
      }
     },
     "metadata": {},
     "output_type": "display_data"
    }
   ],
   "source": [
    "# Gráfico simple de la distribución de edad según supervivencia\n",
    "import plotly.express as px\n",
    "\n",
    "df = final_train.copy()\n",
    "df['survived'] = y_train\n",
    "\n",
    "fig = px.histogram(\n",
    "    df, \n",
    "    x='age', \n",
    "    color='survived',\n",
    "    nbins=30,\n",
    "    barmode='overlay',\n",
    "    labels={'survived': 'Supervivencia', 'age': 'Edad'},\n",
    "    title='Distribución de edad según supervivencia'\n",
    ")\n",
    "\n",
    "fig.show()"
   ]
  },
  {
   "cell_type": "markdown",
   "id": "5fd4ba99",
   "metadata": {},
   "source": [
    "#### Distribución de edad según supervivencia\n",
    "\n",
    "La distribución de edad entre los sobrevivientes y los fallecidos es en realidad bastante similar.  \n",
    "Una diferencia notable es que, entre los sobrevivientes, una mayor proporción eran niños.  \n",
    "Todo indica que los pasajeros hicieron un esfuerzo por salvar a los niños, asignándoles un lugar en los botes salvavidas."
   ]
  },
  {
   "cell_type": "code",
   "execution_count": 32,
   "id": "e1ebdc46",
   "metadata": {},
   "outputs": [
    {
     "data": {
      "application/vnd.plotly.v1+json": {
       "config": {
        "plotlyServerURL": "https://plot.ly"
       },
       "data": [
        {
         "hovertemplate": "Edad=%{x}<br>Tasa de supervivencia=%{y}<extra></extra>",
         "legendgroup": "",
         "marker": {
          "color": "LightSeaGreen",
          "pattern": {
           "shape": ""
          }
         },
         "name": "",
         "orientation": "v",
         "showlegend": false,
         "textposition": "auto",
         "type": "bar",
         "x": {
          "bdata": "4XoUrkfh2j9xPQrXo3DlPwAAAAAAAOg/j8L1KFyP6j9xPQrXo3DtPwAAAAAAAPA/AAAAAAAAAEAAAAAAAAAIQAAAAAAAABBAAAAAAAAAFEAAAAAAAAAYQAAAAAAAABxAAAAAAAAAIEAAAAAAAAAiQAAAAAAAACRAAAAAAAAAJkAAAAAAAAAoQAAAAAAAACpAAAAAAAAALEAAAAAAAAAtQAAAAAAAAC5AAAAAAAAAMEAAAAAAAAAxQAAAAAAAADJAAAAAAAAAM0AAAAAAAAA0QAAAAAAAADVAAAAAAAAANkAAAAAAAAA3QAAAAAAAADhAAAAAAACAOEAAAAAAAAA5QAAAAAAAADpAAAAAAAAAO0AAAAAAAAA8QAAAAAAAgDxAAAAAAAAAPUAAAAAAAAA+QAAAAAAAAD9AAAAAAAAAQEAAAAAAAEBAQAAAAAAAgEBAAAAAAAAAQUAAAAAAAEBBQAAAAAAAgEFAAAAAAAAAQkAAAAAAAEBCQAAAAAAAgEJAAAAAAAAAQ0AAAAAAAIBDQAAAAAAAAERAAAAAAABAREAAAAAAAIBEQAAAAAAAAEVAAAAAAACARUAAAAAAAABGQAAAAAAAgEZAAAAAAADARkAAAAAAAABHQAAAAAAAgEdAAAAAAAAASEAAAAAAAIBIQAAAAAAAAElAAAAAAACASUAAAAAAAABKQAAAAAAAgEpAAAAAAAAAS0AAAAAAAIBLQAAAAAAAwEtAAAAAAAAATEAAAAAAAIBMQAAAAAAAAE1AAAAAAACATUAAAAAAAABOQAAAAAAAgE5AAAAAAAAAT0AAAAAAAIBPQAAAAAAAAFBAAAAAAABAUEAAAAAAAIBRQAAAAAAAoFFAAAAAAACAUkAAAAAAAABUQA==",
          "dtype": "f8"
         },
         "xaxis": "x",
         "y": {
          "bdata": "AAAAAAAA8D8AAAAAAADwPwAAAAAAAPA/AAAAAAAA8D8AAAAAAADwP7dt27Zt2+Y/MzMzMzMz0z+rqqqqqqrqPwAAAAAAAOg/AAAAAAAA8D8AAAAAAADgP1VVVVVVVdU/AAAAAAAA4D+amZmZmZnJPwAAAAAAAAAAAAAAAAAAAAAAAAAAAADwPwAAAAAAAPA/mpmZmZmZ2T8AAAAAAAAAAAAAAAAAAOg/VVVVVVVV1T8AAAAAAADgPwAAAAAAANA/eQ3lNZTX0D8AAAAAAADQP3kN5TWU19A/ZCELWchC1j+amZmZmZnZP2IndmInduI/AAAAAAAAAACSJEmSJEnSPxEREREREdE/d3d3d3d35z8pJuiuUkzQPwAAAAAAAAAAAAAAAAAA3D9mZmZmZmbWP57YiZ3Yid0/ERERERER4T8AAAAAAADgP5qZmZmZmdk/FDuxEzux0z8AAAAAAAAAACVJkiRJkuQ/3t3d3d3d3T8AAAAAAAAAAAAAAAAAANA/kiRJkiRJ4j9GF1100UXXPwAAAAAAANg/AAAAAAAAAACamZmZmZnZPxdddNFFF90/AAAAAAAA0D/btm3btm3bP5qZmZmZmdk/AAAAAAAAAAAAAAAAAAAAAJIkSZIkScI/t23btm3b5j8AAAAAAADgPxzHcRzHcdw/kiRJkiRJ0j8AAAAAAADQPwAAAAAAAPA/AAAAAAAA2D8AAAAAAADgPwAAAAAAAAAAVVVVVVVV5T8AAAAAAAAAAAAAAAAAAOg/AAAAAAAAAAAAAAAAAADgPwAAAAAAAAAAAAAAAAAA4D8AAAAAAADwPwAAAAAAAAAAAAAAAAAAAAAAAAAAAAAAAAAAAAAAAAAAAAAAAAAAAAAAAAAAAADwPw==",
          "dtype": "f8"
         },
         "yaxis": "y"
        }
       ],
       "layout": {
        "barmode": "relative",
        "height": 500,
        "legend": {
         "tracegroupgap": 0
        },
        "template": {
         "data": {
          "bar": [
           {
            "error_x": {
             "color": "#2a3f5f"
            },
            "error_y": {
             "color": "#2a3f5f"
            },
            "marker": {
             "line": {
              "color": "#E5ECF6",
              "width": 0.5
             },
             "pattern": {
              "fillmode": "overlay",
              "size": 10,
              "solidity": 0.2
             }
            },
            "type": "bar"
           }
          ],
          "barpolar": [
           {
            "marker": {
             "line": {
              "color": "#E5ECF6",
              "width": 0.5
             },
             "pattern": {
              "fillmode": "overlay",
              "size": 10,
              "solidity": 0.2
             }
            },
            "type": "barpolar"
           }
          ],
          "carpet": [
           {
            "aaxis": {
             "endlinecolor": "#2a3f5f",
             "gridcolor": "white",
             "linecolor": "white",
             "minorgridcolor": "white",
             "startlinecolor": "#2a3f5f"
            },
            "baxis": {
             "endlinecolor": "#2a3f5f",
             "gridcolor": "white",
             "linecolor": "white",
             "minorgridcolor": "white",
             "startlinecolor": "#2a3f5f"
            },
            "type": "carpet"
           }
          ],
          "choropleth": [
           {
            "colorbar": {
             "outlinewidth": 0,
             "ticks": ""
            },
            "type": "choropleth"
           }
          ],
          "contour": [
           {
            "colorbar": {
             "outlinewidth": 0,
             "ticks": ""
            },
            "colorscale": [
             [
              0,
              "#0d0887"
             ],
             [
              0.1111111111111111,
              "#46039f"
             ],
             [
              0.2222222222222222,
              "#7201a8"
             ],
             [
              0.3333333333333333,
              "#9c179e"
             ],
             [
              0.4444444444444444,
              "#bd3786"
             ],
             [
              0.5555555555555556,
              "#d8576b"
             ],
             [
              0.6666666666666666,
              "#ed7953"
             ],
             [
              0.7777777777777778,
              "#fb9f3a"
             ],
             [
              0.8888888888888888,
              "#fdca26"
             ],
             [
              1,
              "#f0f921"
             ]
            ],
            "type": "contour"
           }
          ],
          "contourcarpet": [
           {
            "colorbar": {
             "outlinewidth": 0,
             "ticks": ""
            },
            "type": "contourcarpet"
           }
          ],
          "heatmap": [
           {
            "colorbar": {
             "outlinewidth": 0,
             "ticks": ""
            },
            "colorscale": [
             [
              0,
              "#0d0887"
             ],
             [
              0.1111111111111111,
              "#46039f"
             ],
             [
              0.2222222222222222,
              "#7201a8"
             ],
             [
              0.3333333333333333,
              "#9c179e"
             ],
             [
              0.4444444444444444,
              "#bd3786"
             ],
             [
              0.5555555555555556,
              "#d8576b"
             ],
             [
              0.6666666666666666,
              "#ed7953"
             ],
             [
              0.7777777777777778,
              "#fb9f3a"
             ],
             [
              0.8888888888888888,
              "#fdca26"
             ],
             [
              1,
              "#f0f921"
             ]
            ],
            "type": "heatmap"
           }
          ],
          "histogram": [
           {
            "marker": {
             "pattern": {
              "fillmode": "overlay",
              "size": 10,
              "solidity": 0.2
             }
            },
            "type": "histogram"
           }
          ],
          "histogram2d": [
           {
            "colorbar": {
             "outlinewidth": 0,
             "ticks": ""
            },
            "colorscale": [
             [
              0,
              "#0d0887"
             ],
             [
              0.1111111111111111,
              "#46039f"
             ],
             [
              0.2222222222222222,
              "#7201a8"
             ],
             [
              0.3333333333333333,
              "#9c179e"
             ],
             [
              0.4444444444444444,
              "#bd3786"
             ],
             [
              0.5555555555555556,
              "#d8576b"
             ],
             [
              0.6666666666666666,
              "#ed7953"
             ],
             [
              0.7777777777777778,
              "#fb9f3a"
             ],
             [
              0.8888888888888888,
              "#fdca26"
             ],
             [
              1,
              "#f0f921"
             ]
            ],
            "type": "histogram2d"
           }
          ],
          "histogram2dcontour": [
           {
            "colorbar": {
             "outlinewidth": 0,
             "ticks": ""
            },
            "colorscale": [
             [
              0,
              "#0d0887"
             ],
             [
              0.1111111111111111,
              "#46039f"
             ],
             [
              0.2222222222222222,
              "#7201a8"
             ],
             [
              0.3333333333333333,
              "#9c179e"
             ],
             [
              0.4444444444444444,
              "#bd3786"
             ],
             [
              0.5555555555555556,
              "#d8576b"
             ],
             [
              0.6666666666666666,
              "#ed7953"
             ],
             [
              0.7777777777777778,
              "#fb9f3a"
             ],
             [
              0.8888888888888888,
              "#fdca26"
             ],
             [
              1,
              "#f0f921"
             ]
            ],
            "type": "histogram2dcontour"
           }
          ],
          "mesh3d": [
           {
            "colorbar": {
             "outlinewidth": 0,
             "ticks": ""
            },
            "type": "mesh3d"
           }
          ],
          "parcoords": [
           {
            "line": {
             "colorbar": {
              "outlinewidth": 0,
              "ticks": ""
             }
            },
            "type": "parcoords"
           }
          ],
          "pie": [
           {
            "automargin": true,
            "type": "pie"
           }
          ],
          "scatter": [
           {
            "fillpattern": {
             "fillmode": "overlay",
             "size": 10,
             "solidity": 0.2
            },
            "type": "scatter"
           }
          ],
          "scatter3d": [
           {
            "line": {
             "colorbar": {
              "outlinewidth": 0,
              "ticks": ""
             }
            },
            "marker": {
             "colorbar": {
              "outlinewidth": 0,
              "ticks": ""
             }
            },
            "type": "scatter3d"
           }
          ],
          "scattercarpet": [
           {
            "marker": {
             "colorbar": {
              "outlinewidth": 0,
              "ticks": ""
             }
            },
            "type": "scattercarpet"
           }
          ],
          "scattergeo": [
           {
            "marker": {
             "colorbar": {
              "outlinewidth": 0,
              "ticks": ""
             }
            },
            "type": "scattergeo"
           }
          ],
          "scattergl": [
           {
            "marker": {
             "colorbar": {
              "outlinewidth": 0,
              "ticks": ""
             }
            },
            "type": "scattergl"
           }
          ],
          "scattermap": [
           {
            "marker": {
             "colorbar": {
              "outlinewidth": 0,
              "ticks": ""
             }
            },
            "type": "scattermap"
           }
          ],
          "scattermapbox": [
           {
            "marker": {
             "colorbar": {
              "outlinewidth": 0,
              "ticks": ""
             }
            },
            "type": "scattermapbox"
           }
          ],
          "scatterpolar": [
           {
            "marker": {
             "colorbar": {
              "outlinewidth": 0,
              "ticks": ""
             }
            },
            "type": "scatterpolar"
           }
          ],
          "scatterpolargl": [
           {
            "marker": {
             "colorbar": {
              "outlinewidth": 0,
              "ticks": ""
             }
            },
            "type": "scatterpolargl"
           }
          ],
          "scatterternary": [
           {
            "marker": {
             "colorbar": {
              "outlinewidth": 0,
              "ticks": ""
             }
            },
            "type": "scatterternary"
           }
          ],
          "surface": [
           {
            "colorbar": {
             "outlinewidth": 0,
             "ticks": ""
            },
            "colorscale": [
             [
              0,
              "#0d0887"
             ],
             [
              0.1111111111111111,
              "#46039f"
             ],
             [
              0.2222222222222222,
              "#7201a8"
             ],
             [
              0.3333333333333333,
              "#9c179e"
             ],
             [
              0.4444444444444444,
              "#bd3786"
             ],
             [
              0.5555555555555556,
              "#d8576b"
             ],
             [
              0.6666666666666666,
              "#ed7953"
             ],
             [
              0.7777777777777778,
              "#fb9f3a"
             ],
             [
              0.8888888888888888,
              "#fdca26"
             ],
             [
              1,
              "#f0f921"
             ]
            ],
            "type": "surface"
           }
          ],
          "table": [
           {
            "cells": {
             "fill": {
              "color": "#EBF0F8"
             },
             "line": {
              "color": "white"
             }
            },
            "header": {
             "fill": {
              "color": "#C8D4E3"
             },
             "line": {
              "color": "white"
             }
            },
            "type": "table"
           }
          ]
         },
         "layout": {
          "annotationdefaults": {
           "arrowcolor": "#2a3f5f",
           "arrowhead": 0,
           "arrowwidth": 1
          },
          "autotypenumbers": "strict",
          "coloraxis": {
           "colorbar": {
            "outlinewidth": 0,
            "ticks": ""
           }
          },
          "colorscale": {
           "diverging": [
            [
             0,
             "#8e0152"
            ],
            [
             0.1,
             "#c51b7d"
            ],
            [
             0.2,
             "#de77ae"
            ],
            [
             0.3,
             "#f1b6da"
            ],
            [
             0.4,
             "#fde0ef"
            ],
            [
             0.5,
             "#f7f7f7"
            ],
            [
             0.6,
             "#e6f5d0"
            ],
            [
             0.7,
             "#b8e186"
            ],
            [
             0.8,
             "#7fbc41"
            ],
            [
             0.9,
             "#4d9221"
            ],
            [
             1,
             "#276419"
            ]
           ],
           "sequential": [
            [
             0,
             "#0d0887"
            ],
            [
             0.1111111111111111,
             "#46039f"
            ],
            [
             0.2222222222222222,
             "#7201a8"
            ],
            [
             0.3333333333333333,
             "#9c179e"
            ],
            [
             0.4444444444444444,
             "#bd3786"
            ],
            [
             0.5555555555555556,
             "#d8576b"
            ],
            [
             0.6666666666666666,
             "#ed7953"
            ],
            [
             0.7777777777777778,
             "#fb9f3a"
            ],
            [
             0.8888888888888888,
             "#fdca26"
            ],
            [
             1,
             "#f0f921"
            ]
           ],
           "sequentialminus": [
            [
             0,
             "#0d0887"
            ],
            [
             0.1111111111111111,
             "#46039f"
            ],
            [
             0.2222222222222222,
             "#7201a8"
            ],
            [
             0.3333333333333333,
             "#9c179e"
            ],
            [
             0.4444444444444444,
             "#bd3786"
            ],
            [
             0.5555555555555556,
             "#d8576b"
            ],
            [
             0.6666666666666666,
             "#ed7953"
            ],
            [
             0.7777777777777778,
             "#fb9f3a"
            ],
            [
             0.8888888888888888,
             "#fdca26"
            ],
            [
             1,
             "#f0f921"
            ]
           ]
          },
          "colorway": [
           "#636efa",
           "#EF553B",
           "#00cc96",
           "#ab63fa",
           "#FFA15A",
           "#19d3f3",
           "#FF6692",
           "#B6E880",
           "#FF97FF",
           "#FECB52"
          ],
          "font": {
           "color": "#2a3f5f"
          },
          "geo": {
           "bgcolor": "white",
           "lakecolor": "white",
           "landcolor": "#E5ECF6",
           "showlakes": true,
           "showland": true,
           "subunitcolor": "white"
          },
          "hoverlabel": {
           "align": "left"
          },
          "hovermode": "closest",
          "mapbox": {
           "style": "light"
          },
          "paper_bgcolor": "white",
          "plot_bgcolor": "#E5ECF6",
          "polar": {
           "angularaxis": {
            "gridcolor": "white",
            "linecolor": "white",
            "ticks": ""
           },
           "bgcolor": "#E5ECF6",
           "radialaxis": {
            "gridcolor": "white",
            "linecolor": "white",
            "ticks": ""
           }
          },
          "scene": {
           "xaxis": {
            "backgroundcolor": "#E5ECF6",
            "gridcolor": "white",
            "gridwidth": 2,
            "linecolor": "white",
            "showbackground": true,
            "ticks": "",
            "zerolinecolor": "white"
           },
           "yaxis": {
            "backgroundcolor": "#E5ECF6",
            "gridcolor": "white",
            "gridwidth": 2,
            "linecolor": "white",
            "showbackground": true,
            "ticks": "",
            "zerolinecolor": "white"
           },
           "zaxis": {
            "backgroundcolor": "#E5ECF6",
            "gridcolor": "white",
            "gridwidth": 2,
            "linecolor": "white",
            "showbackground": true,
            "ticks": "",
            "zerolinecolor": "white"
           }
          },
          "shapedefaults": {
           "line": {
            "color": "#2a3f5f"
           }
          },
          "ternary": {
           "aaxis": {
            "gridcolor": "white",
            "linecolor": "white",
            "ticks": ""
           },
           "baxis": {
            "gridcolor": "white",
            "linecolor": "white",
            "ticks": ""
           },
           "bgcolor": "#E5ECF6",
           "caxis": {
            "gridcolor": "white",
            "linecolor": "white",
            "ticks": ""
           }
          },
          "title": {
           "x": 0.05
          },
          "xaxis": {
           "automargin": true,
           "gridcolor": "white",
           "linecolor": "white",
           "ticks": "",
           "title": {
            "standoff": 15
           },
           "zerolinecolor": "white",
           "zerolinewidth": 2
          },
          "yaxis": {
           "automargin": true,
           "gridcolor": "white",
           "linecolor": "white",
           "ticks": "",
           "title": {
            "standoff": 15
           },
           "zerolinecolor": "white",
           "zerolinewidth": 2
          }
         }
        },
        "title": {
         "text": "Promedio de supervivencia por edad"
        },
        "width": 1000,
        "xaxis": {
         "anchor": "y",
         "domain": [
          0,
          1
         ],
         "range": [
          0,
          85
         ],
         "title": {
          "text": "Edad"
         }
        },
        "yaxis": {
         "anchor": "x",
         "domain": [
          0,
          1
         ],
         "title": {
          "text": "Tasa de supervivencia"
         }
        }
       }
      }
     },
     "metadata": {},
     "output_type": "display_data"
    }
   ],
   "source": [
    "\n",
    "# Asegurar que los índices coincidan\n",
    "final_train = final_train.reset_index(drop=True)\n",
    "y_train = y_train.reset_index(drop=True)\n",
    "\n",
    "# Combinar edad y supervivencia en un solo DataFrame\n",
    "df = final_train.copy()\n",
    "df['survived'] = y_train\n",
    "\n",
    "# Agrupar por edad y calcular el promedio de supervivencia\n",
    "avg_survival_by_age = df.groupby('age', as_index=False)['survived'].mean()\n",
    "\n",
    "# Crear gráfico de barras\n",
    "fig = px.bar(avg_survival_by_age, x='age', y='survived',\n",
    "             title='Promedio de supervivencia por edad',\n",
    "             labels={'age': 'Edad', 'survived': 'Tasa de supervivencia'},\n",
    "             color_discrete_sequence=['LightSeaGreen'],\n",
    "             width=1000, height=500)\n",
    "\n",
    "fig.update_layout(xaxis=dict(range=[0, 85]))\n",
    "fig.show()"
   ]
  },
  {
   "cell_type": "markdown",
   "id": "fa277970",
   "metadata": {},
   "source": [
    "#### Inclusión de variable categórica: \"Menor\"\n",
    "\n",
    "Considerando la tasa de supervivencia de los pasajeros menores de 16 años, incluiré una nueva variable categórica en el conjunto de datos: **\"menor\"**.  \n",
    "Esta variable permitirá identificar si un individuo era menor de edad al momento del embarque, lo cual podría estar relacionado con decisiones de rescate durante el naufragio."
   ]
  },
  {
   "cell_type": "code",
   "execution_count": 33,
   "id": "5eb983e4",
   "metadata": {},
   "outputs": [],
   "source": [
    "final_train['IsMinor'] = np.where(\n",
    "    final_train['age']<=16,\n",
    "    1, \n",
    "    0\n",
    ")\n",
    "\n",
    "final_test['IsMinor'] = np.where(\n",
    "    final_test['age']<=16, \n",
    "    1, \n",
    "    0\n",
    ")"
   ]
  },
  {
   "cell_type": "markdown",
   "id": "1dea9f49",
   "metadata": {},
   "source": [
    "#### Exploración de la tarifa"
   ]
  },
  {
   "cell_type": "code",
   "execution_count": 36,
   "id": "12af0fb2",
   "metadata": {},
   "outputs": [
    {
     "data": {
      "application/vnd.plotly.v1+json": {
       "config": {
        "plotlyServerURL": "https://plot.ly"
       },
       "data": [
        {
         "bingroup": "x",
         "hovertemplate": "Supervivencia=0<br>Tarifa=%{x}<br>count=%{y}<extra></extra>",
         "legendgroup": "0",
         "marker": {
          "color": "#636efa",
          "opacity": 0.5,
          "pattern": {
           "shape": ""
          }
         },
         "name": "0",
         "nbinsx": 30,
         "orientation": "v",
         "showlegend": true,
         "type": "histogram",
         "x": {
          "bdata": "AAAAAACAPEAAAAAAAAAqQDMzMzMzsx9ACfmgZ7NqH0BmZmZmZkY/QDj4wmSq8G5AzczMzMyMOkDx9EpZhrg7QPcGX5hMlR9AZmZmZmYmOEDNzMzMzIwoQNbFbTSANxxAAAAAAAAAKkBmZmZmZkY/QDMzMzMz8xhAMzMzMzNTIUBIUPwYc/ciQHuDL0ym6ixAmpmZmZkZIEAAAAAAAHBqQAAAAAAAAB1AZmZmZmbmHkAPC7WmeXc5QDMzMzMzEzVAVFInoImwTkAAAAAAAAAdQPcGX5hMlR9AAAAAAAAAKkBmZmZmZjY0QDMzMzMzMxxA9wZfmEwVHkAAAAAAAAA1QAAAAAAAAB9AMzMzMzNTIUAzMzMzM7MoQAAAAAAAAAAAZmZmZmbmHEAzMzMzM1MhQAAAAAAAwBlAAAAAAAAAI0CamZmZmRkgQPcGX5hMlR9AAAAAAAAAHUAAAAAAAAA6QAAAAAAAAB9ACfmgZ7PqHECamZmZmRkgQAAAAAAAACVAMzMzMzObWkAAAAAAAAAAAM3MzMzMjDpAMzMzMzNTIUD3Bl+YTJUfQAAAAAAAwDtAAAAAAABAOkDNzMzMzC5jQJqZmZmZGSBAmpmZmZmZIECamZmZmRkuQAAAAAAAACpAMzMzMzNTIUAzMzMzMzMcQAAAAAAAAAAASFD8GHMXLkAAAAAAANhDQDMzMzMzczdAmpmZmZmZHkAAAAAAAAAfQK62Yn/ZfS5AMzMzMzOzH0BmZmZmZu5JQAAAAAAAAC9A7uvAOSPKREC4rwPnjOgsQLivA+eMCCVAAAAAAABgQkAAAAAAAAAlQGZmZmZmJjhAAAAAAAAALUDNzMzMzIw6QAAAAAAAACpAAAAAAAAASUAAAAAAAAA1QPcGX5hMlR9AmpmZmZkZIEAzMzMzMxM1QAAAAAAAgEFAMzMzMzPzS0AzMzMzMzMfQDMzMzMzsx9AAAAAAAAAH0AAAAAAADBBQAAAAAAAAB9AZmZmZmbmHEAJ+aBns+ocQAAAAAAAADJAAAAAAAAAKkAAAAAAAAA6QM3MzMzMjEdAMzMzMzNTIUAAAAAAAAArQAAAAAAAQDRAmpmZmZkZIEAzMzMzM2M/QHBfB84ZUR9A9wZfmEyVH0D3Bl+YTJUfQA8LtaZ5dzlAAAAAAAAAJUAzMzMzM3NHQDMzMzMzUyFAAAAAAAAgPUBmZmZmZqYjQAAAAAAAAB9AMzMzMzOzH0B7gy9MpuosQGZmZmZmlk5AMzMzMzMzLkCamZmZmRkgQGZmZmZmplBAVFInoImAQkBmZmZmZoY0QAAAAAAAAB1A9wZfmEyVH0BmZmZmZuY7QJqZmZmZGTBAkKD4MeYuH0AAAAAAAAAqQAAAAAAAEERAMzMzMzMzHEAAAAAAAAAfQGZmZmZmtjxAAAAAAAAAKkD3Bl+YTJUfQAAAAAAAADpAkKD4MeZuG0APC7WmefczQJqZmZmZGSBAMzMzMzMTNUD3Bl+YTJUfQDMzMzMzY1FAAAAAAAAAOkAAAAAAAAAqQPcGX5hMlR9AzczMzMzMQ0AzMzMzM7MfQJqZmZmZGTBA9wZfmEyVH0BmZmZmZuYcQDMzMzMzkzRAAAAAAAAAOkAAAAAAAAA6QDMzMzMzsz1AAAAAAAAALUCamZmZmZkeQPcGX5hMlR9A1sVtNIA3HEAAAAAAAAAAAM3MzMzMzBtAAAAAAAAAL0BmZmZmZpY5QM3MzMzMjDpAAAAAAAAAOkAAAAAAAAAnQAAAAAAAADVAmpmZmZnJMkAAAAAAAAAlQAAAAAAAAB1A9wZfmEyVH0DNzMzMzIw6QJCg+DHmLh9ACfmgZ7PqHEAAAAAAAAAfQAAAAAAAID1AAAAAAAAAH0AAAAAAAAAqQAAAAAAAYFJAZmZmZmbmHED3Bl+YTJUfQAAAAAAAACdAZmZmZmbmO0AAAAAAAMBRQAn5oGezah9AzczMzMzMLEBmZmZmZuYcQAAAAAAAAC9AMzMzMzNTIUBdbcX+svsZQAAAAAAAAB9AMzMzMzNzR0AAAAAAAAAqQAAAAAAAAAAACfmgZ7PqHED3Bl+YTJUfQA8LtaZ59zNASFD8GHNXJEBmZmZmZiY4QAn5oGezah9ArK3YX3Y/TEAAAAAAAAAAAJqZmZmZGSBACfmgZ7PqHEAAAAAAAAAqQGZmZmZmUlNA1sVtNID3HkAAAAAAANhDQM3MzMzMzDFAAAAAAAAAHUAAAAAAAAAtQAAAAAAAAB1AMzMzMzNjUUAAAAAAAAAqQM3MzMzMcGxAAAAAAAAAMkAJ+aBns2ofQAAAAAAAgFZAMzMzMzMzRUBmZmZmZiY4QJqZmZmZGR9AAAAAAABAHUD3Bl+YTJUfQAAAAAAAACNAMzMzMzOzH0AzMzMzM2NRQAAAAAAA2ENAzczMzMzMLEBmZmZmZiY4QJqZmZmZGSBAmpmZmZkZH0CamZmZmRkgQAAAAAAAYFJAAAAAAAAgPUAAAAAAACA9QJqZmZmZGSBAdnEbDeCtNUAAAAAAAAAfQN/gC5OpAkFAmpmZmZkZMEAzMzMzM3NHQJqZmZmZGSBAMzMzMzOzIkBmZmZmZuYcQAAAAAAAgEBAMzMzMzNTIUAAAAAAAAAvQA8LtaZ5dzlAmpmZmZkZIEAzMzMzMxM1QAn5oGez6hxAmpmZmZkZIEAAAAAAAAAtQAAAAAAAACNAzczMzMwsI0AAAAAAAAAnQGZmZmZmtlNAMzMzMzNzN0CamZmZmRkfQJqZmZmZGSBAAAAAAACAQ0CQoPgx5u4eQJqZmZmZGR9AuK8D54zoLEAeFmpN804hQJCg+DHm7h5AZmZmZmYmOEAAAAAAAAAuQGZmZmZmRj9AMzMzMzOzL0AAAAAAAAAjQAAAAAAAACpAAAAAAADAO0CamZmZmRkwQJqZmZmZGR9AMzMzMzOzH0AAAAAAAAAqQJqZmZmZ6VNAZmZmZmZGP0CamZmZmfFiQM3MzMzMDClAAAAAAAAAOkDNzMzMzMxTQJqZmZmZGSBAAAAAAAAwQUAzMzMzM1MhQKyt2F92P0xA9wZfmEyVH0AAAAAAAAAqQAAAAAAAABtAmpmZmZkZH0AeFmpN884gQDMzMzMzsyFAio7k8h8SPkBdbcX+svsZQAAAAAAAcHBAmpmZmZkZH0CamZmZmRkgQGZmZmZm5htAAAAAAABAOkBmZmZmZqYjQPcGX5hMlR9AzczMzMyMH0AAAAAAAAAlQAAAAAAAACVAAAAAAAAAJUAAAAAAAAAAAJqZmZmZGTBAZmZmZmZGIEAzMzMzM3NHQDMzMzMzY1FAAAAAAAAAAAAAAAAAAAAjQJqZmZmZGSBAAAAAAAAAK0AAAAAAAABKQNGRXP5D9GBAAAAAAAAAFEAAAAAAAAAAAJqZmZmZGSBAAAAAAAAALEAzMzMzMzMeQPcGX5hMlR9ACfmgZ7PqHEAAAAAAAAAjQPcGX5hMlR9AMzMzMzNjUUAAAAAAAAA6QJqZmZmZOVtAmpmZmZkZMED3Bl+YTJUfQAAAAAAA2ENAAAAAAAAAJUAAAAAAAIAcQGZmZmZmRj9AAAAAAAAAJUCjI7n8h7hbQDMzMzMzY1FACfmgZ7PqHEAAAAAAAABKQAAAAAAAwEBAAAAAAAAAG0CamZmZmRkgQJqZmZmZGSBAuK8D54zoLECamZmZmRkgQDMzMzMzsy9AMzMzMzOzH0AAAAAAAAA6QJCg+DHmLh9AAAAAAAAAO0CamZmZmRkgQGZmZmZm5jtA9wZfmEyVH0AzMzMzM1MhQDMzMzMzc0dAAAAAAAAAH0CjkjoBTYQeQAAAAAAAACNAAAAAAAAAKkAAAAAAAHBwQPcGX5hMlR9AzczMzMwMEEAAAAAAAAAqQAAAAAAAAAAAAAAAAAAAHUCamZmZmfFiQB4Wak3zbiJAZmZmZmbeVEAzMzMzM1MhQKyt2F92P0lA8fRKWYa4O0AJ+aBns2ofQDMzMzMz8yJAAAAAAACAPkCamZmZmRkfQM3MzMzMjEpAmpmZmZkZH0Dx9EpZhrg7QM3MzMzM7CRAmpmZmZkZIEAzMzMzM2NRQM3MzMzMjDpAMzMzMzOzH0CamZmZmRkgQLivA+eM6CxAAAAAAAAANUAJ+aBns2ofQPcGX5hMlR9AZmZmZmYmOEAJ+aBns+ocQPcGX5hMlR9AAAAAAAAAIkDNzMzMzOwkQAmKH2PuilRAAAAAAAAAH0BmZmZmZoY2QJqZmZmZGSBACfmgZ7NqH0AAAAAAAMBBQJqZmZmZGSBAAAAAAAAAH0BmZmZmZkY/QDMzMzMzsz1AAAAAAAAAJUD3Bl+YTJUfQM3MzMzMzBlAAAAAAAAAIkAAAAAAAIAcQPcGX5hMlR9AAAAAAAAAK0AAAAAAANhDQPcGX5hMlR9AAAAAAAAAPkCamZmZmZkeQAAAAAAAAEpAzczMzMysI0AAAAAAAAAfQM3MzMzMjDpA9wZfmEyVH0AAAAAAAAAfQJqZmZmZGTBAAAAAAAAAH0AAAAAAAAAqQAAAAAAAYFJAmpmZmZkZH0AAAAAAAAAAAAAAAAAAAB1AAAAAAAAAKkCamZmZmbkgQAAAAAAAADhAZmZmZmbmHED3Bl+YTJUfQF1txf6y+x1AAAAAAAAAOkCamZmZmRkgQJqZmZmZGSBAAAAAAAAAH0AAAAAAAAAAAJqZmZmZGSBAmpmZmZkZIEAAAAAAAAA6QDMzMzMzc0dAAAAAAAAAP0BIUPwYczcsQGZmZmZmUlNA",
          "dtype": "f8"
         },
         "xaxis": "x",
         "yaxis": "y"
        },
        {
         "bingroup": "x",
         "hovertemplate": "Supervivencia=1<br>Tarifa=%{x}<br>count=%{y}<extra></extra>",
         "legendgroup": "1",
         "marker": {
          "color": "#EF553B",
          "opacity": 0.5,
          "pattern": {
           "shape": ""
          }
         },
         "name": "1",
         "nbinsx": 30,
         "orientation": "v",
         "showlegend": true,
         "type": "histogram",
         "x": {
          "bdata": "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",
          "dtype": "f8"
         },
         "xaxis": "x",
         "yaxis": "y"
        }
       ],
       "layout": {
        "barmode": "overlay",
        "legend": {
         "title": {
          "text": "Supervivencia"
         },
         "tracegroupgap": 0
        },
        "template": {
         "data": {
          "bar": [
           {
            "error_x": {
             "color": "#2a3f5f"
            },
            "error_y": {
             "color": "#2a3f5f"
            },
            "marker": {
             "line": {
              "color": "#E5ECF6",
              "width": 0.5
             },
             "pattern": {
              "fillmode": "overlay",
              "size": 10,
              "solidity": 0.2
             }
            },
            "type": "bar"
           }
          ],
          "barpolar": [
           {
            "marker": {
             "line": {
              "color": "#E5ECF6",
              "width": 0.5
             },
             "pattern": {
              "fillmode": "overlay",
              "size": 10,
              "solidity": 0.2
             }
            },
            "type": "barpolar"
           }
          ],
          "carpet": [
           {
            "aaxis": {
             "endlinecolor": "#2a3f5f",
             "gridcolor": "white",
             "linecolor": "white",
             "minorgridcolor": "white",
             "startlinecolor": "#2a3f5f"
            },
            "baxis": {
             "endlinecolor": "#2a3f5f",
             "gridcolor": "white",
             "linecolor": "white",
             "minorgridcolor": "white",
             "startlinecolor": "#2a3f5f"
            },
            "type": "carpet"
           }
          ],
          "choropleth": [
           {
            "colorbar": {
             "outlinewidth": 0,
             "ticks": ""
            },
            "type": "choropleth"
           }
          ],
          "contour": [
           {
            "colorbar": {
             "outlinewidth": 0,
             "ticks": ""
            },
            "colorscale": [
             [
              0,
              "#0d0887"
             ],
             [
              0.1111111111111111,
              "#46039f"
             ],
             [
              0.2222222222222222,
              "#7201a8"
             ],
             [
              0.3333333333333333,
              "#9c179e"
             ],
             [
              0.4444444444444444,
              "#bd3786"
             ],
             [
              0.5555555555555556,
              "#d8576b"
             ],
             [
              0.6666666666666666,
              "#ed7953"
             ],
             [
              0.7777777777777778,
              "#fb9f3a"
             ],
             [
              0.8888888888888888,
              "#fdca26"
             ],
             [
              1,
              "#f0f921"
             ]
            ],
            "type": "contour"
           }
          ],
          "contourcarpet": [
           {
            "colorbar": {
             "outlinewidth": 0,
             "ticks": ""
            },
            "type": "contourcarpet"
           }
          ],
          "heatmap": [
           {
            "colorbar": {
             "outlinewidth": 0,
             "ticks": ""
            },
            "colorscale": [
             [
              0,
              "#0d0887"
             ],
             [
              0.1111111111111111,
              "#46039f"
             ],
             [
              0.2222222222222222,
              "#7201a8"
             ],
             [
              0.3333333333333333,
              "#9c179e"
             ],
             [
              0.4444444444444444,
              "#bd3786"
             ],
             [
              0.5555555555555556,
              "#d8576b"
             ],
             [
              0.6666666666666666,
              "#ed7953"
             ],
             [
              0.7777777777777778,
              "#fb9f3a"
             ],
             [
              0.8888888888888888,
              "#fdca26"
             ],
             [
              1,
              "#f0f921"
             ]
            ],
            "type": "heatmap"
           }
          ],
          "histogram": [
           {
            "marker": {
             "pattern": {
              "fillmode": "overlay",
              "size": 10,
              "solidity": 0.2
             }
            },
            "type": "histogram"
           }
          ],
          "histogram2d": [
           {
            "colorbar": {
             "outlinewidth": 0,
             "ticks": ""
            },
            "colorscale": [
             [
              0,
              "#0d0887"
             ],
             [
              0.1111111111111111,
              "#46039f"
             ],
             [
              0.2222222222222222,
              "#7201a8"
             ],
             [
              0.3333333333333333,
              "#9c179e"
             ],
             [
              0.4444444444444444,
              "#bd3786"
             ],
             [
              0.5555555555555556,
              "#d8576b"
             ],
             [
              0.6666666666666666,
              "#ed7953"
             ],
             [
              0.7777777777777778,
              "#fb9f3a"
             ],
             [
              0.8888888888888888,
              "#fdca26"
             ],
             [
              1,
              "#f0f921"
             ]
            ],
            "type": "histogram2d"
           }
          ],
          "histogram2dcontour": [
           {
            "colorbar": {
             "outlinewidth": 0,
             "ticks": ""
            },
            "colorscale": [
             [
              0,
              "#0d0887"
             ],
             [
              0.1111111111111111,
              "#46039f"
             ],
             [
              0.2222222222222222,
              "#7201a8"
             ],
             [
              0.3333333333333333,
              "#9c179e"
             ],
             [
              0.4444444444444444,
              "#bd3786"
             ],
             [
              0.5555555555555556,
              "#d8576b"
             ],
             [
              0.6666666666666666,
              "#ed7953"
             ],
             [
              0.7777777777777778,
              "#fb9f3a"
             ],
             [
              0.8888888888888888,
              "#fdca26"
             ],
             [
              1,
              "#f0f921"
             ]
            ],
            "type": "histogram2dcontour"
           }
          ],
          "mesh3d": [
           {
            "colorbar": {
             "outlinewidth": 0,
             "ticks": ""
            },
            "type": "mesh3d"
           }
          ],
          "parcoords": [
           {
            "line": {
             "colorbar": {
              "outlinewidth": 0,
              "ticks": ""
             }
            },
            "type": "parcoords"
           }
          ],
          "pie": [
           {
            "automargin": true,
            "type": "pie"
           }
          ],
          "scatter": [
           {
            "fillpattern": {
             "fillmode": "overlay",
             "size": 10,
             "solidity": 0.2
            },
            "type": "scatter"
           }
          ],
          "scatter3d": [
           {
            "line": {
             "colorbar": {
              "outlinewidth": 0,
              "ticks": ""
             }
            },
            "marker": {
             "colorbar": {
              "outlinewidth": 0,
              "ticks": ""
             }
            },
            "type": "scatter3d"
           }
          ],
          "scattercarpet": [
           {
            "marker": {
             "colorbar": {
              "outlinewidth": 0,
              "ticks": ""
             }
            },
            "type": "scattercarpet"
           }
          ],
          "scattergeo": [
           {
            "marker": {
             "colorbar": {
              "outlinewidth": 0,
              "ticks": ""
             }
            },
            "type": "scattergeo"
           }
          ],
          "scattergl": [
           {
            "marker": {
             "colorbar": {
              "outlinewidth": 0,
              "ticks": ""
             }
            },
            "type": "scattergl"
           }
          ],
          "scattermap": [
           {
            "marker": {
             "colorbar": {
              "outlinewidth": 0,
              "ticks": ""
             }
            },
            "type": "scattermap"
           }
          ],
          "scattermapbox": [
           {
            "marker": {
             "colorbar": {
              "outlinewidth": 0,
              "ticks": ""
             }
            },
            "type": "scattermapbox"
           }
          ],
          "scatterpolar": [
           {
            "marker": {
             "colorbar": {
              "outlinewidth": 0,
              "ticks": ""
             }
            },
            "type": "scatterpolar"
           }
          ],
          "scatterpolargl": [
           {
            "marker": {
             "colorbar": {
              "outlinewidth": 0,
              "ticks": ""
             }
            },
            "type": "scatterpolargl"
           }
          ],
          "scatterternary": [
           {
            "marker": {
             "colorbar": {
              "outlinewidth": 0,
              "ticks": ""
             }
            },
            "type": "scatterternary"
           }
          ],
          "surface": [
           {
            "colorbar": {
             "outlinewidth": 0,
             "ticks": ""
            },
            "colorscale": [
             [
              0,
              "#0d0887"
             ],
             [
              0.1111111111111111,
              "#46039f"
             ],
             [
              0.2222222222222222,
              "#7201a8"
             ],
             [
              0.3333333333333333,
              "#9c179e"
             ],
             [
              0.4444444444444444,
              "#bd3786"
             ],
             [
              0.5555555555555556,
              "#d8576b"
             ],
             [
              0.6666666666666666,
              "#ed7953"
             ],
             [
              0.7777777777777778,
              "#fb9f3a"
             ],
             [
              0.8888888888888888,
              "#fdca26"
             ],
             [
              1,
              "#f0f921"
             ]
            ],
            "type": "surface"
           }
          ],
          "table": [
           {
            "cells": {
             "fill": {
              "color": "#EBF0F8"
             },
             "line": {
              "color": "white"
             }
            },
            "header": {
             "fill": {
              "color": "#C8D4E3"
             },
             "line": {
              "color": "white"
             }
            },
            "type": "table"
           }
          ]
         },
         "layout": {
          "annotationdefaults": {
           "arrowcolor": "#2a3f5f",
           "arrowhead": 0,
           "arrowwidth": 1
          },
          "autotypenumbers": "strict",
          "coloraxis": {
           "colorbar": {
            "outlinewidth": 0,
            "ticks": ""
           }
          },
          "colorscale": {
           "diverging": [
            [
             0,
             "#8e0152"
            ],
            [
             0.1,
             "#c51b7d"
            ],
            [
             0.2,
             "#de77ae"
            ],
            [
             0.3,
             "#f1b6da"
            ],
            [
             0.4,
             "#fde0ef"
            ],
            [
             0.5,
             "#f7f7f7"
            ],
            [
             0.6,
             "#e6f5d0"
            ],
            [
             0.7,
             "#b8e186"
            ],
            [
             0.8,
             "#7fbc41"
            ],
            [
             0.9,
             "#4d9221"
            ],
            [
             1,
             "#276419"
            ]
           ],
           "sequential": [
            [
             0,
             "#0d0887"
            ],
            [
             0.1111111111111111,
             "#46039f"
            ],
            [
             0.2222222222222222,
             "#7201a8"
            ],
            [
             0.3333333333333333,
             "#9c179e"
            ],
            [
             0.4444444444444444,
             "#bd3786"
            ],
            [
             0.5555555555555556,
             "#d8576b"
            ],
            [
             0.6666666666666666,
             "#ed7953"
            ],
            [
             0.7777777777777778,
             "#fb9f3a"
            ],
            [
             0.8888888888888888,
             "#fdca26"
            ],
            [
             1,
             "#f0f921"
            ]
           ],
           "sequentialminus": [
            [
             0,
             "#0d0887"
            ],
            [
             0.1111111111111111,
             "#46039f"
            ],
            [
             0.2222222222222222,
             "#7201a8"
            ],
            [
             0.3333333333333333,
             "#9c179e"
            ],
            [
             0.4444444444444444,
             "#bd3786"
            ],
            [
             0.5555555555555556,
             "#d8576b"
            ],
            [
             0.6666666666666666,
             "#ed7953"
            ],
            [
             0.7777777777777778,
             "#fb9f3a"
            ],
            [
             0.8888888888888888,
             "#fdca26"
            ],
            [
             1,
             "#f0f921"
            ]
           ]
          },
          "colorway": [
           "#636efa",
           "#EF553B",
           "#00cc96",
           "#ab63fa",
           "#FFA15A",
           "#19d3f3",
           "#FF6692",
           "#B6E880",
           "#FF97FF",
           "#FECB52"
          ],
          "font": {
           "color": "#2a3f5f"
          },
          "geo": {
           "bgcolor": "white",
           "lakecolor": "white",
           "landcolor": "#E5ECF6",
           "showlakes": true,
           "showland": true,
           "subunitcolor": "white"
          },
          "hoverlabel": {
           "align": "left"
          },
          "hovermode": "closest",
          "mapbox": {
           "style": "light"
          },
          "paper_bgcolor": "white",
          "plot_bgcolor": "#E5ECF6",
          "polar": {
           "angularaxis": {
            "gridcolor": "white",
            "linecolor": "white",
            "ticks": ""
           },
           "bgcolor": "#E5ECF6",
           "radialaxis": {
            "gridcolor": "white",
            "linecolor": "white",
            "ticks": ""
           }
          },
          "scene": {
           "xaxis": {
            "backgroundcolor": "#E5ECF6",
            "gridcolor": "white",
            "gridwidth": 2,
            "linecolor": "white",
            "showbackground": true,
            "ticks": "",
            "zerolinecolor": "white"
           },
           "yaxis": {
            "backgroundcolor": "#E5ECF6",
            "gridcolor": "white",
            "gridwidth": 2,
            "linecolor": "white",
            "showbackground": true,
            "ticks": "",
            "zerolinecolor": "white"
           },
           "zaxis": {
            "backgroundcolor": "#E5ECF6",
            "gridcolor": "white",
            "gridwidth": 2,
            "linecolor": "white",
            "showbackground": true,
            "ticks": "",
            "zerolinecolor": "white"
           }
          },
          "shapedefaults": {
           "line": {
            "color": "#2a3f5f"
           }
          },
          "ternary": {
           "aaxis": {
            "gridcolor": "white",
            "linecolor": "white",
            "ticks": ""
           },
           "baxis": {
            "gridcolor": "white",
            "linecolor": "white",
            "ticks": ""
           },
           "bgcolor": "#E5ECF6",
           "caxis": {
            "gridcolor": "white",
            "linecolor": "white",
            "ticks": ""
           }
          },
          "title": {
           "x": 0.05
          },
          "xaxis": {
           "automargin": true,
           "gridcolor": "white",
           "linecolor": "white",
           "ticks": "",
           "title": {
            "standoff": 15
           },
           "zerolinecolor": "white",
           "zerolinewidth": 2
          },
          "yaxis": {
           "automargin": true,
           "gridcolor": "white",
           "linecolor": "white",
           "ticks": "",
           "title": {
            "standoff": 15
           },
           "zerolinecolor": "white",
           "zerolinewidth": 2
          }
         }
        },
        "title": {
         "text": "Distribución de tarifas según supervivencia"
        },
        "xaxis": {
         "anchor": "y",
         "domain": [
          0,
          1
         ],
         "range": [
          0,
          200
         ],
         "title": {
          "text": "Tarifa"
         }
        },
        "yaxis": {
         "anchor": "x",
         "domain": [
          0,
          1
         ],
         "title": {
          "text": "count"
         }
        }
       }
      }
     },
     "metadata": {},
     "output_type": "display_data"
    }
   ],
   "source": [
    "# Visualización simple de la distribución de tarifas según supervivencia\n",
    "import plotly.express as px\n",
    "\n",
    "df = final_train.copy()\n",
    "df['survived'] = y_train\n",
    "\n",
    "fig = px.histogram(\n",
    "    df,\n",
    "    x='fare',\n",
    "    color='survived',\n",
    "    nbins=30,\n",
    "    barmode='overlay',\n",
    "    labels={'survived': 'Supervivencia', 'fare': 'Tarifa'},\n",
    "    title='Distribución de tarifas según supervivencia',\n",
    "    range_x=[0, 200]  # Limitar el rango para mejor visualización\n",
    ")\n",
    "\n",
    "fig.show()"
   ]
  },
  {
   "cell_type": "markdown",
   "id": "c4d47bd9",
   "metadata": {},
   "source": [
    "#### Interpretación: relación entre tarifa y supervivencia\n",
    "\n",
    "Dado que las distribuciones de tarifas son claramente diferentes entre los pasajeros que sobrevivieron y los que fallecieron, es probable que esta variable sea un predictor significativo en nuestro modelo final.  \n",
    "Los pasajeros que pagaron tarifas más bajas parecen haber tenido menos probabilidades de sobrevivir.  \n",
    "Esto probablemente está fuertemente correlacionado con la clase del pasajero, la cual exploraremos a continuación."
   ]
  },
  {
   "cell_type": "code",
   "execution_count": 21,
   "id": "82f5f860",
   "metadata": {},
   "outputs": [],
   "source": [
    "import plotly.express as px\n",
    "\n",
    "def graficar_supervivencia_por_categoria(X_train, y_train, col_categorica):\n",
    "    \"\"\"\n",
    "    Genera un gráfico de barras que muestra la tasa de supervivencia promedio\n",
    "    según una variable categórica específica.\n",
    "\n",
    "    Parámetros:\n",
    "    - X_train: DataFrame con las variables explicativas\n",
    "    - y_train: Serie o DataFrame con la variable 'survived'\n",
    "    - col_categorica: string con el nombre de la columna categórica de interés\n",
    "    \"\"\"\n",
    "\n",
    "    # Asegurar que los índices coincidan\n",
    "    X_train = X_train.reset_index(drop=True)\n",
    "    y_train = y_train.reset_index(drop=True)\n",
    "\n",
    "    # Combinar datos\n",
    "    df = X_train.copy()\n",
    "    df['survived'] = y_train\n",
    "\n",
    "    # Agrupar por la variable categórica y calcular promedio de supervivencia\n",
    "    promedio = df.groupby(col_categorica, as_index=False)['survived'].mean()\n",
    "\n",
    "    # Títulos dinámicos\n",
    "    titulo = f'Tasa de supervivencia por categoría: {col_categorica}'\n",
    "    etiqueta_x = col_categorica.capitalize()\n",
    "    etiqueta_y = 'Tasa de supervivencia'\n",
    "\n",
    "    # Crear gráfico\n",
    "    fig = px.bar(promedio, x=col_categorica, y='survived',\n",
    "                 title=titulo,\n",
    "                 labels={col_categorica: etiqueta_x, 'survived': etiqueta_y},\n",
    "                 color_discrete_sequence=['darkturquoise'],\n",
    "                 width=800, height=400)\n",
    "\n",
    "    fig.show()"
   ]
  },
  {
   "cell_type": "markdown",
   "id": "6b1a1e8f",
   "metadata": {},
   "source": [
    "#### Exploración de la clase del pasajero"
   ]
  },
  {
   "cell_type": "code",
   "execution_count": 22,
   "id": "da33438a",
   "metadata": {},
   "outputs": [
    {
     "data": {
      "application/vnd.plotly.v1+json": {
       "config": {
        "plotlyServerURL": "https://plot.ly"
       },
       "data": [
        {
         "hovertemplate": "Pclass=%{x}<br>Tasa de supervivencia=%{y}<extra></extra>",
         "legendgroup": "",
         "marker": {
          "color": "darkturquoise",
          "pattern": {
           "shape": ""
          }
         },
         "name": "",
         "orientation": "v",
         "showlegend": false,
         "textposition": "auto",
         "type": "bar",
         "x": {
          "bdata": "AQID",
          "dtype": "i1"
         },
         "xaxis": "x",
         "y": {
          "bdata": "7I4XW4Jv4z/4wnvhvfDeP5o4jNXW384/",
          "dtype": "f8"
         },
         "yaxis": "y"
        }
       ],
       "layout": {
        "barmode": "relative",
        "height": 400,
        "legend": {
         "tracegroupgap": 0
        },
        "template": {
         "data": {
          "bar": [
           {
            "error_x": {
             "color": "#2a3f5f"
            },
            "error_y": {
             "color": "#2a3f5f"
            },
            "marker": {
             "line": {
              "color": "#E5ECF6",
              "width": 0.5
             },
             "pattern": {
              "fillmode": "overlay",
              "size": 10,
              "solidity": 0.2
             }
            },
            "type": "bar"
           }
          ],
          "barpolar": [
           {
            "marker": {
             "line": {
              "color": "#E5ECF6",
              "width": 0.5
             },
             "pattern": {
              "fillmode": "overlay",
              "size": 10,
              "solidity": 0.2
             }
            },
            "type": "barpolar"
           }
          ],
          "carpet": [
           {
            "aaxis": {
             "endlinecolor": "#2a3f5f",
             "gridcolor": "white",
             "linecolor": "white",
             "minorgridcolor": "white",
             "startlinecolor": "#2a3f5f"
            },
            "baxis": {
             "endlinecolor": "#2a3f5f",
             "gridcolor": "white",
             "linecolor": "white",
             "minorgridcolor": "white",
             "startlinecolor": "#2a3f5f"
            },
            "type": "carpet"
           }
          ],
          "choropleth": [
           {
            "colorbar": {
             "outlinewidth": 0,
             "ticks": ""
            },
            "type": "choropleth"
           }
          ],
          "contour": [
           {
            "colorbar": {
             "outlinewidth": 0,
             "ticks": ""
            },
            "colorscale": [
             [
              0,
              "#0d0887"
             ],
             [
              0.1111111111111111,
              "#46039f"
             ],
             [
              0.2222222222222222,
              "#7201a8"
             ],
             [
              0.3333333333333333,
              "#9c179e"
             ],
             [
              0.4444444444444444,
              "#bd3786"
             ],
             [
              0.5555555555555556,
              "#d8576b"
             ],
             [
              0.6666666666666666,
              "#ed7953"
             ],
             [
              0.7777777777777778,
              "#fb9f3a"
             ],
             [
              0.8888888888888888,
              "#fdca26"
             ],
             [
              1,
              "#f0f921"
             ]
            ],
            "type": "contour"
           }
          ],
          "contourcarpet": [
           {
            "colorbar": {
             "outlinewidth": 0,
             "ticks": ""
            },
            "type": "contourcarpet"
           }
          ],
          "heatmap": [
           {
            "colorbar": {
             "outlinewidth": 0,
             "ticks": ""
            },
            "colorscale": [
             [
              0,
              "#0d0887"
             ],
             [
              0.1111111111111111,
              "#46039f"
             ],
             [
              0.2222222222222222,
              "#7201a8"
             ],
             [
              0.3333333333333333,
              "#9c179e"
             ],
             [
              0.4444444444444444,
              "#bd3786"
             ],
             [
              0.5555555555555556,
              "#d8576b"
             ],
             [
              0.6666666666666666,
              "#ed7953"
             ],
             [
              0.7777777777777778,
              "#fb9f3a"
             ],
             [
              0.8888888888888888,
              "#fdca26"
             ],
             [
              1,
              "#f0f921"
             ]
            ],
            "type": "heatmap"
           }
          ],
          "histogram": [
           {
            "marker": {
             "pattern": {
              "fillmode": "overlay",
              "size": 10,
              "solidity": 0.2
             }
            },
            "type": "histogram"
           }
          ],
          "histogram2d": [
           {
            "colorbar": {
             "outlinewidth": 0,
             "ticks": ""
            },
            "colorscale": [
             [
              0,
              "#0d0887"
             ],
             [
              0.1111111111111111,
              "#46039f"
             ],
             [
              0.2222222222222222,
              "#7201a8"
             ],
             [
              0.3333333333333333,
              "#9c179e"
             ],
             [
              0.4444444444444444,
              "#bd3786"
             ],
             [
              0.5555555555555556,
              "#d8576b"
             ],
             [
              0.6666666666666666,
              "#ed7953"
             ],
             [
              0.7777777777777778,
              "#fb9f3a"
             ],
             [
              0.8888888888888888,
              "#fdca26"
             ],
             [
              1,
              "#f0f921"
             ]
            ],
            "type": "histogram2d"
           }
          ],
          "histogram2dcontour": [
           {
            "colorbar": {
             "outlinewidth": 0,
             "ticks": ""
            },
            "colorscale": [
             [
              0,
              "#0d0887"
             ],
             [
              0.1111111111111111,
              "#46039f"
             ],
             [
              0.2222222222222222,
              "#7201a8"
             ],
             [
              0.3333333333333333,
              "#9c179e"
             ],
             [
              0.4444444444444444,
              "#bd3786"
             ],
             [
              0.5555555555555556,
              "#d8576b"
             ],
             [
              0.6666666666666666,
              "#ed7953"
             ],
             [
              0.7777777777777778,
              "#fb9f3a"
             ],
             [
              0.8888888888888888,
              "#fdca26"
             ],
             [
              1,
              "#f0f921"
             ]
            ],
            "type": "histogram2dcontour"
           }
          ],
          "mesh3d": [
           {
            "colorbar": {
             "outlinewidth": 0,
             "ticks": ""
            },
            "type": "mesh3d"
           }
          ],
          "parcoords": [
           {
            "line": {
             "colorbar": {
              "outlinewidth": 0,
              "ticks": ""
             }
            },
            "type": "parcoords"
           }
          ],
          "pie": [
           {
            "automargin": true,
            "type": "pie"
           }
          ],
          "scatter": [
           {
            "fillpattern": {
             "fillmode": "overlay",
             "size": 10,
             "solidity": 0.2
            },
            "type": "scatter"
           }
          ],
          "scatter3d": [
           {
            "line": {
             "colorbar": {
              "outlinewidth": 0,
              "ticks": ""
             }
            },
            "marker": {
             "colorbar": {
              "outlinewidth": 0,
              "ticks": ""
             }
            },
            "type": "scatter3d"
           }
          ],
          "scattercarpet": [
           {
            "marker": {
             "colorbar": {
              "outlinewidth": 0,
              "ticks": ""
             }
            },
            "type": "scattercarpet"
           }
          ],
          "scattergeo": [
           {
            "marker": {
             "colorbar": {
              "outlinewidth": 0,
              "ticks": ""
             }
            },
            "type": "scattergeo"
           }
          ],
          "scattergl": [
           {
            "marker": {
             "colorbar": {
              "outlinewidth": 0,
              "ticks": ""
             }
            },
            "type": "scattergl"
           }
          ],
          "scattermap": [
           {
            "marker": {
             "colorbar": {
              "outlinewidth": 0,
              "ticks": ""
             }
            },
            "type": "scattermap"
           }
          ],
          "scattermapbox": [
           {
            "marker": {
             "colorbar": {
              "outlinewidth": 0,
              "ticks": ""
             }
            },
            "type": "scattermapbox"
           }
          ],
          "scatterpolar": [
           {
            "marker": {
             "colorbar": {
              "outlinewidth": 0,
              "ticks": ""
             }
            },
            "type": "scatterpolar"
           }
          ],
          "scatterpolargl": [
           {
            "marker": {
             "colorbar": {
              "outlinewidth": 0,
              "ticks": ""
             }
            },
            "type": "scatterpolargl"
           }
          ],
          "scatterternary": [
           {
            "marker": {
             "colorbar": {
              "outlinewidth": 0,
              "ticks": ""
             }
            },
            "type": "scatterternary"
           }
          ],
          "surface": [
           {
            "colorbar": {
             "outlinewidth": 0,
             "ticks": ""
            },
            "colorscale": [
             [
              0,
              "#0d0887"
             ],
             [
              0.1111111111111111,
              "#46039f"
             ],
             [
              0.2222222222222222,
              "#7201a8"
             ],
             [
              0.3333333333333333,
              "#9c179e"
             ],
             [
              0.4444444444444444,
              "#bd3786"
             ],
             [
              0.5555555555555556,
              "#d8576b"
             ],
             [
              0.6666666666666666,
              "#ed7953"
             ],
             [
              0.7777777777777778,
              "#fb9f3a"
             ],
             [
              0.8888888888888888,
              "#fdca26"
             ],
             [
              1,
              "#f0f921"
             ]
            ],
            "type": "surface"
           }
          ],
          "table": [
           {
            "cells": {
             "fill": {
              "color": "#EBF0F8"
             },
             "line": {
              "color": "white"
             }
            },
            "header": {
             "fill": {
              "color": "#C8D4E3"
             },
             "line": {
              "color": "white"
             }
            },
            "type": "table"
           }
          ]
         },
         "layout": {
          "annotationdefaults": {
           "arrowcolor": "#2a3f5f",
           "arrowhead": 0,
           "arrowwidth": 1
          },
          "autotypenumbers": "strict",
          "coloraxis": {
           "colorbar": {
            "outlinewidth": 0,
            "ticks": ""
           }
          },
          "colorscale": {
           "diverging": [
            [
             0,
             "#8e0152"
            ],
            [
             0.1,
             "#c51b7d"
            ],
            [
             0.2,
             "#de77ae"
            ],
            [
             0.3,
             "#f1b6da"
            ],
            [
             0.4,
             "#fde0ef"
            ],
            [
             0.5,
             "#f7f7f7"
            ],
            [
             0.6,
             "#e6f5d0"
            ],
            [
             0.7,
             "#b8e186"
            ],
            [
             0.8,
             "#7fbc41"
            ],
            [
             0.9,
             "#4d9221"
            ],
            [
             1,
             "#276419"
            ]
           ],
           "sequential": [
            [
             0,
             "#0d0887"
            ],
            [
             0.1111111111111111,
             "#46039f"
            ],
            [
             0.2222222222222222,
             "#7201a8"
            ],
            [
             0.3333333333333333,
             "#9c179e"
            ],
            [
             0.4444444444444444,
             "#bd3786"
            ],
            [
             0.5555555555555556,
             "#d8576b"
            ],
            [
             0.6666666666666666,
             "#ed7953"
            ],
            [
             0.7777777777777778,
             "#fb9f3a"
            ],
            [
             0.8888888888888888,
             "#fdca26"
            ],
            [
             1,
             "#f0f921"
            ]
           ],
           "sequentialminus": [
            [
             0,
             "#0d0887"
            ],
            [
             0.1111111111111111,
             "#46039f"
            ],
            [
             0.2222222222222222,
             "#7201a8"
            ],
            [
             0.3333333333333333,
             "#9c179e"
            ],
            [
             0.4444444444444444,
             "#bd3786"
            ],
            [
             0.5555555555555556,
             "#d8576b"
            ],
            [
             0.6666666666666666,
             "#ed7953"
            ],
            [
             0.7777777777777778,
             "#fb9f3a"
            ],
            [
             0.8888888888888888,
             "#fdca26"
            ],
            [
             1,
             "#f0f921"
            ]
           ]
          },
          "colorway": [
           "#636efa",
           "#EF553B",
           "#00cc96",
           "#ab63fa",
           "#FFA15A",
           "#19d3f3",
           "#FF6692",
           "#B6E880",
           "#FF97FF",
           "#FECB52"
          ],
          "font": {
           "color": "#2a3f5f"
          },
          "geo": {
           "bgcolor": "white",
           "lakecolor": "white",
           "landcolor": "#E5ECF6",
           "showlakes": true,
           "showland": true,
           "subunitcolor": "white"
          },
          "hoverlabel": {
           "align": "left"
          },
          "hovermode": "closest",
          "mapbox": {
           "style": "light"
          },
          "paper_bgcolor": "white",
          "plot_bgcolor": "#E5ECF6",
          "polar": {
           "angularaxis": {
            "gridcolor": "white",
            "linecolor": "white",
            "ticks": ""
           },
           "bgcolor": "#E5ECF6",
           "radialaxis": {
            "gridcolor": "white",
            "linecolor": "white",
            "ticks": ""
           }
          },
          "scene": {
           "xaxis": {
            "backgroundcolor": "#E5ECF6",
            "gridcolor": "white",
            "gridwidth": 2,
            "linecolor": "white",
            "showbackground": true,
            "ticks": "",
            "zerolinecolor": "white"
           },
           "yaxis": {
            "backgroundcolor": "#E5ECF6",
            "gridcolor": "white",
            "gridwidth": 2,
            "linecolor": "white",
            "showbackground": true,
            "ticks": "",
            "zerolinecolor": "white"
           },
           "zaxis": {
            "backgroundcolor": "#E5ECF6",
            "gridcolor": "white",
            "gridwidth": 2,
            "linecolor": "white",
            "showbackground": true,
            "ticks": "",
            "zerolinecolor": "white"
           }
          },
          "shapedefaults": {
           "line": {
            "color": "#2a3f5f"
           }
          },
          "ternary": {
           "aaxis": {
            "gridcolor": "white",
            "linecolor": "white",
            "ticks": ""
           },
           "baxis": {
            "gridcolor": "white",
            "linecolor": "white",
            "ticks": ""
           },
           "bgcolor": "#E5ECF6",
           "caxis": {
            "gridcolor": "white",
            "linecolor": "white",
            "ticks": ""
           }
          },
          "title": {
           "x": 0.05
          },
          "xaxis": {
           "automargin": true,
           "gridcolor": "white",
           "linecolor": "white",
           "ticks": "",
           "title": {
            "standoff": 15
           },
           "zerolinecolor": "white",
           "zerolinewidth": 2
          },
          "yaxis": {
           "automargin": true,
           "gridcolor": "white",
           "linecolor": "white",
           "ticks": "",
           "title": {
            "standoff": 15
           },
           "zerolinecolor": "white",
           "zerolinewidth": 2
          }
         }
        },
        "title": {
         "text": "Tasa de supervivencia por categoría: pclass"
        },
        "width": 800,
        "xaxis": {
         "anchor": "y",
         "domain": [
          0,
          1
         ],
         "title": {
          "text": "Pclass"
         }
        },
        "yaxis": {
         "anchor": "x",
         "domain": [
          0,
          1
         ],
         "title": {
          "text": "Tasa de supervivencia"
         }
        }
       }
      }
     },
     "metadata": {},
     "output_type": "display_data"
    }
   ],
   "source": [
    "graficar_supervivencia_por_categoria(X_train, y_train, 'pclass')"
   ]
  },
  {
   "cell_type": "markdown",
   "id": "9f14ee5f",
   "metadata": {},
   "source": [
    "##### Interpretación\n",
    "Obviamente los de primera clase tendieron a sorbevivir más."
   ]
  },
  {
   "cell_type": "markdown",
   "id": "b999ebcd",
   "metadata": {},
   "source": [
    "#### Exploración de puerto de embarque"
   ]
  },
  {
   "cell_type": "code",
   "execution_count": 23,
   "id": "f2520a16",
   "metadata": {},
   "outputs": [
    {
     "data": {
      "application/vnd.plotly.v1+json": {
       "config": {
        "plotlyServerURL": "https://plot.ly"
       },
       "data": [
        {
         "hovertemplate": "Embarked=%{x}<br>Tasa de supervivencia=%{y}<extra></extra>",
         "legendgroup": "",
         "marker": {
          "color": "darkturquoise",
          "pattern": {
           "shape": ""
          }
         },
         "name": "",
         "orientation": "v",
         "showlegend": false,
         "textposition": "auto",
         "type": "bar",
         "x": [
          "C",
          "Q",
          "S"
         ],
         "xaxis": "x",
         "y": {
          "bdata": "nMQgsHJo4T93d3d3d3fXP+Lw2nuKdNU/",
          "dtype": "f8"
         },
         "yaxis": "y"
        }
       ],
       "layout": {
        "barmode": "relative",
        "height": 400,
        "legend": {
         "tracegroupgap": 0
        },
        "template": {
         "data": {
          "bar": [
           {
            "error_x": {
             "color": "#2a3f5f"
            },
            "error_y": {
             "color": "#2a3f5f"
            },
            "marker": {
             "line": {
              "color": "#E5ECF6",
              "width": 0.5
             },
             "pattern": {
              "fillmode": "overlay",
              "size": 10,
              "solidity": 0.2
             }
            },
            "type": "bar"
           }
          ],
          "barpolar": [
           {
            "marker": {
             "line": {
              "color": "#E5ECF6",
              "width": 0.5
             },
             "pattern": {
              "fillmode": "overlay",
              "size": 10,
              "solidity": 0.2
             }
            },
            "type": "barpolar"
           }
          ],
          "carpet": [
           {
            "aaxis": {
             "endlinecolor": "#2a3f5f",
             "gridcolor": "white",
             "linecolor": "white",
             "minorgridcolor": "white",
             "startlinecolor": "#2a3f5f"
            },
            "baxis": {
             "endlinecolor": "#2a3f5f",
             "gridcolor": "white",
             "linecolor": "white",
             "minorgridcolor": "white",
             "startlinecolor": "#2a3f5f"
            },
            "type": "carpet"
           }
          ],
          "choropleth": [
           {
            "colorbar": {
             "outlinewidth": 0,
             "ticks": ""
            },
            "type": "choropleth"
           }
          ],
          "contour": [
           {
            "colorbar": {
             "outlinewidth": 0,
             "ticks": ""
            },
            "colorscale": [
             [
              0,
              "#0d0887"
             ],
             [
              0.1111111111111111,
              "#46039f"
             ],
             [
              0.2222222222222222,
              "#7201a8"
             ],
             [
              0.3333333333333333,
              "#9c179e"
             ],
             [
              0.4444444444444444,
              "#bd3786"
             ],
             [
              0.5555555555555556,
              "#d8576b"
             ],
             [
              0.6666666666666666,
              "#ed7953"
             ],
             [
              0.7777777777777778,
              "#fb9f3a"
             ],
             [
              0.8888888888888888,
              "#fdca26"
             ],
             [
              1,
              "#f0f921"
             ]
            ],
            "type": "contour"
           }
          ],
          "contourcarpet": [
           {
            "colorbar": {
             "outlinewidth": 0,
             "ticks": ""
            },
            "type": "contourcarpet"
           }
          ],
          "heatmap": [
           {
            "colorbar": {
             "outlinewidth": 0,
             "ticks": ""
            },
            "colorscale": [
             [
              0,
              "#0d0887"
             ],
             [
              0.1111111111111111,
              "#46039f"
             ],
             [
              0.2222222222222222,
              "#7201a8"
             ],
             [
              0.3333333333333333,
              "#9c179e"
             ],
             [
              0.4444444444444444,
              "#bd3786"
             ],
             [
              0.5555555555555556,
              "#d8576b"
             ],
             [
              0.6666666666666666,
              "#ed7953"
             ],
             [
              0.7777777777777778,
              "#fb9f3a"
             ],
             [
              0.8888888888888888,
              "#fdca26"
             ],
             [
              1,
              "#f0f921"
             ]
            ],
            "type": "heatmap"
           }
          ],
          "histogram": [
           {
            "marker": {
             "pattern": {
              "fillmode": "overlay",
              "size": 10,
              "solidity": 0.2
             }
            },
            "type": "histogram"
           }
          ],
          "histogram2d": [
           {
            "colorbar": {
             "outlinewidth": 0,
             "ticks": ""
            },
            "colorscale": [
             [
              0,
              "#0d0887"
             ],
             [
              0.1111111111111111,
              "#46039f"
             ],
             [
              0.2222222222222222,
              "#7201a8"
             ],
             [
              0.3333333333333333,
              "#9c179e"
             ],
             [
              0.4444444444444444,
              "#bd3786"
             ],
             [
              0.5555555555555556,
              "#d8576b"
             ],
             [
              0.6666666666666666,
              "#ed7953"
             ],
             [
              0.7777777777777778,
              "#fb9f3a"
             ],
             [
              0.8888888888888888,
              "#fdca26"
             ],
             [
              1,
              "#f0f921"
             ]
            ],
            "type": "histogram2d"
           }
          ],
          "histogram2dcontour": [
           {
            "colorbar": {
             "outlinewidth": 0,
             "ticks": ""
            },
            "colorscale": [
             [
              0,
              "#0d0887"
             ],
             [
              0.1111111111111111,
              "#46039f"
             ],
             [
              0.2222222222222222,
              "#7201a8"
             ],
             [
              0.3333333333333333,
              "#9c179e"
             ],
             [
              0.4444444444444444,
              "#bd3786"
             ],
             [
              0.5555555555555556,
              "#d8576b"
             ],
             [
              0.6666666666666666,
              "#ed7953"
             ],
             [
              0.7777777777777778,
              "#fb9f3a"
             ],
             [
              0.8888888888888888,
              "#fdca26"
             ],
             [
              1,
              "#f0f921"
             ]
            ],
            "type": "histogram2dcontour"
           }
          ],
          "mesh3d": [
           {
            "colorbar": {
             "outlinewidth": 0,
             "ticks": ""
            },
            "type": "mesh3d"
           }
          ],
          "parcoords": [
           {
            "line": {
             "colorbar": {
              "outlinewidth": 0,
              "ticks": ""
             }
            },
            "type": "parcoords"
           }
          ],
          "pie": [
           {
            "automargin": true,
            "type": "pie"
           }
          ],
          "scatter": [
           {
            "fillpattern": {
             "fillmode": "overlay",
             "size": 10,
             "solidity": 0.2
            },
            "type": "scatter"
           }
          ],
          "scatter3d": [
           {
            "line": {
             "colorbar": {
              "outlinewidth": 0,
              "ticks": ""
             }
            },
            "marker": {
             "colorbar": {
              "outlinewidth": 0,
              "ticks": ""
             }
            },
            "type": "scatter3d"
           }
          ],
          "scattercarpet": [
           {
            "marker": {
             "colorbar": {
              "outlinewidth": 0,
              "ticks": ""
             }
            },
            "type": "scattercarpet"
           }
          ],
          "scattergeo": [
           {
            "marker": {
             "colorbar": {
              "outlinewidth": 0,
              "ticks": ""
             }
            },
            "type": "scattergeo"
           }
          ],
          "scattergl": [
           {
            "marker": {
             "colorbar": {
              "outlinewidth": 0,
              "ticks": ""
             }
            },
            "type": "scattergl"
           }
          ],
          "scattermap": [
           {
            "marker": {
             "colorbar": {
              "outlinewidth": 0,
              "ticks": ""
             }
            },
            "type": "scattermap"
           }
          ],
          "scattermapbox": [
           {
            "marker": {
             "colorbar": {
              "outlinewidth": 0,
              "ticks": ""
             }
            },
            "type": "scattermapbox"
           }
          ],
          "scatterpolar": [
           {
            "marker": {
             "colorbar": {
              "outlinewidth": 0,
              "ticks": ""
             }
            },
            "type": "scatterpolar"
           }
          ],
          "scatterpolargl": [
           {
            "marker": {
             "colorbar": {
              "outlinewidth": 0,
              "ticks": ""
             }
            },
            "type": "scatterpolargl"
           }
          ],
          "scatterternary": [
           {
            "marker": {
             "colorbar": {
              "outlinewidth": 0,
              "ticks": ""
             }
            },
            "type": "scatterternary"
           }
          ],
          "surface": [
           {
            "colorbar": {
             "outlinewidth": 0,
             "ticks": ""
            },
            "colorscale": [
             [
              0,
              "#0d0887"
             ],
             [
              0.1111111111111111,
              "#46039f"
             ],
             [
              0.2222222222222222,
              "#7201a8"
             ],
             [
              0.3333333333333333,
              "#9c179e"
             ],
             [
              0.4444444444444444,
              "#bd3786"
             ],
             [
              0.5555555555555556,
              "#d8576b"
             ],
             [
              0.6666666666666666,
              "#ed7953"
             ],
             [
              0.7777777777777778,
              "#fb9f3a"
             ],
             [
              0.8888888888888888,
              "#fdca26"
             ],
             [
              1,
              "#f0f921"
             ]
            ],
            "type": "surface"
           }
          ],
          "table": [
           {
            "cells": {
             "fill": {
              "color": "#EBF0F8"
             },
             "line": {
              "color": "white"
             }
            },
            "header": {
             "fill": {
              "color": "#C8D4E3"
             },
             "line": {
              "color": "white"
             }
            },
            "type": "table"
           }
          ]
         },
         "layout": {
          "annotationdefaults": {
           "arrowcolor": "#2a3f5f",
           "arrowhead": 0,
           "arrowwidth": 1
          },
          "autotypenumbers": "strict",
          "coloraxis": {
           "colorbar": {
            "outlinewidth": 0,
            "ticks": ""
           }
          },
          "colorscale": {
           "diverging": [
            [
             0,
             "#8e0152"
            ],
            [
             0.1,
             "#c51b7d"
            ],
            [
             0.2,
             "#de77ae"
            ],
            [
             0.3,
             "#f1b6da"
            ],
            [
             0.4,
             "#fde0ef"
            ],
            [
             0.5,
             "#f7f7f7"
            ],
            [
             0.6,
             "#e6f5d0"
            ],
            [
             0.7,
             "#b8e186"
            ],
            [
             0.8,
             "#7fbc41"
            ],
            [
             0.9,
             "#4d9221"
            ],
            [
             1,
             "#276419"
            ]
           ],
           "sequential": [
            [
             0,
             "#0d0887"
            ],
            [
             0.1111111111111111,
             "#46039f"
            ],
            [
             0.2222222222222222,
             "#7201a8"
            ],
            [
             0.3333333333333333,
             "#9c179e"
            ],
            [
             0.4444444444444444,
             "#bd3786"
            ],
            [
             0.5555555555555556,
             "#d8576b"
            ],
            [
             0.6666666666666666,
             "#ed7953"
            ],
            [
             0.7777777777777778,
             "#fb9f3a"
            ],
            [
             0.8888888888888888,
             "#fdca26"
            ],
            [
             1,
             "#f0f921"
            ]
           ],
           "sequentialminus": [
            [
             0,
             "#0d0887"
            ],
            [
             0.1111111111111111,
             "#46039f"
            ],
            [
             0.2222222222222222,
             "#7201a8"
            ],
            [
             0.3333333333333333,
             "#9c179e"
            ],
            [
             0.4444444444444444,
             "#bd3786"
            ],
            [
             0.5555555555555556,
             "#d8576b"
            ],
            [
             0.6666666666666666,
             "#ed7953"
            ],
            [
             0.7777777777777778,
             "#fb9f3a"
            ],
            [
             0.8888888888888888,
             "#fdca26"
            ],
            [
             1,
             "#f0f921"
            ]
           ]
          },
          "colorway": [
           "#636efa",
           "#EF553B",
           "#00cc96",
           "#ab63fa",
           "#FFA15A",
           "#19d3f3",
           "#FF6692",
           "#B6E880",
           "#FF97FF",
           "#FECB52"
          ],
          "font": {
           "color": "#2a3f5f"
          },
          "geo": {
           "bgcolor": "white",
           "lakecolor": "white",
           "landcolor": "#E5ECF6",
           "showlakes": true,
           "showland": true,
           "subunitcolor": "white"
          },
          "hoverlabel": {
           "align": "left"
          },
          "hovermode": "closest",
          "mapbox": {
           "style": "light"
          },
          "paper_bgcolor": "white",
          "plot_bgcolor": "#E5ECF6",
          "polar": {
           "angularaxis": {
            "gridcolor": "white",
            "linecolor": "white",
            "ticks": ""
           },
           "bgcolor": "#E5ECF6",
           "radialaxis": {
            "gridcolor": "white",
            "linecolor": "white",
            "ticks": ""
           }
          },
          "scene": {
           "xaxis": {
            "backgroundcolor": "#E5ECF6",
            "gridcolor": "white",
            "gridwidth": 2,
            "linecolor": "white",
            "showbackground": true,
            "ticks": "",
            "zerolinecolor": "white"
           },
           "yaxis": {
            "backgroundcolor": "#E5ECF6",
            "gridcolor": "white",
            "gridwidth": 2,
            "linecolor": "white",
            "showbackground": true,
            "ticks": "",
            "zerolinecolor": "white"
           },
           "zaxis": {
            "backgroundcolor": "#E5ECF6",
            "gridcolor": "white",
            "gridwidth": 2,
            "linecolor": "white",
            "showbackground": true,
            "ticks": "",
            "zerolinecolor": "white"
           }
          },
          "shapedefaults": {
           "line": {
            "color": "#2a3f5f"
           }
          },
          "ternary": {
           "aaxis": {
            "gridcolor": "white",
            "linecolor": "white",
            "ticks": ""
           },
           "baxis": {
            "gridcolor": "white",
            "linecolor": "white",
            "ticks": ""
           },
           "bgcolor": "#E5ECF6",
           "caxis": {
            "gridcolor": "white",
            "linecolor": "white",
            "ticks": ""
           }
          },
          "title": {
           "x": 0.05
          },
          "xaxis": {
           "automargin": true,
           "gridcolor": "white",
           "linecolor": "white",
           "ticks": "",
           "title": {
            "standoff": 15
           },
           "zerolinecolor": "white",
           "zerolinewidth": 2
          },
          "yaxis": {
           "automargin": true,
           "gridcolor": "white",
           "linecolor": "white",
           "ticks": "",
           "title": {
            "standoff": 15
           },
           "zerolinecolor": "white",
           "zerolinewidth": 2
          }
         }
        },
        "title": {
         "text": "Tasa de supervivencia por categoría: embarked"
        },
        "width": 800,
        "xaxis": {
         "anchor": "y",
         "domain": [
          0,
          1
         ],
         "title": {
          "text": "Embarked"
         }
        },
        "yaxis": {
         "anchor": "x",
         "domain": [
          0,
          1
         ],
         "title": {
          "text": "Tasa de supervivencia"
         }
        }
       }
      }
     },
     "metadata": {},
     "output_type": "display_data"
    }
   ],
   "source": [
    "graficar_supervivencia_por_categoria(X_train, y_train, 'embarked')"
   ]
  },
  {
   "cell_type": "markdown",
   "id": "d5c08db2",
   "metadata": {},
   "source": [
    "#### Supervivencia según puerto de embarque\n",
    "\n",
    "Los pasajeros que embarcaron en Cherburgo, Francia, parecen haber tenido la mayor tasa de supervivencia.  \n",
    "Los que embarcaron en Southampton tuvieron una probabilidad de supervivencia ligeramente menor que aquellos que embarcaron en Queenstown.  \n",
    "Esto probablemente está relacionado con la clase del pasajero, o incluso con el orden de asignación de habitaciones (por ejemplo, es posible que los primeros pasajeros tuvieran habitaciones más cercanas a la cubierta)."
   ]
  },
  {
   "cell_type": "markdown",
   "id": "b645b3b2",
   "metadata": {},
   "source": [
    "#### Exploración de viajar solo o con familia"
   ]
  },
  {
   "cell_type": "code",
   "execution_count": 24,
   "id": "81e6e976",
   "metadata": {},
   "outputs": [
    {
     "data": {
      "application/vnd.plotly.v1+json": {
       "config": {
        "plotlyServerURL": "https://plot.ly"
       },
       "data": [
        {
         "hovertemplate": "Travelalone=%{x}<br>Tasa de supervivencia=%{y}<extra></extra>",
         "legendgroup": "",
         "marker": {
          "color": "darkturquoise",
          "pattern": {
           "shape": ""
          }
         },
         "name": "",
         "orientation": "v",
         "showlegend": false,
         "textposition": "auto",
         "type": "bar",
         "x": {
          "bdata": "AAE=",
          "dtype": "i1"
         },
         "xaxis": "x",
         "y": {
          "bdata": "QpXBHnr73j88Z/8kCovTPw==",
          "dtype": "f8"
         },
         "yaxis": "y"
        }
       ],
       "layout": {
        "barmode": "relative",
        "height": 400,
        "legend": {
         "tracegroupgap": 0
        },
        "template": {
         "data": {
          "bar": [
           {
            "error_x": {
             "color": "#2a3f5f"
            },
            "error_y": {
             "color": "#2a3f5f"
            },
            "marker": {
             "line": {
              "color": "#E5ECF6",
              "width": 0.5
             },
             "pattern": {
              "fillmode": "overlay",
              "size": 10,
              "solidity": 0.2
             }
            },
            "type": "bar"
           }
          ],
          "barpolar": [
           {
            "marker": {
             "line": {
              "color": "#E5ECF6",
              "width": 0.5
             },
             "pattern": {
              "fillmode": "overlay",
              "size": 10,
              "solidity": 0.2
             }
            },
            "type": "barpolar"
           }
          ],
          "carpet": [
           {
            "aaxis": {
             "endlinecolor": "#2a3f5f",
             "gridcolor": "white",
             "linecolor": "white",
             "minorgridcolor": "white",
             "startlinecolor": "#2a3f5f"
            },
            "baxis": {
             "endlinecolor": "#2a3f5f",
             "gridcolor": "white",
             "linecolor": "white",
             "minorgridcolor": "white",
             "startlinecolor": "#2a3f5f"
            },
            "type": "carpet"
           }
          ],
          "choropleth": [
           {
            "colorbar": {
             "outlinewidth": 0,
             "ticks": ""
            },
            "type": "choropleth"
           }
          ],
          "contour": [
           {
            "colorbar": {
             "outlinewidth": 0,
             "ticks": ""
            },
            "colorscale": [
             [
              0,
              "#0d0887"
             ],
             [
              0.1111111111111111,
              "#46039f"
             ],
             [
              0.2222222222222222,
              "#7201a8"
             ],
             [
              0.3333333333333333,
              "#9c179e"
             ],
             [
              0.4444444444444444,
              "#bd3786"
             ],
             [
              0.5555555555555556,
              "#d8576b"
             ],
             [
              0.6666666666666666,
              "#ed7953"
             ],
             [
              0.7777777777777778,
              "#fb9f3a"
             ],
             [
              0.8888888888888888,
              "#fdca26"
             ],
             [
              1,
              "#f0f921"
             ]
            ],
            "type": "contour"
           }
          ],
          "contourcarpet": [
           {
            "colorbar": {
             "outlinewidth": 0,
             "ticks": ""
            },
            "type": "contourcarpet"
           }
          ],
          "heatmap": [
           {
            "colorbar": {
             "outlinewidth": 0,
             "ticks": ""
            },
            "colorscale": [
             [
              0,
              "#0d0887"
             ],
             [
              0.1111111111111111,
              "#46039f"
             ],
             [
              0.2222222222222222,
              "#7201a8"
             ],
             [
              0.3333333333333333,
              "#9c179e"
             ],
             [
              0.4444444444444444,
              "#bd3786"
             ],
             [
              0.5555555555555556,
              "#d8576b"
             ],
             [
              0.6666666666666666,
              "#ed7953"
             ],
             [
              0.7777777777777778,
              "#fb9f3a"
             ],
             [
              0.8888888888888888,
              "#fdca26"
             ],
             [
              1,
              "#f0f921"
             ]
            ],
            "type": "heatmap"
           }
          ],
          "histogram": [
           {
            "marker": {
             "pattern": {
              "fillmode": "overlay",
              "size": 10,
              "solidity": 0.2
             }
            },
            "type": "histogram"
           }
          ],
          "histogram2d": [
           {
            "colorbar": {
             "outlinewidth": 0,
             "ticks": ""
            },
            "colorscale": [
             [
              0,
              "#0d0887"
             ],
             [
              0.1111111111111111,
              "#46039f"
             ],
             [
              0.2222222222222222,
              "#7201a8"
             ],
             [
              0.3333333333333333,
              "#9c179e"
             ],
             [
              0.4444444444444444,
              "#bd3786"
             ],
             [
              0.5555555555555556,
              "#d8576b"
             ],
             [
              0.6666666666666666,
              "#ed7953"
             ],
             [
              0.7777777777777778,
              "#fb9f3a"
             ],
             [
              0.8888888888888888,
              "#fdca26"
             ],
             [
              1,
              "#f0f921"
             ]
            ],
            "type": "histogram2d"
           }
          ],
          "histogram2dcontour": [
           {
            "colorbar": {
             "outlinewidth": 0,
             "ticks": ""
            },
            "colorscale": [
             [
              0,
              "#0d0887"
             ],
             [
              0.1111111111111111,
              "#46039f"
             ],
             [
              0.2222222222222222,
              "#7201a8"
             ],
             [
              0.3333333333333333,
              "#9c179e"
             ],
             [
              0.4444444444444444,
              "#bd3786"
             ],
             [
              0.5555555555555556,
              "#d8576b"
             ],
             [
              0.6666666666666666,
              "#ed7953"
             ],
             [
              0.7777777777777778,
              "#fb9f3a"
             ],
             [
              0.8888888888888888,
              "#fdca26"
             ],
             [
              1,
              "#f0f921"
             ]
            ],
            "type": "histogram2dcontour"
           }
          ],
          "mesh3d": [
           {
            "colorbar": {
             "outlinewidth": 0,
             "ticks": ""
            },
            "type": "mesh3d"
           }
          ],
          "parcoords": [
           {
            "line": {
             "colorbar": {
              "outlinewidth": 0,
              "ticks": ""
             }
            },
            "type": "parcoords"
           }
          ],
          "pie": [
           {
            "automargin": true,
            "type": "pie"
           }
          ],
          "scatter": [
           {
            "fillpattern": {
             "fillmode": "overlay",
             "size": 10,
             "solidity": 0.2
            },
            "type": "scatter"
           }
          ],
          "scatter3d": [
           {
            "line": {
             "colorbar": {
              "outlinewidth": 0,
              "ticks": ""
             }
            },
            "marker": {
             "colorbar": {
              "outlinewidth": 0,
              "ticks": ""
             }
            },
            "type": "scatter3d"
           }
          ],
          "scattercarpet": [
           {
            "marker": {
             "colorbar": {
              "outlinewidth": 0,
              "ticks": ""
             }
            },
            "type": "scattercarpet"
           }
          ],
          "scattergeo": [
           {
            "marker": {
             "colorbar": {
              "outlinewidth": 0,
              "ticks": ""
             }
            },
            "type": "scattergeo"
           }
          ],
          "scattergl": [
           {
            "marker": {
             "colorbar": {
              "outlinewidth": 0,
              "ticks": ""
             }
            },
            "type": "scattergl"
           }
          ],
          "scattermap": [
           {
            "marker": {
             "colorbar": {
              "outlinewidth": 0,
              "ticks": ""
             }
            },
            "type": "scattermap"
           }
          ],
          "scattermapbox": [
           {
            "marker": {
             "colorbar": {
              "outlinewidth": 0,
              "ticks": ""
             }
            },
            "type": "scattermapbox"
           }
          ],
          "scatterpolar": [
           {
            "marker": {
             "colorbar": {
              "outlinewidth": 0,
              "ticks": ""
             }
            },
            "type": "scatterpolar"
           }
          ],
          "scatterpolargl": [
           {
            "marker": {
             "colorbar": {
              "outlinewidth": 0,
              "ticks": ""
             }
            },
            "type": "scatterpolargl"
           }
          ],
          "scatterternary": [
           {
            "marker": {
             "colorbar": {
              "outlinewidth": 0,
              "ticks": ""
             }
            },
            "type": "scatterternary"
           }
          ],
          "surface": [
           {
            "colorbar": {
             "outlinewidth": 0,
             "ticks": ""
            },
            "colorscale": [
             [
              0,
              "#0d0887"
             ],
             [
              0.1111111111111111,
              "#46039f"
             ],
             [
              0.2222222222222222,
              "#7201a8"
             ],
             [
              0.3333333333333333,
              "#9c179e"
             ],
             [
              0.4444444444444444,
              "#bd3786"
             ],
             [
              0.5555555555555556,
              "#d8576b"
             ],
             [
              0.6666666666666666,
              "#ed7953"
             ],
             [
              0.7777777777777778,
              "#fb9f3a"
             ],
             [
              0.8888888888888888,
              "#fdca26"
             ],
             [
              1,
              "#f0f921"
             ]
            ],
            "type": "surface"
           }
          ],
          "table": [
           {
            "cells": {
             "fill": {
              "color": "#EBF0F8"
             },
             "line": {
              "color": "white"
             }
            },
            "header": {
             "fill": {
              "color": "#C8D4E3"
             },
             "line": {
              "color": "white"
             }
            },
            "type": "table"
           }
          ]
         },
         "layout": {
          "annotationdefaults": {
           "arrowcolor": "#2a3f5f",
           "arrowhead": 0,
           "arrowwidth": 1
          },
          "autotypenumbers": "strict",
          "coloraxis": {
           "colorbar": {
            "outlinewidth": 0,
            "ticks": ""
           }
          },
          "colorscale": {
           "diverging": [
            [
             0,
             "#8e0152"
            ],
            [
             0.1,
             "#c51b7d"
            ],
            [
             0.2,
             "#de77ae"
            ],
            [
             0.3,
             "#f1b6da"
            ],
            [
             0.4,
             "#fde0ef"
            ],
            [
             0.5,
             "#f7f7f7"
            ],
            [
             0.6,
             "#e6f5d0"
            ],
            [
             0.7,
             "#b8e186"
            ],
            [
             0.8,
             "#7fbc41"
            ],
            [
             0.9,
             "#4d9221"
            ],
            [
             1,
             "#276419"
            ]
           ],
           "sequential": [
            [
             0,
             "#0d0887"
            ],
            [
             0.1111111111111111,
             "#46039f"
            ],
            [
             0.2222222222222222,
             "#7201a8"
            ],
            [
             0.3333333333333333,
             "#9c179e"
            ],
            [
             0.4444444444444444,
             "#bd3786"
            ],
            [
             0.5555555555555556,
             "#d8576b"
            ],
            [
             0.6666666666666666,
             "#ed7953"
            ],
            [
             0.7777777777777778,
             "#fb9f3a"
            ],
            [
             0.8888888888888888,
             "#fdca26"
            ],
            [
             1,
             "#f0f921"
            ]
           ],
           "sequentialminus": [
            [
             0,
             "#0d0887"
            ],
            [
             0.1111111111111111,
             "#46039f"
            ],
            [
             0.2222222222222222,
             "#7201a8"
            ],
            [
             0.3333333333333333,
             "#9c179e"
            ],
            [
             0.4444444444444444,
             "#bd3786"
            ],
            [
             0.5555555555555556,
             "#d8576b"
            ],
            [
             0.6666666666666666,
             "#ed7953"
            ],
            [
             0.7777777777777778,
             "#fb9f3a"
            ],
            [
             0.8888888888888888,
             "#fdca26"
            ],
            [
             1,
             "#f0f921"
            ]
           ]
          },
          "colorway": [
           "#636efa",
           "#EF553B",
           "#00cc96",
           "#ab63fa",
           "#FFA15A",
           "#19d3f3",
           "#FF6692",
           "#B6E880",
           "#FF97FF",
           "#FECB52"
          ],
          "font": {
           "color": "#2a3f5f"
          },
          "geo": {
           "bgcolor": "white",
           "lakecolor": "white",
           "landcolor": "#E5ECF6",
           "showlakes": true,
           "showland": true,
           "subunitcolor": "white"
          },
          "hoverlabel": {
           "align": "left"
          },
          "hovermode": "closest",
          "mapbox": {
           "style": "light"
          },
          "paper_bgcolor": "white",
          "plot_bgcolor": "#E5ECF6",
          "polar": {
           "angularaxis": {
            "gridcolor": "white",
            "linecolor": "white",
            "ticks": ""
           },
           "bgcolor": "#E5ECF6",
           "radialaxis": {
            "gridcolor": "white",
            "linecolor": "white",
            "ticks": ""
           }
          },
          "scene": {
           "xaxis": {
            "backgroundcolor": "#E5ECF6",
            "gridcolor": "white",
            "gridwidth": 2,
            "linecolor": "white",
            "showbackground": true,
            "ticks": "",
            "zerolinecolor": "white"
           },
           "yaxis": {
            "backgroundcolor": "#E5ECF6",
            "gridcolor": "white",
            "gridwidth": 2,
            "linecolor": "white",
            "showbackground": true,
            "ticks": "",
            "zerolinecolor": "white"
           },
           "zaxis": {
            "backgroundcolor": "#E5ECF6",
            "gridcolor": "white",
            "gridwidth": 2,
            "linecolor": "white",
            "showbackground": true,
            "ticks": "",
            "zerolinecolor": "white"
           }
          },
          "shapedefaults": {
           "line": {
            "color": "#2a3f5f"
           }
          },
          "ternary": {
           "aaxis": {
            "gridcolor": "white",
            "linecolor": "white",
            "ticks": ""
           },
           "baxis": {
            "gridcolor": "white",
            "linecolor": "white",
            "ticks": ""
           },
           "bgcolor": "#E5ECF6",
           "caxis": {
            "gridcolor": "white",
            "linecolor": "white",
            "ticks": ""
           }
          },
          "title": {
           "x": 0.05
          },
          "xaxis": {
           "automargin": true,
           "gridcolor": "white",
           "linecolor": "white",
           "ticks": "",
           "title": {
            "standoff": 15
           },
           "zerolinecolor": "white",
           "zerolinewidth": 2
          },
          "yaxis": {
           "automargin": true,
           "gridcolor": "white",
           "linecolor": "white",
           "ticks": "",
           "title": {
            "standoff": 15
           },
           "zerolinecolor": "white",
           "zerolinewidth": 2
          }
         }
        },
        "title": {
         "text": "Tasa de supervivencia por categoría: TravelAlone"
        },
        "width": 800,
        "xaxis": {
         "anchor": "y",
         "domain": [
          0,
          1
         ],
         "title": {
          "text": "Travelalone"
         }
        },
        "yaxis": {
         "anchor": "x",
         "domain": [
          0,
          1
         ],
         "title": {
          "text": "Tasa de supervivencia"
         }
        }
       }
      }
     },
     "metadata": {},
     "output_type": "display_data"
    }
   ],
   "source": [
    "graficar_supervivencia_por_categoria(final_train, y_train, 'TravelAlone')"
   ]
  },
  {
   "cell_type": "markdown",
   "id": "17f2927c",
   "metadata": {},
   "source": [
    "##### Supervivencia según compañía familiar\n",
    "\n",
    "Los individuos que viajaban sin familia a bordo tuvieron más probabilidades de fallecer en el desastre que aquellos que viajaban acompañados.  \n",
    "Dado el contexto histórico, es probable que muchos de los pasajeros que viajaban solos fueran hombres."
   ]
  },
  {
   "cell_type": "markdown",
   "id": "2f247179",
   "metadata": {},
   "source": [
    "#### Exploración de la variable género"
   ]
  },
  {
   "cell_type": "code",
   "execution_count": 25,
   "id": "73067481",
   "metadata": {},
   "outputs": [
    {
     "data": {
      "application/vnd.plotly.v1+json": {
       "config": {
        "plotlyServerURL": "https://plot.ly"
       },
       "data": [
        {
         "hovertemplate": "Sex=%{x}<br>Tasa de supervivencia=%{y}<extra></extra>",
         "legendgroup": "",
         "marker": {
          "color": "darkturquoise",
          "pattern": {
           "shape": ""
          }
         },
         "name": "",
         "orientation": "v",
         "showlegend": false,
         "textposition": "auto",
         "type": "bar",
         "x": [
          "female",
          "male"
         ],
         "xaxis": "x",
         "y": {
          "bdata": "HDHtiQyk5z+d+9fyh9jHPw==",
          "dtype": "f8"
         },
         "yaxis": "y"
        }
       ],
       "layout": {
        "barmode": "relative",
        "height": 400,
        "legend": {
         "tracegroupgap": 0
        },
        "template": {
         "data": {
          "bar": [
           {
            "error_x": {
             "color": "#2a3f5f"
            },
            "error_y": {
             "color": "#2a3f5f"
            },
            "marker": {
             "line": {
              "color": "#E5ECF6",
              "width": 0.5
             },
             "pattern": {
              "fillmode": "overlay",
              "size": 10,
              "solidity": 0.2
             }
            },
            "type": "bar"
           }
          ],
          "barpolar": [
           {
            "marker": {
             "line": {
              "color": "#E5ECF6",
              "width": 0.5
             },
             "pattern": {
              "fillmode": "overlay",
              "size": 10,
              "solidity": 0.2
             }
            },
            "type": "barpolar"
           }
          ],
          "carpet": [
           {
            "aaxis": {
             "endlinecolor": "#2a3f5f",
             "gridcolor": "white",
             "linecolor": "white",
             "minorgridcolor": "white",
             "startlinecolor": "#2a3f5f"
            },
            "baxis": {
             "endlinecolor": "#2a3f5f",
             "gridcolor": "white",
             "linecolor": "white",
             "minorgridcolor": "white",
             "startlinecolor": "#2a3f5f"
            },
            "type": "carpet"
           }
          ],
          "choropleth": [
           {
            "colorbar": {
             "outlinewidth": 0,
             "ticks": ""
            },
            "type": "choropleth"
           }
          ],
          "contour": [
           {
            "colorbar": {
             "outlinewidth": 0,
             "ticks": ""
            },
            "colorscale": [
             [
              0,
              "#0d0887"
             ],
             [
              0.1111111111111111,
              "#46039f"
             ],
             [
              0.2222222222222222,
              "#7201a8"
             ],
             [
              0.3333333333333333,
              "#9c179e"
             ],
             [
              0.4444444444444444,
              "#bd3786"
             ],
             [
              0.5555555555555556,
              "#d8576b"
             ],
             [
              0.6666666666666666,
              "#ed7953"
             ],
             [
              0.7777777777777778,
              "#fb9f3a"
             ],
             [
              0.8888888888888888,
              "#fdca26"
             ],
             [
              1,
              "#f0f921"
             ]
            ],
            "type": "contour"
           }
          ],
          "contourcarpet": [
           {
            "colorbar": {
             "outlinewidth": 0,
             "ticks": ""
            },
            "type": "contourcarpet"
           }
          ],
          "heatmap": [
           {
            "colorbar": {
             "outlinewidth": 0,
             "ticks": ""
            },
            "colorscale": [
             [
              0,
              "#0d0887"
             ],
             [
              0.1111111111111111,
              "#46039f"
             ],
             [
              0.2222222222222222,
              "#7201a8"
             ],
             [
              0.3333333333333333,
              "#9c179e"
             ],
             [
              0.4444444444444444,
              "#bd3786"
             ],
             [
              0.5555555555555556,
              "#d8576b"
             ],
             [
              0.6666666666666666,
              "#ed7953"
             ],
             [
              0.7777777777777778,
              "#fb9f3a"
             ],
             [
              0.8888888888888888,
              "#fdca26"
             ],
             [
              1,
              "#f0f921"
             ]
            ],
            "type": "heatmap"
           }
          ],
          "histogram": [
           {
            "marker": {
             "pattern": {
              "fillmode": "overlay",
              "size": 10,
              "solidity": 0.2
             }
            },
            "type": "histogram"
           }
          ],
          "histogram2d": [
           {
            "colorbar": {
             "outlinewidth": 0,
             "ticks": ""
            },
            "colorscale": [
             [
              0,
              "#0d0887"
             ],
             [
              0.1111111111111111,
              "#46039f"
             ],
             [
              0.2222222222222222,
              "#7201a8"
             ],
             [
              0.3333333333333333,
              "#9c179e"
             ],
             [
              0.4444444444444444,
              "#bd3786"
             ],
             [
              0.5555555555555556,
              "#d8576b"
             ],
             [
              0.6666666666666666,
              "#ed7953"
             ],
             [
              0.7777777777777778,
              "#fb9f3a"
             ],
             [
              0.8888888888888888,
              "#fdca26"
             ],
             [
              1,
              "#f0f921"
             ]
            ],
            "type": "histogram2d"
           }
          ],
          "histogram2dcontour": [
           {
            "colorbar": {
             "outlinewidth": 0,
             "ticks": ""
            },
            "colorscale": [
             [
              0,
              "#0d0887"
             ],
             [
              0.1111111111111111,
              "#46039f"
             ],
             [
              0.2222222222222222,
              "#7201a8"
             ],
             [
              0.3333333333333333,
              "#9c179e"
             ],
             [
              0.4444444444444444,
              "#bd3786"
             ],
             [
              0.5555555555555556,
              "#d8576b"
             ],
             [
              0.6666666666666666,
              "#ed7953"
             ],
             [
              0.7777777777777778,
              "#fb9f3a"
             ],
             [
              0.8888888888888888,
              "#fdca26"
             ],
             [
              1,
              "#f0f921"
             ]
            ],
            "type": "histogram2dcontour"
           }
          ],
          "mesh3d": [
           {
            "colorbar": {
             "outlinewidth": 0,
             "ticks": ""
            },
            "type": "mesh3d"
           }
          ],
          "parcoords": [
           {
            "line": {
             "colorbar": {
              "outlinewidth": 0,
              "ticks": ""
             }
            },
            "type": "parcoords"
           }
          ],
          "pie": [
           {
            "automargin": true,
            "type": "pie"
           }
          ],
          "scatter": [
           {
            "fillpattern": {
             "fillmode": "overlay",
             "size": 10,
             "solidity": 0.2
            },
            "type": "scatter"
           }
          ],
          "scatter3d": [
           {
            "line": {
             "colorbar": {
              "outlinewidth": 0,
              "ticks": ""
             }
            },
            "marker": {
             "colorbar": {
              "outlinewidth": 0,
              "ticks": ""
             }
            },
            "type": "scatter3d"
           }
          ],
          "scattercarpet": [
           {
            "marker": {
             "colorbar": {
              "outlinewidth": 0,
              "ticks": ""
             }
            },
            "type": "scattercarpet"
           }
          ],
          "scattergeo": [
           {
            "marker": {
             "colorbar": {
              "outlinewidth": 0,
              "ticks": ""
             }
            },
            "type": "scattergeo"
           }
          ],
          "scattergl": [
           {
            "marker": {
             "colorbar": {
              "outlinewidth": 0,
              "ticks": ""
             }
            },
            "type": "scattergl"
           }
          ],
          "scattermap": [
           {
            "marker": {
             "colorbar": {
              "outlinewidth": 0,
              "ticks": ""
             }
            },
            "type": "scattermap"
           }
          ],
          "scattermapbox": [
           {
            "marker": {
             "colorbar": {
              "outlinewidth": 0,
              "ticks": ""
             }
            },
            "type": "scattermapbox"
           }
          ],
          "scatterpolar": [
           {
            "marker": {
             "colorbar": {
              "outlinewidth": 0,
              "ticks": ""
             }
            },
            "type": "scatterpolar"
           }
          ],
          "scatterpolargl": [
           {
            "marker": {
             "colorbar": {
              "outlinewidth": 0,
              "ticks": ""
             }
            },
            "type": "scatterpolargl"
           }
          ],
          "scatterternary": [
           {
            "marker": {
             "colorbar": {
              "outlinewidth": 0,
              "ticks": ""
             }
            },
            "type": "scatterternary"
           }
          ],
          "surface": [
           {
            "colorbar": {
             "outlinewidth": 0,
             "ticks": ""
            },
            "colorscale": [
             [
              0,
              "#0d0887"
             ],
             [
              0.1111111111111111,
              "#46039f"
             ],
             [
              0.2222222222222222,
              "#7201a8"
             ],
             [
              0.3333333333333333,
              "#9c179e"
             ],
             [
              0.4444444444444444,
              "#bd3786"
             ],
             [
              0.5555555555555556,
              "#d8576b"
             ],
             [
              0.6666666666666666,
              "#ed7953"
             ],
             [
              0.7777777777777778,
              "#fb9f3a"
             ],
             [
              0.8888888888888888,
              "#fdca26"
             ],
             [
              1,
              "#f0f921"
             ]
            ],
            "type": "surface"
           }
          ],
          "table": [
           {
            "cells": {
             "fill": {
              "color": "#EBF0F8"
             },
             "line": {
              "color": "white"
             }
            },
            "header": {
             "fill": {
              "color": "#C8D4E3"
             },
             "line": {
              "color": "white"
             }
            },
            "type": "table"
           }
          ]
         },
         "layout": {
          "annotationdefaults": {
           "arrowcolor": "#2a3f5f",
           "arrowhead": 0,
           "arrowwidth": 1
          },
          "autotypenumbers": "strict",
          "coloraxis": {
           "colorbar": {
            "outlinewidth": 0,
            "ticks": ""
           }
          },
          "colorscale": {
           "diverging": [
            [
             0,
             "#8e0152"
            ],
            [
             0.1,
             "#c51b7d"
            ],
            [
             0.2,
             "#de77ae"
            ],
            [
             0.3,
             "#f1b6da"
            ],
            [
             0.4,
             "#fde0ef"
            ],
            [
             0.5,
             "#f7f7f7"
            ],
            [
             0.6,
             "#e6f5d0"
            ],
            [
             0.7,
             "#b8e186"
            ],
            [
             0.8,
             "#7fbc41"
            ],
            [
             0.9,
             "#4d9221"
            ],
            [
             1,
             "#276419"
            ]
           ],
           "sequential": [
            [
             0,
             "#0d0887"
            ],
            [
             0.1111111111111111,
             "#46039f"
            ],
            [
             0.2222222222222222,
             "#7201a8"
            ],
            [
             0.3333333333333333,
             "#9c179e"
            ],
            [
             0.4444444444444444,
             "#bd3786"
            ],
            [
             0.5555555555555556,
             "#d8576b"
            ],
            [
             0.6666666666666666,
             "#ed7953"
            ],
            [
             0.7777777777777778,
             "#fb9f3a"
            ],
            [
             0.8888888888888888,
             "#fdca26"
            ],
            [
             1,
             "#f0f921"
            ]
           ],
           "sequentialminus": [
            [
             0,
             "#0d0887"
            ],
            [
             0.1111111111111111,
             "#46039f"
            ],
            [
             0.2222222222222222,
             "#7201a8"
            ],
            [
             0.3333333333333333,
             "#9c179e"
            ],
            [
             0.4444444444444444,
             "#bd3786"
            ],
            [
             0.5555555555555556,
             "#d8576b"
            ],
            [
             0.6666666666666666,
             "#ed7953"
            ],
            [
             0.7777777777777778,
             "#fb9f3a"
            ],
            [
             0.8888888888888888,
             "#fdca26"
            ],
            [
             1,
             "#f0f921"
            ]
           ]
          },
          "colorway": [
           "#636efa",
           "#EF553B",
           "#00cc96",
           "#ab63fa",
           "#FFA15A",
           "#19d3f3",
           "#FF6692",
           "#B6E880",
           "#FF97FF",
           "#FECB52"
          ],
          "font": {
           "color": "#2a3f5f"
          },
          "geo": {
           "bgcolor": "white",
           "lakecolor": "white",
           "landcolor": "#E5ECF6",
           "showlakes": true,
           "showland": true,
           "subunitcolor": "white"
          },
          "hoverlabel": {
           "align": "left"
          },
          "hovermode": "closest",
          "mapbox": {
           "style": "light"
          },
          "paper_bgcolor": "white",
          "plot_bgcolor": "#E5ECF6",
          "polar": {
           "angularaxis": {
            "gridcolor": "white",
            "linecolor": "white",
            "ticks": ""
           },
           "bgcolor": "#E5ECF6",
           "radialaxis": {
            "gridcolor": "white",
            "linecolor": "white",
            "ticks": ""
           }
          },
          "scene": {
           "xaxis": {
            "backgroundcolor": "#E5ECF6",
            "gridcolor": "white",
            "gridwidth": 2,
            "linecolor": "white",
            "showbackground": true,
            "ticks": "",
            "zerolinecolor": "white"
           },
           "yaxis": {
            "backgroundcolor": "#E5ECF6",
            "gridcolor": "white",
            "gridwidth": 2,
            "linecolor": "white",
            "showbackground": true,
            "ticks": "",
            "zerolinecolor": "white"
           },
           "zaxis": {
            "backgroundcolor": "#E5ECF6",
            "gridcolor": "white",
            "gridwidth": 2,
            "linecolor": "white",
            "showbackground": true,
            "ticks": "",
            "zerolinecolor": "white"
           }
          },
          "shapedefaults": {
           "line": {
            "color": "#2a3f5f"
           }
          },
          "ternary": {
           "aaxis": {
            "gridcolor": "white",
            "linecolor": "white",
            "ticks": ""
           },
           "baxis": {
            "gridcolor": "white",
            "linecolor": "white",
            "ticks": ""
           },
           "bgcolor": "#E5ECF6",
           "caxis": {
            "gridcolor": "white",
            "linecolor": "white",
            "ticks": ""
           }
          },
          "title": {
           "x": 0.05
          },
          "xaxis": {
           "automargin": true,
           "gridcolor": "white",
           "linecolor": "white",
           "ticks": "",
           "title": {
            "standoff": 15
           },
           "zerolinecolor": "white",
           "zerolinewidth": 2
          },
          "yaxis": {
           "automargin": true,
           "gridcolor": "white",
           "linecolor": "white",
           "ticks": "",
           "title": {
            "standoff": 15
           },
           "zerolinecolor": "white",
           "zerolinewidth": 2
          }
         }
        },
        "title": {
         "text": "Tasa de supervivencia por categoría: sex"
        },
        "width": 800,
        "xaxis": {
         "anchor": "y",
         "domain": [
          0,
          1
         ],
         "title": {
          "text": "Sex"
         }
        },
        "yaxis": {
         "anchor": "x",
         "domain": [
          0,
          1
         ],
         "title": {
          "text": "Tasa de supervivencia"
         }
        }
       }
      }
     },
     "metadata": {},
     "output_type": "display_data"
    }
   ],
   "source": [
    "graficar_supervivencia_por_categoria(X_train, y_train, 'sex')"
   ]
  },
  {
   "cell_type": "markdown",
   "id": "79e8eeb0",
   "metadata": {},
   "source": [
    "##### Interpretación de supervivencia por género\n",
    "Claramente las mujeres sobrevivieron más"
   ]
  },
  {
   "cell_type": "markdown",
   "id": "3bfc20fa",
   "metadata": {},
   "source": [
    "## Regresión Logística"
   ]
  },
  {
   "cell_type": "markdown",
   "id": "30d3afd6",
   "metadata": {},
   "source": [
    "### Selección de Características"
   ]
  },
  {
   "cell_type": "markdown",
   "id": "e404cac3",
   "metadata": {},
   "source": [
    "## Eliminación recursiva de características (RFE)\n",
    "\n",
    "Dado un estimador externo que asigna pesos a las variables, la **eliminación recursiva de características (RFE)** permite seleccionar las variables más relevantes considerando conjuntos cada vez más pequeños.\n",
    "\n",
    "Primero, el estimador se entrena con el conjunto completo de variables, y se calcula la importancia de cada una mediante el atributo `coef_` o `feature_importances_`.  \n",
    "Luego, se eliminan las variables menos importantes del conjunto actual.  \n",
    "Este procedimiento se repite de forma recursiva sobre el conjunto reducido hasta alcanzar el número deseado de variables seleccionadas."
   ]
  },
  {
   "cell_type": "code",
   "execution_count": 26,
   "id": "ad6a8278",
   "metadata": {},
   "outputs": [
    {
     "name": "stdout",
     "output_type": "stream",
     "text": [
      "Variables seleccionadas por RFE: ['age', 'TravelAlone', 'pclass_1', 'pclass_2', 'embarked_C', 'embarked_S', 'sex_male', 'IsMinor']\n"
     ]
    }
   ],
   "source": [
    "from sklearn.linear_model import LogisticRegression\n",
    "from sklearn.feature_selection import RFE\n",
    "\n",
    "# Seleccionar columnas relevantes\n",
    "columnas = [\n",
    "    \"age\", \n",
    "    \"fare\", \n",
    "    \"TravelAlone\", \n",
    "    \"pclass_1\", \n",
    "    \"pclass_2\",\n",
    "    # \"pclass_3\", \n",
    "    \"embarked_C\", \n",
    "    \"embarked_S\",\n",
    "    # \"embarked_Q\", \n",
    "    \"sex_male\", \n",
    "    # \"sex_female\",\n",
    "    \"IsMinor\"\n",
    "]\n",
    "\n",
    "X = final_train[columnas]\n",
    "y = y_train  # 'survived' está en y_train\n",
    "\n",
    "# Construir el modelo de regresión logística\n",
    "modelo = LogisticRegression(max_iter=500)\n",
    "\n",
    "# Aplicar RFE para seleccionar las 8 variables más importantes\n",
    "rfe = RFE(modelo, n_features_to_select=8)\n",
    "rfe = rfe.fit(X, y)\n",
    "\n",
    "# Mostrar las variables seleccionadas\n",
    "variables_seleccionadas = list(X.columns[rfe.support_])\n",
    "print(f'Variables seleccionadas por RFE: {variables_seleccionadas}')"
   ]
  },
  {
   "cell_type": "markdown",
   "id": "dc72769b",
   "metadata": {},
   "source": [
    "##### Selección de características con RFE y validación cruzada\n",
    "\n",
    "La técnica **RFECV** aplica la eliminación recursiva de características (RFE) dentro de un ciclo de validación cruzada para encontrar el número óptimo de variables a seleccionar.  \n",
    "A continuación, se aplica RFE sobre un modelo de regresión logística, ajustando automáticamente la cantidad de variables seleccionadas mediante validación cruzada."
   ]
  },
  {
   "cell_type": "code",
   "execution_count": 27,
   "id": "79ababd2",
   "metadata": {},
   "outputs": [
    {
     "name": "stdout",
     "output_type": "stream",
     "text": [
      "Número óptimo de variables seleccionadas: 8\n",
      "Variables seleccionadas: ['age', 'TravelAlone', 'pclass_1', 'pclass_2', 'embarked_C', 'embarked_S', 'sex_male', 'IsMinor']\n"
     ]
    },
    {
     "data": {
      "application/vnd.plotly.v1+json": {
       "config": {
        "plotlyServerURL": "https://plot.ly"
       },
       "data": [
        {
         "line": {
          "color": "darkturquoise",
          "width": 3
         },
         "marker": {
          "size": 6
         },
         "mode": "lines+markers",
         "name": "Puntaje de validación cruzada",
         "type": "scatter",
         "x": [
          1,
          2,
          3,
          4,
          5,
          6,
          7,
          8,
          9
         ],
         "y": {
          "bdata": "Wy/DtJA26T9bL8O0kDbpP1svw7SQNuk/x/DZIFJN6T9j9ufDaQjpP526hQG3/Og/kenHc6ET6T9OXgUne03pP6HEHoDzE+k/",
          "dtype": "f8"
         }
        }
       ],
       "layout": {
        "height": 500,
        "template": {
         "data": {
          "bar": [
           {
            "error_x": {
             "color": "#2a3f5f"
            },
            "error_y": {
             "color": "#2a3f5f"
            },
            "marker": {
             "line": {
              "color": "white",
              "width": 0.5
             },
             "pattern": {
              "fillmode": "overlay",
              "size": 10,
              "solidity": 0.2
             }
            },
            "type": "bar"
           }
          ],
          "barpolar": [
           {
            "marker": {
             "line": {
              "color": "white",
              "width": 0.5
             },
             "pattern": {
              "fillmode": "overlay",
              "size": 10,
              "solidity": 0.2
             }
            },
            "type": "barpolar"
           }
          ],
          "carpet": [
           {
            "aaxis": {
             "endlinecolor": "#2a3f5f",
             "gridcolor": "#C8D4E3",
             "linecolor": "#C8D4E3",
             "minorgridcolor": "#C8D4E3",
             "startlinecolor": "#2a3f5f"
            },
            "baxis": {
             "endlinecolor": "#2a3f5f",
             "gridcolor": "#C8D4E3",
             "linecolor": "#C8D4E3",
             "minorgridcolor": "#C8D4E3",
             "startlinecolor": "#2a3f5f"
            },
            "type": "carpet"
           }
          ],
          "choropleth": [
           {
            "colorbar": {
             "outlinewidth": 0,
             "ticks": ""
            },
            "type": "choropleth"
           }
          ],
          "contour": [
           {
            "colorbar": {
             "outlinewidth": 0,
             "ticks": ""
            },
            "colorscale": [
             [
              0,
              "#0d0887"
             ],
             [
              0.1111111111111111,
              "#46039f"
             ],
             [
              0.2222222222222222,
              "#7201a8"
             ],
             [
              0.3333333333333333,
              "#9c179e"
             ],
             [
              0.4444444444444444,
              "#bd3786"
             ],
             [
              0.5555555555555556,
              "#d8576b"
             ],
             [
              0.6666666666666666,
              "#ed7953"
             ],
             [
              0.7777777777777778,
              "#fb9f3a"
             ],
             [
              0.8888888888888888,
              "#fdca26"
             ],
             [
              1,
              "#f0f921"
             ]
            ],
            "type": "contour"
           }
          ],
          "contourcarpet": [
           {
            "colorbar": {
             "outlinewidth": 0,
             "ticks": ""
            },
            "type": "contourcarpet"
           }
          ],
          "heatmap": [
           {
            "colorbar": {
             "outlinewidth": 0,
             "ticks": ""
            },
            "colorscale": [
             [
              0,
              "#0d0887"
             ],
             [
              0.1111111111111111,
              "#46039f"
             ],
             [
              0.2222222222222222,
              "#7201a8"
             ],
             [
              0.3333333333333333,
              "#9c179e"
             ],
             [
              0.4444444444444444,
              "#bd3786"
             ],
             [
              0.5555555555555556,
              "#d8576b"
             ],
             [
              0.6666666666666666,
              "#ed7953"
             ],
             [
              0.7777777777777778,
              "#fb9f3a"
             ],
             [
              0.8888888888888888,
              "#fdca26"
             ],
             [
              1,
              "#f0f921"
             ]
            ],
            "type": "heatmap"
           }
          ],
          "histogram": [
           {
            "marker": {
             "pattern": {
              "fillmode": "overlay",
              "size": 10,
              "solidity": 0.2
             }
            },
            "type": "histogram"
           }
          ],
          "histogram2d": [
           {
            "colorbar": {
             "outlinewidth": 0,
             "ticks": ""
            },
            "colorscale": [
             [
              0,
              "#0d0887"
             ],
             [
              0.1111111111111111,
              "#46039f"
             ],
             [
              0.2222222222222222,
              "#7201a8"
             ],
             [
              0.3333333333333333,
              "#9c179e"
             ],
             [
              0.4444444444444444,
              "#bd3786"
             ],
             [
              0.5555555555555556,
              "#d8576b"
             ],
             [
              0.6666666666666666,
              "#ed7953"
             ],
             [
              0.7777777777777778,
              "#fb9f3a"
             ],
             [
              0.8888888888888888,
              "#fdca26"
             ],
             [
              1,
              "#f0f921"
             ]
            ],
            "type": "histogram2d"
           }
          ],
          "histogram2dcontour": [
           {
            "colorbar": {
             "outlinewidth": 0,
             "ticks": ""
            },
            "colorscale": [
             [
              0,
              "#0d0887"
             ],
             [
              0.1111111111111111,
              "#46039f"
             ],
             [
              0.2222222222222222,
              "#7201a8"
             ],
             [
              0.3333333333333333,
              "#9c179e"
             ],
             [
              0.4444444444444444,
              "#bd3786"
             ],
             [
              0.5555555555555556,
              "#d8576b"
             ],
             [
              0.6666666666666666,
              "#ed7953"
             ],
             [
              0.7777777777777778,
              "#fb9f3a"
             ],
             [
              0.8888888888888888,
              "#fdca26"
             ],
             [
              1,
              "#f0f921"
             ]
            ],
            "type": "histogram2dcontour"
           }
          ],
          "mesh3d": [
           {
            "colorbar": {
             "outlinewidth": 0,
             "ticks": ""
            },
            "type": "mesh3d"
           }
          ],
          "parcoords": [
           {
            "line": {
             "colorbar": {
              "outlinewidth": 0,
              "ticks": ""
             }
            },
            "type": "parcoords"
           }
          ],
          "pie": [
           {
            "automargin": true,
            "type": "pie"
           }
          ],
          "scatter": [
           {
            "fillpattern": {
             "fillmode": "overlay",
             "size": 10,
             "solidity": 0.2
            },
            "type": "scatter"
           }
          ],
          "scatter3d": [
           {
            "line": {
             "colorbar": {
              "outlinewidth": 0,
              "ticks": ""
             }
            },
            "marker": {
             "colorbar": {
              "outlinewidth": 0,
              "ticks": ""
             }
            },
            "type": "scatter3d"
           }
          ],
          "scattercarpet": [
           {
            "marker": {
             "colorbar": {
              "outlinewidth": 0,
              "ticks": ""
             }
            },
            "type": "scattercarpet"
           }
          ],
          "scattergeo": [
           {
            "marker": {
             "colorbar": {
              "outlinewidth": 0,
              "ticks": ""
             }
            },
            "type": "scattergeo"
           }
          ],
          "scattergl": [
           {
            "marker": {
             "colorbar": {
              "outlinewidth": 0,
              "ticks": ""
             }
            },
            "type": "scattergl"
           }
          ],
          "scattermap": [
           {
            "marker": {
             "colorbar": {
              "outlinewidth": 0,
              "ticks": ""
             }
            },
            "type": "scattermap"
           }
          ],
          "scattermapbox": [
           {
            "marker": {
             "colorbar": {
              "outlinewidth": 0,
              "ticks": ""
             }
            },
            "type": "scattermapbox"
           }
          ],
          "scatterpolar": [
           {
            "marker": {
             "colorbar": {
              "outlinewidth": 0,
              "ticks": ""
             }
            },
            "type": "scatterpolar"
           }
          ],
          "scatterpolargl": [
           {
            "marker": {
             "colorbar": {
              "outlinewidth": 0,
              "ticks": ""
             }
            },
            "type": "scatterpolargl"
           }
          ],
          "scatterternary": [
           {
            "marker": {
             "colorbar": {
              "outlinewidth": 0,
              "ticks": ""
             }
            },
            "type": "scatterternary"
           }
          ],
          "surface": [
           {
            "colorbar": {
             "outlinewidth": 0,
             "ticks": ""
            },
            "colorscale": [
             [
              0,
              "#0d0887"
             ],
             [
              0.1111111111111111,
              "#46039f"
             ],
             [
              0.2222222222222222,
              "#7201a8"
             ],
             [
              0.3333333333333333,
              "#9c179e"
             ],
             [
              0.4444444444444444,
              "#bd3786"
             ],
             [
              0.5555555555555556,
              "#d8576b"
             ],
             [
              0.6666666666666666,
              "#ed7953"
             ],
             [
              0.7777777777777778,
              "#fb9f3a"
             ],
             [
              0.8888888888888888,
              "#fdca26"
             ],
             [
              1,
              "#f0f921"
             ]
            ],
            "type": "surface"
           }
          ],
          "table": [
           {
            "cells": {
             "fill": {
              "color": "#EBF0F8"
             },
             "line": {
              "color": "white"
             }
            },
            "header": {
             "fill": {
              "color": "#C8D4E3"
             },
             "line": {
              "color": "white"
             }
            },
            "type": "table"
           }
          ]
         },
         "layout": {
          "annotationdefaults": {
           "arrowcolor": "#2a3f5f",
           "arrowhead": 0,
           "arrowwidth": 1
          },
          "autotypenumbers": "strict",
          "coloraxis": {
           "colorbar": {
            "outlinewidth": 0,
            "ticks": ""
           }
          },
          "colorscale": {
           "diverging": [
            [
             0,
             "#8e0152"
            ],
            [
             0.1,
             "#c51b7d"
            ],
            [
             0.2,
             "#de77ae"
            ],
            [
             0.3,
             "#f1b6da"
            ],
            [
             0.4,
             "#fde0ef"
            ],
            [
             0.5,
             "#f7f7f7"
            ],
            [
             0.6,
             "#e6f5d0"
            ],
            [
             0.7,
             "#b8e186"
            ],
            [
             0.8,
             "#7fbc41"
            ],
            [
             0.9,
             "#4d9221"
            ],
            [
             1,
             "#276419"
            ]
           ],
           "sequential": [
            [
             0,
             "#0d0887"
            ],
            [
             0.1111111111111111,
             "#46039f"
            ],
            [
             0.2222222222222222,
             "#7201a8"
            ],
            [
             0.3333333333333333,
             "#9c179e"
            ],
            [
             0.4444444444444444,
             "#bd3786"
            ],
            [
             0.5555555555555556,
             "#d8576b"
            ],
            [
             0.6666666666666666,
             "#ed7953"
            ],
            [
             0.7777777777777778,
             "#fb9f3a"
            ],
            [
             0.8888888888888888,
             "#fdca26"
            ],
            [
             1,
             "#f0f921"
            ]
           ],
           "sequentialminus": [
            [
             0,
             "#0d0887"
            ],
            [
             0.1111111111111111,
             "#46039f"
            ],
            [
             0.2222222222222222,
             "#7201a8"
            ],
            [
             0.3333333333333333,
             "#9c179e"
            ],
            [
             0.4444444444444444,
             "#bd3786"
            ],
            [
             0.5555555555555556,
             "#d8576b"
            ],
            [
             0.6666666666666666,
             "#ed7953"
            ],
            [
             0.7777777777777778,
             "#fb9f3a"
            ],
            [
             0.8888888888888888,
             "#fdca26"
            ],
            [
             1,
             "#f0f921"
            ]
           ]
          },
          "colorway": [
           "#636efa",
           "#EF553B",
           "#00cc96",
           "#ab63fa",
           "#FFA15A",
           "#19d3f3",
           "#FF6692",
           "#B6E880",
           "#FF97FF",
           "#FECB52"
          ],
          "font": {
           "color": "#2a3f5f"
          },
          "geo": {
           "bgcolor": "white",
           "lakecolor": "white",
           "landcolor": "white",
           "showlakes": true,
           "showland": true,
           "subunitcolor": "#C8D4E3"
          },
          "hoverlabel": {
           "align": "left"
          },
          "hovermode": "closest",
          "mapbox": {
           "style": "light"
          },
          "paper_bgcolor": "white",
          "plot_bgcolor": "white",
          "polar": {
           "angularaxis": {
            "gridcolor": "#EBF0F8",
            "linecolor": "#EBF0F8",
            "ticks": ""
           },
           "bgcolor": "white",
           "radialaxis": {
            "gridcolor": "#EBF0F8",
            "linecolor": "#EBF0F8",
            "ticks": ""
           }
          },
          "scene": {
           "xaxis": {
            "backgroundcolor": "white",
            "gridcolor": "#DFE8F3",
            "gridwidth": 2,
            "linecolor": "#EBF0F8",
            "showbackground": true,
            "ticks": "",
            "zerolinecolor": "#EBF0F8"
           },
           "yaxis": {
            "backgroundcolor": "white",
            "gridcolor": "#DFE8F3",
            "gridwidth": 2,
            "linecolor": "#EBF0F8",
            "showbackground": true,
            "ticks": "",
            "zerolinecolor": "#EBF0F8"
           },
           "zaxis": {
            "backgroundcolor": "white",
            "gridcolor": "#DFE8F3",
            "gridwidth": 2,
            "linecolor": "#EBF0F8",
            "showbackground": true,
            "ticks": "",
            "zerolinecolor": "#EBF0F8"
           }
          },
          "shapedefaults": {
           "line": {
            "color": "#2a3f5f"
           }
          },
          "ternary": {
           "aaxis": {
            "gridcolor": "#DFE8F3",
            "linecolor": "#A2B1C6",
            "ticks": ""
           },
           "baxis": {
            "gridcolor": "#DFE8F3",
            "linecolor": "#A2B1C6",
            "ticks": ""
           },
           "bgcolor": "white",
           "caxis": {
            "gridcolor": "#DFE8F3",
            "linecolor": "#A2B1C6",
            "ticks": ""
           }
          },
          "title": {
           "x": 0.05
          },
          "xaxis": {
           "automargin": true,
           "gridcolor": "#EBF0F8",
           "linecolor": "#EBF0F8",
           "ticks": "",
           "title": {
            "standoff": 15
           },
           "zerolinecolor": "#EBF0F8",
           "zerolinewidth": 2
          },
          "yaxis": {
           "automargin": true,
           "gridcolor": "#EBF0F8",
           "linecolor": "#EBF0F8",
           "ticks": "",
           "title": {
            "standoff": 15
           },
           "zerolinecolor": "#EBF0F8",
           "zerolinewidth": 2
          }
         }
        },
        "title": {
         "text": "Optimización de selección de variables con RFECV"
        },
        "width": 900,
        "xaxis": {
         "title": {
          "text": "Número de variables seleccionadas"
         }
        },
        "yaxis": {
         "title": {
          "text": "Puntaje de validación cruzada (accuracy)"
         }
        }
       }
      }
     },
     "metadata": {},
     "output_type": "display_data"
    }
   ],
   "source": [
    "from sklearn.feature_selection import RFECV\n",
    "\n",
    "# Aplicar RFECV con regresión logística\n",
    "rfecv = RFECV(estimator=LogisticRegression(max_iter=500), step=1, cv=10, scoring='accuracy')\n",
    "rfecv.fit(X, y)\n",
    "\n",
    "# Mostrar resultados\n",
    "print(f'Número óptimo de variables seleccionadas: {rfecv.n_features_}')\n",
    "print(f'Variables seleccionadas: {list(X.columns[rfecv.support_])}')\n",
    "\n",
    "# Obtener puntajes de validación cruzada desde cv_results_\n",
    "scores = rfecv.cv_results_['mean_test_score']\n",
    "num_features = list(range(1, len(scores) + 1))\n",
    "\n",
    "# Crear gráfico interactivo\n",
    "fig = go.Figure()\n",
    "\n",
    "fig.add_trace(go.Scatter(\n",
    "    x=num_features,\n",
    "    y=scores,\n",
    "    mode='lines+markers',\n",
    "    line=dict(color='darkturquoise', width=3),\n",
    "    marker=dict(size=6),\n",
    "    name='Puntaje de validación cruzada'\n",
    "))\n",
    "\n",
    "fig.update_layout(\n",
    "    title='Optimización de selección de variables con RFECV',\n",
    "    xaxis_title='Número de variables seleccionadas',\n",
    "    yaxis_title='Puntaje de validación cruzada (accuracy)',\n",
    "    width=900,\n",
    "    height=500,\n",
    "    template='plotly_white'\n",
    ")\n",
    "\n",
    "fig.show()"
   ]
  },
  {
   "cell_type": "code",
   "execution_count": 28,
   "id": "7c16d9c2",
   "metadata": {},
   "outputs": [
    {
     "data": {
      "application/vnd.plotly.v1+json": {
       "config": {
        "plotlyServerURL": "https://plot.ly"
       },
       "data": [
        {
         "colorscale": [
          [
           0,
           "rgb(165,0,38)"
          ],
          [
           0.1,
           "rgb(215,48,39)"
          ],
          [
           0.2,
           "rgb(244,109,67)"
          ],
          [
           0.3,
           "rgb(253,174,97)"
          ],
          [
           0.4,
           "rgb(254,224,139)"
          ],
          [
           0.5,
           "rgb(255,255,191)"
          ],
          [
           0.6,
           "rgb(217,239,139)"
          ],
          [
           0.7,
           "rgb(166,217,106)"
          ],
          [
           0.8,
           "rgb(102,189,99)"
          ],
          [
           0.9,
           "rgb(26,152,80)"
          ],
          [
           1,
           "rgb(0,104,55)"
          ]
         ],
         "hoverinfo": "z",
         "reversescale": true,
         "showscale": true,
         "type": "heatmap",
         "x": [
          "age",
          "TravelAlone",
          "pclass_1",
          "pclass_2",
          "embarked_C",
          "embarked_S",
          "sex_male",
          "IsMinor"
         ],
         "y": [
          "age",
          "TravelAlone",
          "pclass_1",
          "pclass_2",
          "embarked_C",
          "embarked_S",
          "sex_male",
          "IsMinor"
         ],
         "z": {
          "bdata": "AAAAAAAA8D8K16NwPQrHP9ejcD0K19M/exSuR+F6lD8AAAAAAAAAgLgehetRuJ4/exSuR+F6tD8zMzMzMzPjvwrXo3A9Csc/AAAAAAAA8D8pXI/C9Si8v3sUrkfheqS/uB6F61G4rr97FK5H4XqEP+xRuB6F69E/16NwPQrX07/Xo3A9CtfTPylcj8L1KLy/AAAAAAAA8D/sUbgehevRvwAAAAAAANA/pHA9CtejwL+amZmZmZm5v7gehetRuL6/exSuR+F6lD97FK5H4Xqkv+xRuB6F69G/AAAAAAAA8D8K16NwPQq3v3sUrkfhesQ/uB6F61G4rr97FK5H4XqEPwAAAAAAAACAuB6F61G4rr8AAAAAAADQPwrXo3A9Cre/AAAAAAAA8D/2KFyPwvXov+xRuB6F67G/exSuR+F6hD+4HoXrUbieP3sUrkfheoQ/pHA9CtejwL97FK5H4XrEP/YoXI/C9ei/AAAAAAAA8D8K16NwPQq3PwAAAAAAAAAAexSuR+F6tD/sUbgehevRP5qZmZmZmbm/uB6F61G4rr/sUbgeheuxvwrXo3A9Crc/AAAAAAAA8D8K16NwPQq3vzMzMzMzM+O/16NwPQrX07+4HoXrUbi+v3sUrkfheoQ/exSuR+F6hD8AAAAAAAAAAArXo3A9Cre/AAAAAAAA8D8=",
          "dtype": "f8",
          "shape": "8, 8"
         }
        }
       ],
       "layout": {
        "annotations": [
         {
          "font": {
           "color": "black"
          },
          "showarrow": false,
          "text": "1.0",
          "x": "age",
          "xref": "x",
          "y": "age",
          "yref": "y"
         },
         {
          "font": {
           "color": "black"
          },
          "showarrow": false,
          "text": "0.18",
          "x": "TravelAlone",
          "xref": "x",
          "y": "age",
          "yref": "y"
         },
         {
          "font": {
           "color": "black"
          },
          "showarrow": false,
          "text": "0.31",
          "x": "pclass_1",
          "xref": "x",
          "y": "age",
          "yref": "y"
         },
         {
          "font": {
           "color": "black"
          },
          "showarrow": false,
          "text": "0.02",
          "x": "pclass_2",
          "xref": "x",
          "y": "age",
          "yref": "y"
         },
         {
          "font": {
           "color": "black"
          },
          "showarrow": false,
          "text": "-0.0",
          "x": "embarked_C",
          "xref": "x",
          "y": "age",
          "yref": "y"
         },
         {
          "font": {
           "color": "black"
          },
          "showarrow": false,
          "text": "0.03",
          "x": "embarked_S",
          "xref": "x",
          "y": "age",
          "yref": "y"
         },
         {
          "font": {
           "color": "black"
          },
          "showarrow": false,
          "text": "0.08",
          "x": "sex_male",
          "xref": "x",
          "y": "age",
          "yref": "y"
         },
         {
          "font": {
           "color": "black"
          },
          "showarrow": false,
          "text": "-0.6",
          "x": "IsMinor",
          "xref": "x",
          "y": "age",
          "yref": "y"
         },
         {
          "font": {
           "color": "black"
          },
          "showarrow": false,
          "text": "0.18",
          "x": "age",
          "xref": "x",
          "y": "TravelAlone",
          "yref": "y"
         },
         {
          "font": {
           "color": "black"
          },
          "showarrow": false,
          "text": "1.0",
          "x": "TravelAlone",
          "xref": "x",
          "y": "TravelAlone",
          "yref": "y"
         },
         {
          "font": {
           "color": "black"
          },
          "showarrow": false,
          "text": "-0.11",
          "x": "pclass_1",
          "xref": "x",
          "y": "TravelAlone",
          "yref": "y"
         },
         {
          "font": {
           "color": "black"
          },
          "showarrow": false,
          "text": "-0.04",
          "x": "pclass_2",
          "xref": "x",
          "y": "TravelAlone",
          "yref": "y"
         },
         {
          "font": {
           "color": "black"
          },
          "showarrow": false,
          "text": "-0.06",
          "x": "embarked_C",
          "xref": "x",
          "y": "TravelAlone",
          "yref": "y"
         },
         {
          "font": {
           "color": "black"
          },
          "showarrow": false,
          "text": "0.01",
          "x": "embarked_S",
          "xref": "x",
          "y": "TravelAlone",
          "yref": "y"
         },
         {
          "font": {
           "color": "black"
          },
          "showarrow": false,
          "text": "0.28",
          "x": "sex_male",
          "xref": "x",
          "y": "TravelAlone",
          "yref": "y"
         },
         {
          "font": {
           "color": "black"
          },
          "showarrow": false,
          "text": "-0.31",
          "x": "IsMinor",
          "xref": "x",
          "y": "TravelAlone",
          "yref": "y"
         },
         {
          "font": {
           "color": "black"
          },
          "showarrow": false,
          "text": "0.31",
          "x": "age",
          "xref": "x",
          "y": "pclass_1",
          "yref": "y"
         },
         {
          "font": {
           "color": "black"
          },
          "showarrow": false,
          "text": "-0.11",
          "x": "TravelAlone",
          "xref": "x",
          "y": "pclass_1",
          "yref": "y"
         },
         {
          "font": {
           "color": "black"
          },
          "showarrow": false,
          "text": "1.0",
          "x": "pclass_1",
          "xref": "x",
          "y": "pclass_1",
          "yref": "y"
         },
         {
          "font": {
           "color": "black"
          },
          "showarrow": false,
          "text": "-0.28",
          "x": "pclass_2",
          "xref": "x",
          "y": "pclass_1",
          "yref": "y"
         },
         {
          "font": {
           "color": "black"
          },
          "showarrow": false,
          "text": "0.25",
          "x": "embarked_C",
          "xref": "x",
          "y": "pclass_1",
          "yref": "y"
         },
         {
          "font": {
           "color": "black"
          },
          "showarrow": false,
          "text": "-0.13",
          "x": "embarked_S",
          "xref": "x",
          "y": "pclass_1",
          "yref": "y"
         },
         {
          "font": {
           "color": "black"
          },
          "showarrow": false,
          "text": "-0.1",
          "x": "sex_male",
          "xref": "x",
          "y": "pclass_1",
          "yref": "y"
         },
         {
          "font": {
           "color": "black"
          },
          "showarrow": false,
          "text": "-0.12",
          "x": "IsMinor",
          "xref": "x",
          "y": "pclass_1",
          "yref": "y"
         },
         {
          "font": {
           "color": "black"
          },
          "showarrow": false,
          "text": "0.02",
          "x": "age",
          "xref": "x",
          "y": "pclass_2",
          "yref": "y"
         },
         {
          "font": {
           "color": "black"
          },
          "showarrow": false,
          "text": "-0.04",
          "x": "TravelAlone",
          "xref": "x",
          "y": "pclass_2",
          "yref": "y"
         },
         {
          "font": {
           "color": "black"
          },
          "showarrow": false,
          "text": "-0.28",
          "x": "pclass_1",
          "xref": "x",
          "y": "pclass_2",
          "yref": "y"
         },
         {
          "font": {
           "color": "black"
          },
          "showarrow": false,
          "text": "1.0",
          "x": "pclass_2",
          "xref": "x",
          "y": "pclass_2",
          "yref": "y"
         },
         {
          "font": {
           "color": "black"
          },
          "showarrow": false,
          "text": "-0.09",
          "x": "embarked_C",
          "xref": "x",
          "y": "pclass_2",
          "yref": "y"
         },
         {
          "font": {
           "color": "black"
          },
          "showarrow": false,
          "text": "0.16",
          "x": "embarked_S",
          "xref": "x",
          "y": "pclass_2",
          "yref": "y"
         },
         {
          "font": {
           "color": "black"
          },
          "showarrow": false,
          "text": "-0.06",
          "x": "sex_male",
          "xref": "x",
          "y": "pclass_2",
          "yref": "y"
         },
         {
          "font": {
           "color": "black"
          },
          "showarrow": false,
          "text": "0.01",
          "x": "IsMinor",
          "xref": "x",
          "y": "pclass_2",
          "yref": "y"
         },
         {
          "font": {
           "color": "black"
          },
          "showarrow": false,
          "text": "-0.0",
          "x": "age",
          "xref": "x",
          "y": "embarked_C",
          "yref": "y"
         },
         {
          "font": {
           "color": "black"
          },
          "showarrow": false,
          "text": "-0.06",
          "x": "TravelAlone",
          "xref": "x",
          "y": "embarked_C",
          "yref": "y"
         },
         {
          "font": {
           "color": "black"
          },
          "showarrow": false,
          "text": "0.25",
          "x": "pclass_1",
          "xref": "x",
          "y": "embarked_C",
          "yref": "y"
         },
         {
          "font": {
           "color": "black"
          },
          "showarrow": false,
          "text": "-0.09",
          "x": "pclass_2",
          "xref": "x",
          "y": "embarked_C",
          "yref": "y"
         },
         {
          "font": {
           "color": "black"
          },
          "showarrow": false,
          "text": "1.0",
          "x": "embarked_C",
          "xref": "x",
          "y": "embarked_C",
          "yref": "y"
         },
         {
          "font": {
           "color": "black"
          },
          "showarrow": false,
          "text": "-0.78",
          "x": "embarked_S",
          "xref": "x",
          "y": "embarked_C",
          "yref": "y"
         },
         {
          "font": {
           "color": "black"
          },
          "showarrow": false,
          "text": "-0.07",
          "x": "sex_male",
          "xref": "x",
          "y": "embarked_C",
          "yref": "y"
         },
         {
          "font": {
           "color": "black"
          },
          "showarrow": false,
          "text": "0.01",
          "x": "IsMinor",
          "xref": "x",
          "y": "embarked_C",
          "yref": "y"
         },
         {
          "font": {
           "color": "black"
          },
          "showarrow": false,
          "text": "0.03",
          "x": "age",
          "xref": "x",
          "y": "embarked_S",
          "yref": "y"
         },
         {
          "font": {
           "color": "black"
          },
          "showarrow": false,
          "text": "0.01",
          "x": "TravelAlone",
          "xref": "x",
          "y": "embarked_S",
          "yref": "y"
         },
         {
          "font": {
           "color": "black"
          },
          "showarrow": false,
          "text": "-0.13",
          "x": "pclass_1",
          "xref": "x",
          "y": "embarked_S",
          "yref": "y"
         },
         {
          "font": {
           "color": "black"
          },
          "showarrow": false,
          "text": "0.16",
          "x": "pclass_2",
          "xref": "x",
          "y": "embarked_S",
          "yref": "y"
         },
         {
          "font": {
           "color": "black"
          },
          "showarrow": false,
          "text": "-0.78",
          "x": "embarked_C",
          "xref": "x",
          "y": "embarked_S",
          "yref": "y"
         },
         {
          "font": {
           "color": "black"
          },
          "showarrow": false,
          "text": "1.0",
          "x": "embarked_S",
          "xref": "x",
          "y": "embarked_S",
          "yref": "y"
         },
         {
          "font": {
           "color": "black"
          },
          "showarrow": false,
          "text": "0.09",
          "x": "sex_male",
          "xref": "x",
          "y": "embarked_S",
          "yref": "y"
         },
         {
          "font": {
           "color": "black"
          },
          "showarrow": false,
          "text": "0.0",
          "x": "IsMinor",
          "xref": "x",
          "y": "embarked_S",
          "yref": "y"
         },
         {
          "font": {
           "color": "black"
          },
          "showarrow": false,
          "text": "0.08",
          "x": "age",
          "xref": "x",
          "y": "sex_male",
          "yref": "y"
         },
         {
          "font": {
           "color": "black"
          },
          "showarrow": false,
          "text": "0.28",
          "x": "TravelAlone",
          "xref": "x",
          "y": "sex_male",
          "yref": "y"
         },
         {
          "font": {
           "color": "black"
          },
          "showarrow": false,
          "text": "-0.1",
          "x": "pclass_1",
          "xref": "x",
          "y": "sex_male",
          "yref": "y"
         },
         {
          "font": {
           "color": "black"
          },
          "showarrow": false,
          "text": "-0.06",
          "x": "pclass_2",
          "xref": "x",
          "y": "sex_male",
          "yref": "y"
         },
         {
          "font": {
           "color": "black"
          },
          "showarrow": false,
          "text": "-0.07",
          "x": "embarked_C",
          "xref": "x",
          "y": "sex_male",
          "yref": "y"
         },
         {
          "font": {
           "color": "black"
          },
          "showarrow": false,
          "text": "0.09",
          "x": "embarked_S",
          "xref": "x",
          "y": "sex_male",
          "yref": "y"
         },
         {
          "font": {
           "color": "black"
          },
          "showarrow": false,
          "text": "1.0",
          "x": "sex_male",
          "xref": "x",
          "y": "sex_male",
          "yref": "y"
         },
         {
          "font": {
           "color": "black"
          },
          "showarrow": false,
          "text": "-0.09",
          "x": "IsMinor",
          "xref": "x",
          "y": "sex_male",
          "yref": "y"
         },
         {
          "font": {
           "color": "black"
          },
          "showarrow": false,
          "text": "-0.6",
          "x": "age",
          "xref": "x",
          "y": "IsMinor",
          "yref": "y"
         },
         {
          "font": {
           "color": "black"
          },
          "showarrow": false,
          "text": "-0.31",
          "x": "TravelAlone",
          "xref": "x",
          "y": "IsMinor",
          "yref": "y"
         },
         {
          "font": {
           "color": "black"
          },
          "showarrow": false,
          "text": "-0.12",
          "x": "pclass_1",
          "xref": "x",
          "y": "IsMinor",
          "yref": "y"
         },
         {
          "font": {
           "color": "black"
          },
          "showarrow": false,
          "text": "0.01",
          "x": "pclass_2",
          "xref": "x",
          "y": "IsMinor",
          "yref": "y"
         },
         {
          "font": {
           "color": "black"
          },
          "showarrow": false,
          "text": "0.01",
          "x": "embarked_C",
          "xref": "x",
          "y": "IsMinor",
          "yref": "y"
         },
         {
          "font": {
           "color": "black"
          },
          "showarrow": false,
          "text": "0.0",
          "x": "embarked_S",
          "xref": "x",
          "y": "IsMinor",
          "yref": "y"
         },
         {
          "font": {
           "color": "black"
          },
          "showarrow": false,
          "text": "-0.09",
          "x": "sex_male",
          "xref": "x",
          "y": "IsMinor",
          "yref": "y"
         },
         {
          "font": {
           "color": "black"
          },
          "showarrow": false,
          "text": "1.0",
          "x": "IsMinor",
          "xref": "x",
          "y": "IsMinor",
          "yref": "y"
         }
        ],
        "height": 600,
        "template": {
         "data": {
          "bar": [
           {
            "error_x": {
             "color": "#2a3f5f"
            },
            "error_y": {
             "color": "#2a3f5f"
            },
            "marker": {
             "line": {
              "color": "#E5ECF6",
              "width": 0.5
             },
             "pattern": {
              "fillmode": "overlay",
              "size": 10,
              "solidity": 0.2
             }
            },
            "type": "bar"
           }
          ],
          "barpolar": [
           {
            "marker": {
             "line": {
              "color": "#E5ECF6",
              "width": 0.5
             },
             "pattern": {
              "fillmode": "overlay",
              "size": 10,
              "solidity": 0.2
             }
            },
            "type": "barpolar"
           }
          ],
          "carpet": [
           {
            "aaxis": {
             "endlinecolor": "#2a3f5f",
             "gridcolor": "white",
             "linecolor": "white",
             "minorgridcolor": "white",
             "startlinecolor": "#2a3f5f"
            },
            "baxis": {
             "endlinecolor": "#2a3f5f",
             "gridcolor": "white",
             "linecolor": "white",
             "minorgridcolor": "white",
             "startlinecolor": "#2a3f5f"
            },
            "type": "carpet"
           }
          ],
          "choropleth": [
           {
            "colorbar": {
             "outlinewidth": 0,
             "ticks": ""
            },
            "type": "choropleth"
           }
          ],
          "contour": [
           {
            "colorbar": {
             "outlinewidth": 0,
             "ticks": ""
            },
            "colorscale": [
             [
              0,
              "#0d0887"
             ],
             [
              0.1111111111111111,
              "#46039f"
             ],
             [
              0.2222222222222222,
              "#7201a8"
             ],
             [
              0.3333333333333333,
              "#9c179e"
             ],
             [
              0.4444444444444444,
              "#bd3786"
             ],
             [
              0.5555555555555556,
              "#d8576b"
             ],
             [
              0.6666666666666666,
              "#ed7953"
             ],
             [
              0.7777777777777778,
              "#fb9f3a"
             ],
             [
              0.8888888888888888,
              "#fdca26"
             ],
             [
              1,
              "#f0f921"
             ]
            ],
            "type": "contour"
           }
          ],
          "contourcarpet": [
           {
            "colorbar": {
             "outlinewidth": 0,
             "ticks": ""
            },
            "type": "contourcarpet"
           }
          ],
          "heatmap": [
           {
            "colorbar": {
             "outlinewidth": 0,
             "ticks": ""
            },
            "colorscale": [
             [
              0,
              "#0d0887"
             ],
             [
              0.1111111111111111,
              "#46039f"
             ],
             [
              0.2222222222222222,
              "#7201a8"
             ],
             [
              0.3333333333333333,
              "#9c179e"
             ],
             [
              0.4444444444444444,
              "#bd3786"
             ],
             [
              0.5555555555555556,
              "#d8576b"
             ],
             [
              0.6666666666666666,
              "#ed7953"
             ],
             [
              0.7777777777777778,
              "#fb9f3a"
             ],
             [
              0.8888888888888888,
              "#fdca26"
             ],
             [
              1,
              "#f0f921"
             ]
            ],
            "type": "heatmap"
           }
          ],
          "histogram": [
           {
            "marker": {
             "pattern": {
              "fillmode": "overlay",
              "size": 10,
              "solidity": 0.2
             }
            },
            "type": "histogram"
           }
          ],
          "histogram2d": [
           {
            "colorbar": {
             "outlinewidth": 0,
             "ticks": ""
            },
            "colorscale": [
             [
              0,
              "#0d0887"
             ],
             [
              0.1111111111111111,
              "#46039f"
             ],
             [
              0.2222222222222222,
              "#7201a8"
             ],
             [
              0.3333333333333333,
              "#9c179e"
             ],
             [
              0.4444444444444444,
              "#bd3786"
             ],
             [
              0.5555555555555556,
              "#d8576b"
             ],
             [
              0.6666666666666666,
              "#ed7953"
             ],
             [
              0.7777777777777778,
              "#fb9f3a"
             ],
             [
              0.8888888888888888,
              "#fdca26"
             ],
             [
              1,
              "#f0f921"
             ]
            ],
            "type": "histogram2d"
           }
          ],
          "histogram2dcontour": [
           {
            "colorbar": {
             "outlinewidth": 0,
             "ticks": ""
            },
            "colorscale": [
             [
              0,
              "#0d0887"
             ],
             [
              0.1111111111111111,
              "#46039f"
             ],
             [
              0.2222222222222222,
              "#7201a8"
             ],
             [
              0.3333333333333333,
              "#9c179e"
             ],
             [
              0.4444444444444444,
              "#bd3786"
             ],
             [
              0.5555555555555556,
              "#d8576b"
             ],
             [
              0.6666666666666666,
              "#ed7953"
             ],
             [
              0.7777777777777778,
              "#fb9f3a"
             ],
             [
              0.8888888888888888,
              "#fdca26"
             ],
             [
              1,
              "#f0f921"
             ]
            ],
            "type": "histogram2dcontour"
           }
          ],
          "mesh3d": [
           {
            "colorbar": {
             "outlinewidth": 0,
             "ticks": ""
            },
            "type": "mesh3d"
           }
          ],
          "parcoords": [
           {
            "line": {
             "colorbar": {
              "outlinewidth": 0,
              "ticks": ""
             }
            },
            "type": "parcoords"
           }
          ],
          "pie": [
           {
            "automargin": true,
            "type": "pie"
           }
          ],
          "scatter": [
           {
            "fillpattern": {
             "fillmode": "overlay",
             "size": 10,
             "solidity": 0.2
            },
            "type": "scatter"
           }
          ],
          "scatter3d": [
           {
            "line": {
             "colorbar": {
              "outlinewidth": 0,
              "ticks": ""
             }
            },
            "marker": {
             "colorbar": {
              "outlinewidth": 0,
              "ticks": ""
             }
            },
            "type": "scatter3d"
           }
          ],
          "scattercarpet": [
           {
            "marker": {
             "colorbar": {
              "outlinewidth": 0,
              "ticks": ""
             }
            },
            "type": "scattercarpet"
           }
          ],
          "scattergeo": [
           {
            "marker": {
             "colorbar": {
              "outlinewidth": 0,
              "ticks": ""
             }
            },
            "type": "scattergeo"
           }
          ],
          "scattergl": [
           {
            "marker": {
             "colorbar": {
              "outlinewidth": 0,
              "ticks": ""
             }
            },
            "type": "scattergl"
           }
          ],
          "scattermap": [
           {
            "marker": {
             "colorbar": {
              "outlinewidth": 0,
              "ticks": ""
             }
            },
            "type": "scattermap"
           }
          ],
          "scattermapbox": [
           {
            "marker": {
             "colorbar": {
              "outlinewidth": 0,
              "ticks": ""
             }
            },
            "type": "scattermapbox"
           }
          ],
          "scatterpolar": [
           {
            "marker": {
             "colorbar": {
              "outlinewidth": 0,
              "ticks": ""
             }
            },
            "type": "scatterpolar"
           }
          ],
          "scatterpolargl": [
           {
            "marker": {
             "colorbar": {
              "outlinewidth": 0,
              "ticks": ""
             }
            },
            "type": "scatterpolargl"
           }
          ],
          "scatterternary": [
           {
            "marker": {
             "colorbar": {
              "outlinewidth": 0,
              "ticks": ""
             }
            },
            "type": "scatterternary"
           }
          ],
          "surface": [
           {
            "colorbar": {
             "outlinewidth": 0,
             "ticks": ""
            },
            "colorscale": [
             [
              0,
              "#0d0887"
             ],
             [
              0.1111111111111111,
              "#46039f"
             ],
             [
              0.2222222222222222,
              "#7201a8"
             ],
             [
              0.3333333333333333,
              "#9c179e"
             ],
             [
              0.4444444444444444,
              "#bd3786"
             ],
             [
              0.5555555555555556,
              "#d8576b"
             ],
             [
              0.6666666666666666,
              "#ed7953"
             ],
             [
              0.7777777777777778,
              "#fb9f3a"
             ],
             [
              0.8888888888888888,
              "#fdca26"
             ],
             [
              1,
              "#f0f921"
             ]
            ],
            "type": "surface"
           }
          ],
          "table": [
           {
            "cells": {
             "fill": {
              "color": "#EBF0F8"
             },
             "line": {
              "color": "white"
             }
            },
            "header": {
             "fill": {
              "color": "#C8D4E3"
             },
             "line": {
              "color": "white"
             }
            },
            "type": "table"
           }
          ]
         },
         "layout": {
          "annotationdefaults": {
           "arrowcolor": "#2a3f5f",
           "arrowhead": 0,
           "arrowwidth": 1
          },
          "autotypenumbers": "strict",
          "coloraxis": {
           "colorbar": {
            "outlinewidth": 0,
            "ticks": ""
           }
          },
          "colorscale": {
           "diverging": [
            [
             0,
             "#8e0152"
            ],
            [
             0.1,
             "#c51b7d"
            ],
            [
             0.2,
             "#de77ae"
            ],
            [
             0.3,
             "#f1b6da"
            ],
            [
             0.4,
             "#fde0ef"
            ],
            [
             0.5,
             "#f7f7f7"
            ],
            [
             0.6,
             "#e6f5d0"
            ],
            [
             0.7,
             "#b8e186"
            ],
            [
             0.8,
             "#7fbc41"
            ],
            [
             0.9,
             "#4d9221"
            ],
            [
             1,
             "#276419"
            ]
           ],
           "sequential": [
            [
             0,
             "#0d0887"
            ],
            [
             0.1111111111111111,
             "#46039f"
            ],
            [
             0.2222222222222222,
             "#7201a8"
            ],
            [
             0.3333333333333333,
             "#9c179e"
            ],
            [
             0.4444444444444444,
             "#bd3786"
            ],
            [
             0.5555555555555556,
             "#d8576b"
            ],
            [
             0.6666666666666666,
             "#ed7953"
            ],
            [
             0.7777777777777778,
             "#fb9f3a"
            ],
            [
             0.8888888888888888,
             "#fdca26"
            ],
            [
             1,
             "#f0f921"
            ]
           ],
           "sequentialminus": [
            [
             0,
             "#0d0887"
            ],
            [
             0.1111111111111111,
             "#46039f"
            ],
            [
             0.2222222222222222,
             "#7201a8"
            ],
            [
             0.3333333333333333,
             "#9c179e"
            ],
            [
             0.4444444444444444,
             "#bd3786"
            ],
            [
             0.5555555555555556,
             "#d8576b"
            ],
            [
             0.6666666666666666,
             "#ed7953"
            ],
            [
             0.7777777777777778,
             "#fb9f3a"
            ],
            [
             0.8888888888888888,
             "#fdca26"
            ],
            [
             1,
             "#f0f921"
            ]
           ]
          },
          "colorway": [
           "#636efa",
           "#EF553B",
           "#00cc96",
           "#ab63fa",
           "#FFA15A",
           "#19d3f3",
           "#FF6692",
           "#B6E880",
           "#FF97FF",
           "#FECB52"
          ],
          "font": {
           "color": "#2a3f5f"
          },
          "geo": {
           "bgcolor": "white",
           "lakecolor": "white",
           "landcolor": "#E5ECF6",
           "showlakes": true,
           "showland": true,
           "subunitcolor": "white"
          },
          "hoverlabel": {
           "align": "left"
          },
          "hovermode": "closest",
          "mapbox": {
           "style": "light"
          },
          "paper_bgcolor": "white",
          "plot_bgcolor": "#E5ECF6",
          "polar": {
           "angularaxis": {
            "gridcolor": "white",
            "linecolor": "white",
            "ticks": ""
           },
           "bgcolor": "#E5ECF6",
           "radialaxis": {
            "gridcolor": "white",
            "linecolor": "white",
            "ticks": ""
           }
          },
          "scene": {
           "xaxis": {
            "backgroundcolor": "#E5ECF6",
            "gridcolor": "white",
            "gridwidth": 2,
            "linecolor": "white",
            "showbackground": true,
            "ticks": "",
            "zerolinecolor": "white"
           },
           "yaxis": {
            "backgroundcolor": "#E5ECF6",
            "gridcolor": "white",
            "gridwidth": 2,
            "linecolor": "white",
            "showbackground": true,
            "ticks": "",
            "zerolinecolor": "white"
           },
           "zaxis": {
            "backgroundcolor": "#E5ECF6",
            "gridcolor": "white",
            "gridwidth": 2,
            "linecolor": "white",
            "showbackground": true,
            "ticks": "",
            "zerolinecolor": "white"
           }
          },
          "shapedefaults": {
           "line": {
            "color": "#2a3f5f"
           }
          },
          "ternary": {
           "aaxis": {
            "gridcolor": "white",
            "linecolor": "white",
            "ticks": ""
           },
           "baxis": {
            "gridcolor": "white",
            "linecolor": "white",
            "ticks": ""
           },
           "bgcolor": "#E5ECF6",
           "caxis": {
            "gridcolor": "white",
            "linecolor": "white",
            "ticks": ""
           }
          },
          "title": {
           "x": 0.05
          },
          "xaxis": {
           "automargin": true,
           "gridcolor": "white",
           "linecolor": "white",
           "ticks": "",
           "title": {
            "standoff": 15
           },
           "zerolinecolor": "white",
           "zerolinewidth": 2
          },
          "yaxis": {
           "automargin": true,
           "gridcolor": "white",
           "linecolor": "white",
           "ticks": "",
           "title": {
            "standoff": 15
           },
           "zerolinecolor": "white",
           "zerolinewidth": 2
          }
         }
        },
        "title": {
         "text": "Mapa de calor de correlaciones entre variables"
        },
        "width": 800,
        "xaxis": {
         "dtick": 1,
         "gridcolor": "rgb(0, 0, 0)",
         "side": "top",
         "ticks": ""
        },
        "yaxis": {
         "dtick": 1,
         "ticks": "",
         "ticksuffix": "  "
        }
       }
      }
     },
     "metadata": {},
     "output_type": "display_data"
    }
   ],
   "source": [
    "import plotly.figure_factory as ff\n",
    "\n",
    "# Seleccionar variables\n",
    "selected_features = ['age', 'TravelAlone', 'pclass_1', 'pclass_2', 'embarked_C', \n",
    "                     'embarked_S', 'sex_male', 'IsMinor']\n",
    "X = final_train[selected_features]\n",
    "\n",
    "# Calcular matriz de correlación\n",
    "correlaciones = X.corr().round(2)\n",
    "\n",
    "# Crear mapa de calor interactivo\n",
    "fig = ff.create_annotated_heatmap(\n",
    "    z=correlaciones.values,\n",
    "    x=correlaciones.columns.tolist(),\n",
    "    y=correlaciones.index.tolist(),\n",
    "    colorscale='RdYlGn',\n",
    "    showscale=True,\n",
    "    reversescale=True,\n",
    "    annotation_text=correlaciones.values,\n",
    "    font_colors=['black'],\n",
    "    hoverinfo='z'\n",
    ")\n",
    "\n",
    "fig.update_layout(\n",
    "    title='Mapa de calor de correlaciones entre variables',\n",
    "    width=800,\n",
    "    height=600\n",
    ")\n",
    "\n",
    "fig.show()"
   ]
  },
  {
   "cell_type": "code",
   "execution_count": 29,
   "id": "ce6a0ca2",
   "metadata": {},
   "outputs": [
    {
     "name": "stdout",
     "output_type": "stream",
     "text": [
      "Resultados del modelo con división Train/Test:\n",
      "Precisión (accuracy): 0.799\n",
      "Pérdida logística (log_loss): 0.432\n",
      "Área bajo la curva (AUC): 0.872\n"
     ]
    },
    {
     "data": {
      "application/vnd.plotly.v1+json": {
       "config": {
        "plotlyServerURL": "https://plot.ly"
       },
       "data": [
        {
         "line": {
          "color": "coral",
          "width": 3
         },
         "mode": "lines",
         "name": "Curva ROC (AUC = 0.872)",
         "type": "scatter",
         "x": {
          "bdata": "AAAAAAAAAAAAAAAAAAAAAAAAAAAAAAAAAAAAAAAAAAAAAAAAAAAAAAAAAAAAAAAAAAAAAAAAAAAAAAAAAAAAAAAAAAAAAAAAFDiBEziBgz8UOIETOIGDPxQ4gRM4gZM/FDiBEziBkz8d1EEd1EGdPx3UQR3UQZ0/GIZhGIZhqD8YhmEYhmGoPx3UQR3UQa0/HdRBHdRBrT8RERERERGxPxEREREREbE/Fl/xFV/xtT8WX/EVX/G1Pxut0Rqt0bo/G63RGq3Ruj8g+7Ef+7G/PyD7sR/7sb8/FDiBEziBwz8UOIETOIHDP5VLuZRLucQ/Fl/xFV/xxT8WX/EVX/HFPxiGYRiGYcg/GIZhGIZhyD+amZmZmZnJP5qZmZmZmck/G63RGq3Ryj8d1EEd1EHNP57neZ7nec4/UAd1UAd10D8RERERERHRPxEREREREdE/ERERERER0T+SJEmSJEnSPxQ4gRM4gdM/FDiBEziB0z/XaI3WaI3WP1h8xVd8xdc/2Y/92I/92D+amZmZmZnZPx3UQR3UQd0/HdRBHdRB3T8g+7Ef+7HfPzEMwzAMw+A/8RVf8RVf4T+yH/uxH/vhP7If+7Ef++E/FDiBEziB4z/0PM/zPM/jP9RBHdRBHeQ/lUu5lEu55D82WqM1WqPlPxZf8RVf8eU/t23btm3b5j+XcimXcinnP1h8xVd8xec/+Yqv+Iqv6D+5lEu5lEvpP7y7u7u7u+s/fMVXfMVX7D98xVd8xVfsPx3UQR3UQe0/3t3d3d3d7T8g+7Ef+7HvPyD7sR/7se8/AAAAAAAA8D8=",
          "dtype": "f8"
         },
         "y": {
          "bdata": "AAAAAAAAAADQusEU+ayLP9C6wRT5rKs/HEyRz7rBtD/QusEU+ay7P28wRT7rBsM/mCKfdYMp0j9FPusGU+TTP/JZN5gin9U/8lk3mCKf1T991g2myGfdP33WDabIZ90/AAAAAAAA4D8AAAAAAADgP60bTJHPuuE/rRtMkc+64T+YIp91gyniP5gin3WDKeI/gynyWTeY4j+DKfJZN5jiPxxMkc+6weQ/HEyRz7rB5D8HU+SzbjDlPwdT5LNuMOU/3WCKfNYN5j/dYIp81g3mP7RuMEU+6+Y/tG4wRT7r5j+KfNYNpsjnP4p81g2myOc/doMp8lk36D9hinzWDaboP2GKfNYNpug/TJHPusEU6T9Mkc+6wRTpPzeYIp91g+k/N5gin3WD6T83mCKfdYPpPzeYIp91g+k/DqbIZ91g6j8Opshn3WDqP/msG0yRz+o/0LrBFPms6z/QusEU+azrP9C6wRT5rOs/pshn3WCK7D+myGfdYIrsP6bIZ91giuw/pshn3WCK7D+Rz7rBFPnsP5HPusEU+ew/fdYNpshn7T991g2myGftP33WDabIZ+0/fdYNpshn7T991g2myGftP1Pks24wRe4/U+SzbjBF7j9T5LNuMEXuPz7rBlPks+4/PusGU+Sz7j8+6wZT5LPuPz7rBlPks+4/PusGU+Sz7j8+6wZT5LPuPz7rBlPks+4/PusGU+Sz7j8+6wZT5LPuPyryWTeYIu8/KvJZN5gi7z8V+awbTJHvPxX5rBtMke8/FfmsG0yR7z8V+awbTJHvPwAAAAAAAPA/AAAAAAAA8D8=",
          "dtype": "f8"
         }
        },
        {
         "line": {
          "color": "gray",
          "dash": "dash"
         },
         "mode": "lines",
         "name": "Línea base",
         "type": "scatter",
         "x": [
          0,
          1
         ],
         "y": [
          0,
          1
         ]
        },
        {
         "line": {
          "color": "blue",
          "dash": "dot"
         },
         "mode": "lines",
         "showlegend": false,
         "type": "scatter",
         "x": [
          0.6285714285714286,
          0.6285714285714286
         ],
         "y": [
          0,
          0.9594594594594594
         ]
        },
        {
         "line": {
          "color": "blue",
          "dash": "dot"
         },
         "mode": "lines",
         "showlegend": false,
         "type": "scatter",
         "x": [
          0,
          0.6285714285714286
         ],
         "y": [
          0.9594594594594594,
          0.9594594594594594
         ]
        }
       ],
       "layout": {
        "height": 500,
        "template": {
         "data": {
          "bar": [
           {
            "error_x": {
             "color": "#2a3f5f"
            },
            "error_y": {
             "color": "#2a3f5f"
            },
            "marker": {
             "line": {
              "color": "#E5ECF6",
              "width": 0.5
             },
             "pattern": {
              "fillmode": "overlay",
              "size": 10,
              "solidity": 0.2
             }
            },
            "type": "bar"
           }
          ],
          "barpolar": [
           {
            "marker": {
             "line": {
              "color": "#E5ECF6",
              "width": 0.5
             },
             "pattern": {
              "fillmode": "overlay",
              "size": 10,
              "solidity": 0.2
             }
            },
            "type": "barpolar"
           }
          ],
          "carpet": [
           {
            "aaxis": {
             "endlinecolor": "#2a3f5f",
             "gridcolor": "white",
             "linecolor": "white",
             "minorgridcolor": "white",
             "startlinecolor": "#2a3f5f"
            },
            "baxis": {
             "endlinecolor": "#2a3f5f",
             "gridcolor": "white",
             "linecolor": "white",
             "minorgridcolor": "white",
             "startlinecolor": "#2a3f5f"
            },
            "type": "carpet"
           }
          ],
          "choropleth": [
           {
            "colorbar": {
             "outlinewidth": 0,
             "ticks": ""
            },
            "type": "choropleth"
           }
          ],
          "contour": [
           {
            "colorbar": {
             "outlinewidth": 0,
             "ticks": ""
            },
            "colorscale": [
             [
              0,
              "#0d0887"
             ],
             [
              0.1111111111111111,
              "#46039f"
             ],
             [
              0.2222222222222222,
              "#7201a8"
             ],
             [
              0.3333333333333333,
              "#9c179e"
             ],
             [
              0.4444444444444444,
              "#bd3786"
             ],
             [
              0.5555555555555556,
              "#d8576b"
             ],
             [
              0.6666666666666666,
              "#ed7953"
             ],
             [
              0.7777777777777778,
              "#fb9f3a"
             ],
             [
              0.8888888888888888,
              "#fdca26"
             ],
             [
              1,
              "#f0f921"
             ]
            ],
            "type": "contour"
           }
          ],
          "contourcarpet": [
           {
            "colorbar": {
             "outlinewidth": 0,
             "ticks": ""
            },
            "type": "contourcarpet"
           }
          ],
          "heatmap": [
           {
            "colorbar": {
             "outlinewidth": 0,
             "ticks": ""
            },
            "colorscale": [
             [
              0,
              "#0d0887"
             ],
             [
              0.1111111111111111,
              "#46039f"
             ],
             [
              0.2222222222222222,
              "#7201a8"
             ],
             [
              0.3333333333333333,
              "#9c179e"
             ],
             [
              0.4444444444444444,
              "#bd3786"
             ],
             [
              0.5555555555555556,
              "#d8576b"
             ],
             [
              0.6666666666666666,
              "#ed7953"
             ],
             [
              0.7777777777777778,
              "#fb9f3a"
             ],
             [
              0.8888888888888888,
              "#fdca26"
             ],
             [
              1,
              "#f0f921"
             ]
            ],
            "type": "heatmap"
           }
          ],
          "histogram": [
           {
            "marker": {
             "pattern": {
              "fillmode": "overlay",
              "size": 10,
              "solidity": 0.2
             }
            },
            "type": "histogram"
           }
          ],
          "histogram2d": [
           {
            "colorbar": {
             "outlinewidth": 0,
             "ticks": ""
            },
            "colorscale": [
             [
              0,
              "#0d0887"
             ],
             [
              0.1111111111111111,
              "#46039f"
             ],
             [
              0.2222222222222222,
              "#7201a8"
             ],
             [
              0.3333333333333333,
              "#9c179e"
             ],
             [
              0.4444444444444444,
              "#bd3786"
             ],
             [
              0.5555555555555556,
              "#d8576b"
             ],
             [
              0.6666666666666666,
              "#ed7953"
             ],
             [
              0.7777777777777778,
              "#fb9f3a"
             ],
             [
              0.8888888888888888,
              "#fdca26"
             ],
             [
              1,
              "#f0f921"
             ]
            ],
            "type": "histogram2d"
           }
          ],
          "histogram2dcontour": [
           {
            "colorbar": {
             "outlinewidth": 0,
             "ticks": ""
            },
            "colorscale": [
             [
              0,
              "#0d0887"
             ],
             [
              0.1111111111111111,
              "#46039f"
             ],
             [
              0.2222222222222222,
              "#7201a8"
             ],
             [
              0.3333333333333333,
              "#9c179e"
             ],
             [
              0.4444444444444444,
              "#bd3786"
             ],
             [
              0.5555555555555556,
              "#d8576b"
             ],
             [
              0.6666666666666666,
              "#ed7953"
             ],
             [
              0.7777777777777778,
              "#fb9f3a"
             ],
             [
              0.8888888888888888,
              "#fdca26"
             ],
             [
              1,
              "#f0f921"
             ]
            ],
            "type": "histogram2dcontour"
           }
          ],
          "mesh3d": [
           {
            "colorbar": {
             "outlinewidth": 0,
             "ticks": ""
            },
            "type": "mesh3d"
           }
          ],
          "parcoords": [
           {
            "line": {
             "colorbar": {
              "outlinewidth": 0,
              "ticks": ""
             }
            },
            "type": "parcoords"
           }
          ],
          "pie": [
           {
            "automargin": true,
            "type": "pie"
           }
          ],
          "scatter": [
           {
            "fillpattern": {
             "fillmode": "overlay",
             "size": 10,
             "solidity": 0.2
            },
            "type": "scatter"
           }
          ],
          "scatter3d": [
           {
            "line": {
             "colorbar": {
              "outlinewidth": 0,
              "ticks": ""
             }
            },
            "marker": {
             "colorbar": {
              "outlinewidth": 0,
              "ticks": ""
             }
            },
            "type": "scatter3d"
           }
          ],
          "scattercarpet": [
           {
            "marker": {
             "colorbar": {
              "outlinewidth": 0,
              "ticks": ""
             }
            },
            "type": "scattercarpet"
           }
          ],
          "scattergeo": [
           {
            "marker": {
             "colorbar": {
              "outlinewidth": 0,
              "ticks": ""
             }
            },
            "type": "scattergeo"
           }
          ],
          "scattergl": [
           {
            "marker": {
             "colorbar": {
              "outlinewidth": 0,
              "ticks": ""
             }
            },
            "type": "scattergl"
           }
          ],
          "scattermap": [
           {
            "marker": {
             "colorbar": {
              "outlinewidth": 0,
              "ticks": ""
             }
            },
            "type": "scattermap"
           }
          ],
          "scattermapbox": [
           {
            "marker": {
             "colorbar": {
              "outlinewidth": 0,
              "ticks": ""
             }
            },
            "type": "scattermapbox"
           }
          ],
          "scatterpolar": [
           {
            "marker": {
             "colorbar": {
              "outlinewidth": 0,
              "ticks": ""
             }
            },
            "type": "scatterpolar"
           }
          ],
          "scatterpolargl": [
           {
            "marker": {
             "colorbar": {
              "outlinewidth": 0,
              "ticks": ""
             }
            },
            "type": "scatterpolargl"
           }
          ],
          "scatterternary": [
           {
            "marker": {
             "colorbar": {
              "outlinewidth": 0,
              "ticks": ""
             }
            },
            "type": "scatterternary"
           }
          ],
          "surface": [
           {
            "colorbar": {
             "outlinewidth": 0,
             "ticks": ""
            },
            "colorscale": [
             [
              0,
              "#0d0887"
             ],
             [
              0.1111111111111111,
              "#46039f"
             ],
             [
              0.2222222222222222,
              "#7201a8"
             ],
             [
              0.3333333333333333,
              "#9c179e"
             ],
             [
              0.4444444444444444,
              "#bd3786"
             ],
             [
              0.5555555555555556,
              "#d8576b"
             ],
             [
              0.6666666666666666,
              "#ed7953"
             ],
             [
              0.7777777777777778,
              "#fb9f3a"
             ],
             [
              0.8888888888888888,
              "#fdca26"
             ],
             [
              1,
              "#f0f921"
             ]
            ],
            "type": "surface"
           }
          ],
          "table": [
           {
            "cells": {
             "fill": {
              "color": "#EBF0F8"
             },
             "line": {
              "color": "white"
             }
            },
            "header": {
             "fill": {
              "color": "#C8D4E3"
             },
             "line": {
              "color": "white"
             }
            },
            "type": "table"
           }
          ]
         },
         "layout": {
          "annotationdefaults": {
           "arrowcolor": "#2a3f5f",
           "arrowhead": 0,
           "arrowwidth": 1
          },
          "autotypenumbers": "strict",
          "coloraxis": {
           "colorbar": {
            "outlinewidth": 0,
            "ticks": ""
           }
          },
          "colorscale": {
           "diverging": [
            [
             0,
             "#8e0152"
            ],
            [
             0.1,
             "#c51b7d"
            ],
            [
             0.2,
             "#de77ae"
            ],
            [
             0.3,
             "#f1b6da"
            ],
            [
             0.4,
             "#fde0ef"
            ],
            [
             0.5,
             "#f7f7f7"
            ],
            [
             0.6,
             "#e6f5d0"
            ],
            [
             0.7,
             "#b8e186"
            ],
            [
             0.8,
             "#7fbc41"
            ],
            [
             0.9,
             "#4d9221"
            ],
            [
             1,
             "#276419"
            ]
           ],
           "sequential": [
            [
             0,
             "#0d0887"
            ],
            [
             0.1111111111111111,
             "#46039f"
            ],
            [
             0.2222222222222222,
             "#7201a8"
            ],
            [
             0.3333333333333333,
             "#9c179e"
            ],
            [
             0.4444444444444444,
             "#bd3786"
            ],
            [
             0.5555555555555556,
             "#d8576b"
            ],
            [
             0.6666666666666666,
             "#ed7953"
            ],
            [
             0.7777777777777778,
             "#fb9f3a"
            ],
            [
             0.8888888888888888,
             "#fdca26"
            ],
            [
             1,
             "#f0f921"
            ]
           ],
           "sequentialminus": [
            [
             0,
             "#0d0887"
            ],
            [
             0.1111111111111111,
             "#46039f"
            ],
            [
             0.2222222222222222,
             "#7201a8"
            ],
            [
             0.3333333333333333,
             "#9c179e"
            ],
            [
             0.4444444444444444,
             "#bd3786"
            ],
            [
             0.5555555555555556,
             "#d8576b"
            ],
            [
             0.6666666666666666,
             "#ed7953"
            ],
            [
             0.7777777777777778,
             "#fb9f3a"
            ],
            [
             0.8888888888888888,
             "#fdca26"
            ],
            [
             1,
             "#f0f921"
            ]
           ]
          },
          "colorway": [
           "#636efa",
           "#EF553B",
           "#00cc96",
           "#ab63fa",
           "#FFA15A",
           "#19d3f3",
           "#FF6692",
           "#B6E880",
           "#FF97FF",
           "#FECB52"
          ],
          "font": {
           "color": "#2a3f5f"
          },
          "geo": {
           "bgcolor": "white",
           "lakecolor": "white",
           "landcolor": "#E5ECF6",
           "showlakes": true,
           "showland": true,
           "subunitcolor": "white"
          },
          "hoverlabel": {
           "align": "left"
          },
          "hovermode": "closest",
          "mapbox": {
           "style": "light"
          },
          "paper_bgcolor": "white",
          "plot_bgcolor": "#E5ECF6",
          "polar": {
           "angularaxis": {
            "gridcolor": "white",
            "linecolor": "white",
            "ticks": ""
           },
           "bgcolor": "#E5ECF6",
           "radialaxis": {
            "gridcolor": "white",
            "linecolor": "white",
            "ticks": ""
           }
          },
          "scene": {
           "xaxis": {
            "backgroundcolor": "#E5ECF6",
            "gridcolor": "white",
            "gridwidth": 2,
            "linecolor": "white",
            "showbackground": true,
            "ticks": "",
            "zerolinecolor": "white"
           },
           "yaxis": {
            "backgroundcolor": "#E5ECF6",
            "gridcolor": "white",
            "gridwidth": 2,
            "linecolor": "white",
            "showbackground": true,
            "ticks": "",
            "zerolinecolor": "white"
           },
           "zaxis": {
            "backgroundcolor": "#E5ECF6",
            "gridcolor": "white",
            "gridwidth": 2,
            "linecolor": "white",
            "showbackground": true,
            "ticks": "",
            "zerolinecolor": "white"
           }
          },
          "shapedefaults": {
           "line": {
            "color": "#2a3f5f"
           }
          },
          "ternary": {
           "aaxis": {
            "gridcolor": "white",
            "linecolor": "white",
            "ticks": ""
           },
           "baxis": {
            "gridcolor": "white",
            "linecolor": "white",
            "ticks": ""
           },
           "bgcolor": "#E5ECF6",
           "caxis": {
            "gridcolor": "white",
            "linecolor": "white",
            "ticks": ""
           }
          },
          "title": {
           "x": 0.05
          },
          "xaxis": {
           "automargin": true,
           "gridcolor": "white",
           "linecolor": "white",
           "ticks": "",
           "title": {
            "standoff": 15
           },
           "zerolinecolor": "white",
           "zerolinewidth": 2
          },
          "yaxis": {
           "automargin": true,
           "gridcolor": "white",
           "linecolor": "white",
           "ticks": "",
           "title": {
            "standoff": 15
           },
           "zerolinecolor": "white",
           "zerolinewidth": 2
          }
         }
        },
        "title": {
         "text": "Curva ROC - Regresión logística"
        },
        "width": 900,
        "xaxis": {
         "title": {
          "text": "Tasa de falsos positivos (1 - especificidad)"
         }
        },
        "yaxis": {
         "title": {
          "text": "Tasa de verdaderos positivos (recall)"
         }
        }
       }
      }
     },
     "metadata": {},
     "output_type": "display_data"
    },
    {
     "name": "stdout",
     "output_type": "stream",
     "text": [
      "Usar un umbral de 0.098 garantiza una sensibilidad de 0.959, una especificidad de 0.371, es decir, una tasa de falsos positivos de 62.86%.\n"
     ]
    }
   ],
   "source": [
    "from sklearn.linear_model import LogisticRegression\n",
    "from sklearn.metrics import accuracy_score, log_loss, roc_curve, auc\n",
    "\n",
    "# Entrenar modelo de regresión logística\n",
    "X_train = final_train[selected_features]\n",
    "X_test = final_test[selected_features]\n",
    "\n",
    "modelo = LogisticRegression(max_iter=500)\n",
    "modelo.fit(X_train, y_train)\n",
    "\n",
    "# Predicciones\n",
    "y_pred = modelo.predict(X_test)\n",
    "y_pred_proba = modelo.predict_proba(X_test)[:, 1]\n",
    "\n",
    "# Métricas\n",
    "fpr, tpr, thresholds = roc_curve(y_test, y_pred_proba)\n",
    "roc_auc = auc(fpr, tpr)\n",
    "\n",
    "print(\"Resultados del modelo con división Train/Test:\")\n",
    "print(f\"Precisión (accuracy): {accuracy_score(y_test, y_pred):.3f}\")\n",
    "print(f\"Pérdida logística (log_loss): {log_loss(y_test, y_pred_proba):.3f}\")\n",
    "print(f\"Área bajo la curva (AUC): {roc_auc:.3f}\")\n",
    "\n",
    "# Umbral con sensibilidad > 0.95\n",
    "idx = np.min(np.where(tpr > 0.95))\n",
    "\n",
    "# Gráfico ROC con Plotly\n",
    "fig = go.Figure()\n",
    "\n",
    "fig.add_trace(go.Scatter(x=fpr, y=tpr, mode='lines',\n",
    "                         name=f'Curva ROC (AUC = {roc_auc:.3f})',\n",
    "                         line=dict(color='coral', width=3)))\n",
    "\n",
    "fig.add_trace(go.Scatter(x=[0, 1], y=[0, 1], mode='lines',\n",
    "                         name='Línea base',\n",
    "                         line=dict(color='gray', dash='dash')))\n",
    "\n",
    "# Líneas guía en el punto de sensibilidad > 0.95\n",
    "fig.add_trace(go.Scatter(x=[fpr[idx], fpr[idx]], y=[0, tpr[idx]],\n",
    "                         mode='lines', line=dict(color='blue', dash='dot'),\n",
    "                         showlegend=False))\n",
    "fig.add_trace(go.Scatter(x=[0, fpr[idx]], y=[tpr[idx], tpr[idx]],\n",
    "                         mode='lines', line=dict(color='blue', dash='dot'),\n",
    "                         showlegend=False))\n",
    "\n",
    "fig.update_layout(title='Curva ROC - Regresión logística',\n",
    "                  xaxis_title='Tasa de falsos positivos (1 - especificidad)',\n",
    "                  yaxis_title='Tasa de verdaderos positivos (recall)',\n",
    "                  width=900, height=500)\n",
    "\n",
    "fig.show()\n",
    "\n",
    "# Interpretación del umbral\n",
    "print(f\"Usar un umbral de {thresholds[idx]:.3f} garantiza una sensibilidad de {tpr[idx]:.3f}, \"\n",
    "      f\"una especificidad de {1 - fpr[idx]:.3f}, \"\n",
    "      f\"es decir, una tasa de falsos positivos de {fpr[idx] * 100:.2f}%.\")"
   ]
  },
  {
   "cell_type": "markdown",
   "id": "b7646d09",
   "metadata": {},
   "source": [
    "#### Validación Cruzada"
   ]
  },
  {
   "cell_type": "code",
   "execution_count": 30,
   "id": "9a084758",
   "metadata": {},
   "outputs": [
    {
     "name": "stdout",
     "output_type": "stream",
     "text": [
      "Resultados de validación cruzada (10 pliegues):\n",
      "LogisticRegression - Precisión promedio: 0.791\n",
      "LogisticRegression - Log loss promedio: 0.467\n",
      "LogisticRegression - AUC promedio: 0.835\n"
     ]
    }
   ],
   "source": [
    "from sklearn.model_selection import cross_val_score\n",
    "\n",
    "# Crear el modelo de regresión logística\n",
    "logreg = LogisticRegression(max_iter=500)\n",
    "\n",
    "# Aplicar validación cruzada con 10 pliegues\n",
    "# Se evalúan tres métricas: precisión, log_loss y AUC\n",
    "puntajes_accuracy = cross_val_score(logreg, X_train, y_train, cv=10, scoring='accuracy')\n",
    "puntajes_log_loss = cross_val_score(logreg, X_train, y_train, cv=10, scoring='neg_log_loss')\n",
    "puntajes_auc = cross_val_score(logreg, X_train, y_train, cv=10, scoring='roc_auc')\n",
    "\n",
    "# Mostrar resultados promedio\n",
    "print(\"Resultados de validación cruzada (10 pliegues):\")\n",
    "print(f\"{logreg.__class__.__name__} - Precisión promedio: {puntajes_accuracy.mean():.3f}\")\n",
    "print(f\"{logreg.__class__.__name__} - Log loss promedio: {-puntajes_log_loss.mean():.3f}\")\n",
    "print(f\"{logreg.__class__.__name__} - AUC promedio: {puntajes_auc.mean():.3f}\")"
   ]
  },
  {
   "cell_type": "markdown",
   "id": "35b4583f",
   "metadata": {},
   "source": [
    "## Evaluación del modelo de regresión logística\n",
    "\n",
    "- Wl modelo de regresión logística tiene buen rendimiento general:\n",
    "  - Clasifica correctamente casi 8 de cada 10 casos.\n",
    "  - Tiene buena capacidad para distinguir entre sobrevivientes y no sobrevivientes.\n",
    "  - Las probabilidades que genera están razonablemente bien calibradas.\n",
    "\n",
    "- Si el objetivo es mejorar aún más:\n",
    "  - Puedes probar ingeniería de variables adicional.\n",
    "  - Ajustar hiperparámetros del modelo.\n",
    "  - Comparar con otros algoritmos como Random Forest, Gradient Boosting, entre otros."
   ]
  }
 ],
 "metadata": {
  "kernelspec": {
   "display_name": ".venv",
   "language": "python",
   "name": "python3"
  },
  "language_info": {
   "codemirror_mode": {
    "name": "ipython",
    "version": 3
   },
   "file_extension": ".py",
   "mimetype": "text/x-python",
   "name": "python",
   "nbconvert_exporter": "python",
   "pygments_lexer": "ipython3",
   "version": "3.13.6"
  }
 },
 "nbformat": 4,
 "nbformat_minor": 5
}
